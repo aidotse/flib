{
 "cells": [
  {
   "cell_type": "markdown",
   "metadata": {},
   "source": [
    "## Imports"
   ]
  },
  {
   "cell_type": "code",
   "execution_count": 1,
   "metadata": {},
   "outputs": [],
   "source": [
    "import numpy as np \n",
    "import torch \n",
    "from torch.utils.data import Dataset, DataLoader\n",
    "import json\n",
    "from datetime import datetime"
   ]
  },
  {
   "attachments": {},
   "cell_type": "markdown",
   "metadata": {},
   "source": [
    "## Global varibles"
   ]
  },
  {
   "cell_type": "code",
   "execution_count": 2,
   "metadata": {},
   "outputs": [],
   "source": [
    "DATASET = 'small16'\n",
    "BATCH_SIZE = 32\n",
    "OLD_MODEL = 'logreg-20230512T122508Z.txt'\n",
    "INPUT_SIZE = 5\n",
    "OUTPUT_SIZE = 1\n",
    "DEVICE = torch.device(\"cuda\" if torch.cuda.is_available() else \"cpu\")\n",
    "LEARNING_RATE = 0.001\n",
    "EPOCHS = 10"
   ]
  },
  {
   "attachments": {},
   "cell_type": "markdown",
   "metadata": {},
   "source": [
    "## Load data"
   ]
  },
  {
   "cell_type": "code",
   "execution_count": 3,
   "metadata": {},
   "outputs": [],
   "source": [
    "class Dataset(Dataset):\n",
    "    def __init__(self, X, y):\n",
    "        self.X = X, \n",
    "        self.y = y\n",
    "    \n",
    "    def __getitem__(self, idx):\n",
    "        X = self.X[0][idx].astype('float32') \n",
    "        y = self.y[idx].astype('float32')\n",
    "        return X, y\n",
    "    \n",
    "    def __len__(self):\n",
    "        return len(self.y)\n",
    "\n",
    "# load data\n",
    "X_train = np.load(f'./data/{DATASET}/X_train.npy')\n",
    "y_train = np.load(f'./data/{DATASET}/y_train.npy')\n",
    "X_test = np.load(f'./data/{DATASET}/X_test.npy')\n",
    "y_test = np.load(f'./data/{DATASET}/y_test.npy')\n",
    "\n",
    "# make datasets\n",
    "train_set = Dataset(X_train, y_train)\n",
    "test_set = Dataset(X_test, y_test)\n",
    "\n",
    "# make dataloaders\n",
    "train_loader = DataLoader(train_set, batch_size=BATCH_SIZE, shuffle=True)\n",
    "test_loader = DataLoader(test_set, batch_size=BATCH_SIZE, shuffle=False)\n"
   ]
  },
  {
   "attachments": {},
   "cell_type": "markdown",
   "metadata": {},
   "source": [
    "## Load model"
   ]
  },
  {
   "cell_type": "code",
   "execution_count": 4,
   "metadata": {},
   "outputs": [
    {
     "data": {
      "text/plain": [
       "LogisticRegression(\n",
       "  (linear): Linear(in_features=5, out_features=1, bias=True)\n",
       "  (sigmoid): Sigmoid()\n",
       ")"
      ]
     },
     "execution_count": 4,
     "metadata": {},
     "output_type": "execute_result"
    }
   ],
   "source": [
    "class LogisticRegression(torch.nn.Module):\n",
    "    def __init__(self, input_size, output_size):\n",
    "        super(LogisticRegression, self).__init__()\n",
    "        self.linear = torch.nn.Linear(input_size, output_size)\n",
    "        self.sigmoid = torch.nn.Sigmoid()\n",
    "    \n",
    "    def forward(self, x):\n",
    "        x = self.linear(x)\n",
    "        x = self.sigmoid(x)\n",
    "        return x\n",
    "\n",
    "def load_model_from_txt(model, file_path):\n",
    "    with open(file_path, 'r') as f:\n",
    "        state_dict_json = json.load(f)\n",
    "    state_dict = {k: torch.tensor(v) for k, v in state_dict_json.items()}\n",
    "    model.load_state_dict(state_dict)\n",
    "    return model\n",
    "\n",
    "# init model\n",
    "model = LogisticRegression(INPUT_SIZE, OUTPUT_SIZE)\n",
    "\n",
    "# uncoment to load old model\n",
    "model = load_model_from_txt(model, f'./models/{OLD_MODEL}')\n",
    "\n",
    "# move model to device\n",
    "model.to(DEVICE)"
   ]
  },
  {
   "attachments": {},
   "cell_type": "markdown",
   "metadata": {},
   "source": [
    "## Train model"
   ]
  },
  {
   "cell_type": "code",
   "execution_count": 5,
   "metadata": {},
   "outputs": [
    {
     "name": "stdout",
     "output_type": "stream",
     "text": [
      "Train loss: 0.22833787808194755\n",
      "Test loss from old model: 0.6311156749725342\n",
      "Test loss from new model: 0.6318812370300293\n"
     ]
    }
   ],
   "source": [
    "def train(model, train_loader):\n",
    "    optimizer = torch.optim.Adam(model.parameters(), lr=LEARNING_RATE)\n",
    "    criterion = torch.nn.BCELoss()\n",
    "    model.train()\n",
    "    losses = []\n",
    "    for _ in range(EPOCHS):\n",
    "        for X_train, y_true in train_loader:\n",
    "            X_train = X_train.to(DEVICE)\n",
    "            y_true = y_true.to(DEVICE)\n",
    "            optimizer.zero_grad()\n",
    "            y_pred = torch.squeeze(model(X_train))\n",
    "            loss = criterion(y_pred, y_true)\n",
    "            loss.backward()\n",
    "            optimizer.step()        \n",
    "            losses.append(loss.item())\n",
    "    loss = sum(losses)/len(losses) \n",
    "    return model, loss\n",
    "\n",
    "def test(model, test_loader):\n",
    "    criterion = torch.nn.BCELoss()\n",
    "    model.eval()\n",
    "    losses = []\n",
    "    with torch.no_grad():\n",
    "        for X_test, y_true in test_loader:\n",
    "            X_test = X_test.to(DEVICE)\n",
    "            y_true = y_true.to(DEVICE)\n",
    "            y_pred = torch.squeeze(model(X_test))\n",
    "            loss = criterion(y_pred, y_true)\n",
    "            losses.append(loss.item())\n",
    "    loss = sum(losses)/len(losses) \n",
    "    return loss\n",
    "\n",
    "test_loss_old = test(model, test_loader)\n",
    "model, train_loss = train(model, train_loader)\n",
    "test_loss = test(model, test_loader)\n",
    "\n",
    "print(f'Train loss: {train_loss}')\n",
    "print(f'Test loss from old model: {test_loss_old}')\n",
    "print(f'Test loss from new model: {test_loss}')"
   ]
  },
  {
   "attachments": {},
   "cell_type": "markdown",
   "metadata": {},
   "source": [
    "## Save new model"
   ]
  },
  {
   "cell_type": "code",
   "execution_count": 6,
   "metadata": {},
   "outputs": [],
   "source": [
    "def save_model_to_txt(model, file_path):\n",
    "    state_dict = model.state_dict()\n",
    "    state_dict_json = {k: v.tolist() for k, v in state_dict.items()}\n",
    "    with open(file_path, 'w') as f:\n",
    "        json.dump(state_dict_json, f)\n",
    "\n",
    "new_model_name = 'logreg' + '-' + datetime.utcnow().strftime('%Y%m%dT%H%M%S') + 'Z' + '.txt'\n",
    "save_model_to_txt(model, f'./models/{new_model_name}')"
   ]
  }
 ],
 "metadata": {
  "kernelspec": {
   "display_name": "test-for-banks",
   "language": "python",
   "name": "python3"
  },
  "language_info": {
   "codemirror_mode": {
    "name": "ipython",
    "version": 3
   },
   "file_extension": ".py",
   "mimetype": "text/x-python",
   "name": "python",
   "nbconvert_exporter": "python",
   "pygments_lexer": "ipython3",
   "version": "3.8.16"
  },
  "orig_nbformat": 4
 },
 "nbformat": 4,
 "nbformat_minor": 2
}
