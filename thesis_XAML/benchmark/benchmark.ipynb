{
 "cells": [
  {
   "cell_type": "code",
   "execution_count": 1,
   "metadata": {},
   "outputs": [],
   "source": [
    "import sys\n",
    "import pandas as pd\n",
    "import numpy as np\n",
    "from sklearn.preprocessing import StandardScaler\n",
    "from sklearn import tree\n",
    "from sklearn.model_selection import train_test_split\n",
    "from tools import proccess_data\n",
    "from sklearn.metrics import accuracy_score, recall_score, precision_score, f1_score\n",
    "import matplotlib.pyplot as plt\n",
    "from imblearn.over_sampling import RandomOverSampler\n"
   ]
  },
  {
   "cell_type": "code",
   "execution_count": 2,
   "metadata": {},
   "outputs": [],
   "source": [
    "def get_dataset_list(data_list):\n",
    "    dict = {}\n",
    "    for data_name in data_list:\n",
    "        edge_path = '../../AMLsim/outputs/'+data_name+'/tx_log.csv'\n",
    "        node_path = '../../AMLsim/outputs/'+data_name+'/node_log.csv'\n",
    "        edge_data = pd.read_csv(edge_path)\n",
    "        node_data = pd.read_csv(node_path)\n",
    "        features, labels = proccess_data(edge_data, node_data)\n",
    "        features = features.drop(['node_id'], axis=1)\n",
    "        labels = labels.drop(['node_id'], axis=1)\n",
    "      #  true_labels = true_labels.drop(['node_id'], axis=1)\n",
    "# Normalize the features\n",
    "        scaler = StandardScaler()\n",
    "        features = scaler.fit_transform(features)\n",
    "        dict[data_name] = [features, labels]\n",
    "\n",
    "    return dict\n",
    "        "
   ]
  },
  {
   "cell_type": "code",
   "execution_count": 3,
   "metadata": {},
   "outputs": [
    {
     "name": "stdout",
     "output_type": "stream",
     "text": [
      "ALL data is loaded\n"
     ]
    }
   ],
   "source": [
    "# data_name_list = ['100K_accts_BENCH', \n",
    "#                   '100K_accts_BENCH_HARDER', \n",
    "#                   '100K_accts_BENCH_HARDER2', \n",
    "#                   '100K_accts_BENCH_HARDER3', \n",
    "#                   '100K_accts_BENCH_SAMEDIST',\n",
    "#                   '100K_accts_BENCH_SAMEEVERYTHING',\n",
    "#                   '100K_accts_BENCH_SAMEEVERYTHING_GAMMA']\n",
    "\n",
    "data_name_list =['100K_accts_EASY25',\n",
    "                 '100K_accts_MID5',\n",
    "                 '100K_accts_HARD1' ]\n",
    "\n",
    "# data_name_list = ['100K_accts_BENCH', \n",
    "#                   '100K_accts_BENCH_MID',\n",
    "#                   '100K_accts_BENCH_HARDER']\n",
    "data_dict = get_dataset_list(data_name_list)\n",
    "\n",
    "print('ALL data is loaded')"
   ]
  },
  {
   "cell_type": "code",
   "execution_count": 19,
   "metadata": {},
   "outputs": [
    {
     "name": "stdout",
     "output_type": "stream",
     "text": [
      "   avg_amount_sent  total_amount_sent  total_transactions_sent  \\\n",
      "0           585.26            3511.57                      6.0   \n",
      "1           221.02            1105.10                      5.0   \n",
      "2           420.48            1681.92                      4.0   \n",
      "3           427.78            1283.35                      3.0   \n",
      "4           247.19             494.38                      2.0   \n",
      "\n",
      "   avg_amount_rec  total_amount_rec  total_transactions_rec  \\\n",
      "0          231.39            231.39                     1.0   \n",
      "1            0.00              0.00                     0.0   \n",
      "2            0.00              0.00                     0.0   \n",
      "3          651.54           1303.08                     2.0   \n",
      "4            0.00              0.00                     0.0   \n",
      "\n",
      "   avg_phone_changes  total_phone_changes  INIT_BALANCE  BANK_ID  \\\n",
      "0                0.0                  0.0      63986.15        0   \n",
      "1                0.0                  0.0      13712.27        0   \n",
      "2                0.0                  0.0      31289.35        0   \n",
      "3                0.0                  0.0      50495.37        0   \n",
      "4                0.0                  0.0      36094.26        0   \n",
      "\n",
      "   unique_accounts_sent  unique_accounts_rec  \n",
      "0                   1.0                  1.0  \n",
      "1                   1.0                  0.0  \n",
      "2                   1.0                  0.0  \n",
      "3                   1.0                  1.0  \n",
      "4                   1.0                  0.0  \n"
     ]
    }
   ],
   "source": [
    "data_name = '100K_accts_EASY25'\n",
    "\n",
    "edge_path = '../../AMLsim/outputs/'+data_name+'/tx_log.csv'\n",
    "node_path = '../../AMLsim/outputs/'+data_name+'/node_log.csv'\n",
    "\n",
    "edge_data = pd.read_csv(edge_path)\n",
    "node_data = pd.read_csv(node_path)\n",
    "features, labels = proccess_data(edge_data, node_data)\n",
    "\n",
    "#print(features.head())\n",
    "\n",
    "features = features.drop(['node_id'], axis=1)\n",
    "labels = labels.drop(['node_id'], axis=1)\n",
    "#true_labels = true_labels.drop(['node_id'], axis=1)\n",
    "\n",
    "print(features.head())"
   ]
  },
  {
   "cell_type": "code",
   "execution_count": 20,
   "metadata": {},
   "outputs": [
    {
     "name": "stdout",
     "output_type": "stream",
     "text": [
      "Max values:  avg_amount_sent             1971.05\n",
      "total_amount_sent          11990.57\n",
      "total_transactions_sent       10.00\n",
      "avg_amount_rec              4366.53\n",
      "total_amount_rec            8403.39\n",
      "total_transactions_rec         9.00\n",
      "avg_phone_changes              0.00\n",
      "total_phone_changes            0.00\n",
      "INIT_BALANCE               99999.42\n",
      "BANK_ID                        0.00\n",
      "unique_accounts_sent           5.00\n",
      "unique_accounts_rec            9.00\n",
      "dtype: float64\n"
     ]
    }
   ],
   "source": [
    "#Find the max amount for each feature\n",
    "max_vals = features.max()\n",
    "mean_vals = features.mean()\n",
    "std_vals = features.std()\n",
    "print('Max values: ', max_vals)\n",
    "#print('Mean values: ', mean_vals)\n",
    "#print('STD values: ', std_vals)"
   ]
  },
  {
   "cell_type": "code",
   "execution_count": 21,
   "metadata": {},
   "outputs": [
    {
     "name": "stdout",
     "output_type": "stream",
     "text": [
      "Max phone changes:  0.0\n"
     ]
    }
   ],
   "source": [
    "# Find max value for total phone changes\n",
    "max_phone_changes = features['total_phone_changes'].max()\n",
    "print('Max phone changes: ', max_phone_changes)"
   ]
  },
  {
   "cell_type": "code",
   "execution_count": 22,
   "metadata": {},
   "outputs": [
    {
     "data": {
      "text/plain": [
       "Index(['avg_amount_sent', 'total_amount_sent', 'total_transactions_sent',\n",
       "       'avg_amount_rec', 'total_amount_rec', 'total_transactions_rec',\n",
       "       'avg_phone_changes', 'total_phone_changes', 'INIT_BALANCE', 'BANK_ID',\n",
       "       'unique_accounts_sent', 'unique_accounts_rec'],\n",
       "      dtype='object')"
      ]
     },
     "execution_count": 22,
     "metadata": {},
     "output_type": "execute_result"
    }
   ],
   "source": [
    "feature_names=features.columns\n",
    "feature_names"
   ]
  },
  {
   "cell_type": "code",
   "execution_count": 23,
   "metadata": {},
   "outputs": [
    {
     "name": "stdout",
     "output_type": "stream",
     "text": [
      "Data is added\n"
     ]
    }
   ],
   "source": [
    "\n",
    "\n",
    "# Normalize the features\n",
    "scaler = StandardScaler()\n",
    "features = scaler.fit_transform(features)\n",
    "\n",
    "# Remove previous data named data_name\n",
    "if data_name in data_dict:\n",
    "    del data_dict[data_name]\n",
    "\n",
    "# Append to data_dict\n",
    "data_dict[data_name] = [features, labels]\n",
    "\n",
    "print('Data is added')\n"
   ]
  },
  {
   "cell_type": "code",
   "execution_count": 24,
   "metadata": {},
   "outputs": [
    {
     "name": "stdout",
     "output_type": "stream",
     "text": [
      "Data is chosen and split\n"
     ]
    }
   ],
   "source": [
    "name_of_data = data_name\n",
    "features = data_dict[name_of_data][0]\n",
    "labels = data_dict[name_of_data][1]\n",
    "#true_labels = data_dict[name_of_data][2]\n",
    "\n",
    "# Change shape to (n_samples,)\n",
    "labels = np.ravel(labels)\n",
    "#true_labels = np.ravel(true_labels)\n",
    "X_train, X_test, y_train, y_test = train_test_split(features, labels, test_size=0.2, random_state=42) # 2 \n",
    "#_, _, y_train_true, y_test_true = train_test_split(features, test_size=0.2, random_state=42)\n",
    "#y_train_true, y_test_true = train_test_split(features, test_size=0.2, random_state=42)\n",
    "\n",
    "print('Data is chosen and split')\n",
    "\n"
   ]
  },
  {
   "cell_type": "code",
   "execution_count": 25,
   "metadata": {},
   "outputs": [],
   "source": [
    "untouched_features = features\n"
   ]
  },
  {
   "cell_type": "code",
   "execution_count": 26,
   "metadata": {},
   "outputs": [],
   "source": [
    "# from sklearn.model_selection import GridSearchCV\n",
    "\n",
    "# param_grid = {'kernel': ['rbf']}\n",
    "# grid = GridSearchCV(svm.SVC(), param_grid, cv=5,scoring='average_precision', refit=True, verbose=3)\n",
    "\n",
    "# grid.fit(X_train, y_train)\n"
   ]
  },
  {
   "cell_type": "code",
   "execution_count": 27,
   "metadata": {},
   "outputs": [
    {
     "name": "stdout",
     "output_type": "stream",
     "text": [
      "Model is trained\n"
     ]
    }
   ],
   "source": [
    "tree_model = tree.DecisionTreeClassifier(class_weight='balanced', max_depth=9, min_samples_leaf=9, min_samples_split=9) # Grid Searched\n",
    "tree_model.fit(X_train, y_train)\n",
    "\n",
    "print('Model is trained')"
   ]
  },
  {
   "cell_type": "code",
   "execution_count": 28,
   "metadata": {},
   "outputs": [],
   "source": [
    "from sklearn.ensemble import GradientBoostingClassifier\n",
    "\n",
    "# Oversample the positive class\n",
    "from imblearn.over_sampling import RandomOverSampler\n",
    "ros = RandomOverSampler(sampling_strategy=0.7)\n",
    "\n",
    "X_train_ros, y_train_ros = ros.fit_resample(X_train, y_train)\n",
    "\n",
    "from sklearn.metrics import confusion_matrix\n",
    "\n",
    "def fpr_score(model, X, y_true):\n",
    "    y_pred = model.predict(X)\n",
    "    tn, fp, fn, tp = confusion_matrix(y_true, y_pred).ravel()\n",
    "    return fp / (fp + tp)\n",
    "\n",
    "from sklearn.model_selection import GridSearchCV\n",
    "param_grid = {\n",
    "    'learning_rate': [0.1],\n",
    "    'max_depth': [9,11],\n",
    "    'min_samples_leaf': [9,11],\n",
    "    'min_samples_split': [9,11]\n",
    "}\n",
    "\n",
    "# Sample so the model becomes more sensitive to the positive class\n",
    "sample_weight = np.ones(y_train_ros.shape[0])\n",
    "sample_weight[y_train_ros==1] = 15 # 25\n",
    "\n",
    "# grid = GridSearchCV(GradientBoostingClassifier(n_estimators=100), param_grid, cv=4, scoring=fpr_score, refit=True, verbose=3)\n",
    "\n",
    "# grid.fit(X_train_ros, y_train_ros)\n",
    "\n",
    "# print(grid.best_params_)\n"
   ]
  },
  {
   "cell_type": "code",
   "execution_count": 29,
   "metadata": {},
   "outputs": [
    {
     "name": "stdout",
     "output_type": "stream",
     "text": [
      "Model is trained\n"
     ]
    }
   ],
   "source": [
    "\n",
    "xdgboost_model = GradientBoostingClassifier(n_estimators=100, learning_rate=0.05, max_depth=5,min_samples_leaf=5, min_samples_split=5)\n",
    "xdgboost_model.fit(X_train_ros, y_train_ros, sample_weight)\n",
    "\n",
    "print('Model is trained')"
   ]
  },
  {
   "cell_type": "code",
   "execution_count": 30,
   "metadata": {},
   "outputs": [],
   "source": [
    "def precision_after_recall(model, X, y_true):\n",
    "    from sklearn.metrics import precision_recall_curve\n",
    "    y_pred = model.predict_proba(X)[:,1]\n",
    "    precision, recall, threshold = precision_recall_curve(y_true, y_pred)\n",
    "    desired_recall = 0.75\n",
    "    idx = np.argmax(recall <= desired_recall)\n",
    "    return precision[idx]\n"
   ]
  },
  {
   "cell_type": "code",
   "execution_count": 31,
   "metadata": {},
   "outputs": [
    {
     "name": "stdout",
     "output_type": "stream",
     "text": [
      "Model is trained\n"
     ]
    }
   ],
   "source": [
    "from sklearn.ensemble import RandomForestClassifier\n",
    "from sklearn.model_selection import GridSearchCV\n",
    "\n",
    "# param_grid = {'max_depth': [15,17,19],'min_samples_leaf': [11],'min_samples_split': [9]}\n",
    "\n",
    "# grid = GridSearchCV(RandomForestClassifier(n_estimators=100), param_grid, cv=5, scoring=precision_after_recall, refit=True, verbose=3)\n",
    "# grid.fit(X_train_ros, y_train_ros)\n",
    "\n",
    "# print(grid.best_params_)\n",
    "\n",
    "# random_forest_model = RandomForestClassifier(n_estimators=100, max_depth=31, min_samples_leaf=11, min_samples_split=9) # Grid Searched\n",
    "random_forest_model = RandomForestClassifier(n_estimators=100, max_depth=21, min_samples_leaf=11, min_samples_split=9) \n",
    "\n",
    "random_forest_model.fit(X_train_ros,y_train_ros,sample_weight)\n",
    "\n",
    "print('Model is trained')"
   ]
  },
  {
   "cell_type": "code",
   "execution_count": 32,
   "metadata": {},
   "outputs": [
    {
     "data": {
      "image/png": "[encoded data removed]",
      "text/plain": [
       "<Figure size 640x480 with 1 Axes>"
      ]
     },
     "metadata": {},
     "output_type": "display_data"
    },
    {
     "data": {
      "image/png": "[encoded data removed]",
      "text/plain": [
       "<Figure size 640x480 with 1 Axes>"
      ]
     },
     "metadata": {},
     "output_type": "display_data"
    }
   ],
   "source": [
    "from sklearn.metrics import PrecisionRecallDisplay\n",
    "\n",
    "# display = PrecisionRecallDisplay.from_estimator(svm_model, X_test, y_test, name='SVM')\n",
    "# display.plot()\n",
    "\n",
    "# In the same plot, plot all the different models precision-recall curves, using the models not the predictions\n",
    "names = ['Random Forest']\n",
    "models = [random_forest_model]\n",
    "fig, ax = plt.subplots()\n",
    "for i, model in enumerate(models):\n",
    "    display = PrecisionRecallDisplay.from_estimator(model, X_test, y_test, name=names[i])\n",
    "    display.plot(ax=ax)"
   ]
  },
  {
   "cell_type": "code",
   "execution_count": 33,
   "metadata": {},
   "outputs": [
    {
     "name": "stdout",
     "output_type": "stream",
     "text": [
      "[[ 3053 12076]\n",
      " [  975  3896]]\n",
      "12076\n",
      "False positive rate: 0.7560731279739544\n"
     ]
    }
   ],
   "source": [
    "from sklearn.metrics import precision_recall_curve\n",
    "\n",
    "model = random_forest_model\n",
    "\n",
    "y_true = y_test\n",
    "y_scores = model.predict_proba(X_test)[:,1]\n",
    "\n",
    "# Assuming 'y_true' is your true labels and 'y_scores' are the predicted probabilities\n",
    "precision, recall, thresholds = precision_recall_curve(y_true, y_scores)\n",
    "\n",
    "# Get the threshold where recall = \n",
    "desired_recall = 0.8\n",
    "\n",
    "threshold = thresholds[np.argmax(recall <= desired_recall)]\n",
    "# print(threshold)\n",
    "\n",
    "# Confusion matrix\n",
    "from sklearn.metrics import confusion_matrix\n",
    "\n",
    "# y_pred = xdgboost_model.predict(X_test)\n",
    "y_pred = model.predict_proba(X_test)\n",
    "\n",
    "y_pred = (y_pred[:,1] > threshold).astype(int)\n",
    "\n",
    "conf_matrix = confusion_matrix(y_test, y_pred)\n",
    "print(conf_matrix)\n",
    "\n",
    "# print(\"Precision: \", precision_score(y_test, y_pred))\n",
    "\n",
    "# Calculate false positive rate\n",
    "tn, fp, fn, tp = confusion_matrix(y_test, y_pred).ravel()\n",
    "\n",
    "print(fp)\n",
    "\n",
    "fpr = fp/(fp+tp)\n",
    "print('False positive rate:', fpr)\n",
    "\n",
    "# Display the confusion matrix nicely\n"
   ]
  },
  {
   "cell_type": "code",
   "execution_count": 34,
   "metadata": {},
   "outputs": [
    {
     "name": "stdout",
     "output_type": "stream",
     "text": [
      "Feature ranking:\n",
      "1. feature 8 (0.229699)\n",
      "2. feature 1 (0.222316)\n",
      "3. feature 0 (0.218275)\n",
      "4. feature 4 (0.138213)\n",
      "5. feature 3 (0.136399)\n",
      "6. feature 2 (0.028048)\n",
      "7. feature 5 (0.012534)\n",
      "8. feature 11 (0.007393)\n",
      "9. feature 10 (0.007124)\n",
      "10. feature 9 (0.000000)\n",
      "11. feature 7 (0.000000)\n",
      "12. feature 6 (0.000000)\n"
     ]
    }
   ],
   "source": [
    "# Print the important features\n",
    "importances = model.feature_importances_\n",
    "indices = np.argsort(importances)[::-1]\n",
    "print(\"Feature ranking:\")\n",
    "for f in range(X_train.shape[1]):\n",
    "    print(\"%d. feature %d (%f)\" % (f + 1, indices[f], importances[indices[f]]))"
   ]
  },
  {
   "cell_type": "code",
   "execution_count": 35,
   "metadata": {},
   "outputs": [
    {
     "name": "stdout",
     "output_type": "stream",
     "text": [
      "Feature mean values:  [ 2.23838286e-03  2.21812631e-03  1.49337767e-03 -8.47174388e-04\n",
      " -3.36834123e-04 -9.06700402e-05  0.00000000e+00  0.00000000e+00\n",
      "  2.94238263e-04  0.00000000e+00  6.36240460e-04 -7.55873606e-04]\n",
      "Feature std values:  [1.0017319  1.00057841 1.00163457 0.99941405 1.0010897  0.99911581\n",
      " 0.         0.         1.00028549 0.         1.00233622 0.99829765]\n"
     ]
    }
   ],
   "source": [
    "# calculate feature mean and std values\n",
    "feature_mean = np.mean(X_train, axis=0)\n",
    "feature_std = np.std(X_train, axis=0)\n",
    "\n",
    "# print\n",
    "print('Feature mean values: ', feature_mean)\n",
    "print('Feature std values: ', feature_std)\n"
   ]
  },
  {
   "cell_type": "code",
   "execution_count": 257,
   "metadata": {},
   "outputs": [],
   "source": [
    "# Tunead\n",
    "# BENCH\n",
    "# False positive rate: 0.6086503387180824\n",
    "\n",
    "# MID_EA\n",
    "# False positive rate: 0.8046814044213264\n",
    "\n",
    "# MID\n",
    "# False positive rate: 0.8247254031315728\n",
    "\n",
    "# HARDER\n",
    "# False positive rate: 0.8343260533862784\n"
   ]
  },
  {
   "cell_type": "code",
   "execution_count": 258,
   "metadata": {},
   "outputs": [],
   "source": [
    "# Recall = 0.7\n",
    "# Otunead model\n",
    "# BENCH\n",
    "# False positive rate: 0.6373464373464374\n",
    "\n",
    "# SAMEEVERYTHING\n",
    "# False positive rate: 0.9411801358340084\n"
   ]
  },
  {
   "cell_type": "code",
   "execution_count": 259,
   "metadata": {},
   "outputs": [],
   "source": [
    "# HARDER 3\n",
    "# FPR 0.9236391129032258"
   ]
  },
  {
   "cell_type": "code",
   "execution_count": 260,
   "metadata": {},
   "outputs": [],
   "source": [
    "# BENCH\n",
    "# AP: TREE 0.75, XGB: 0.77\n",
    "# XGB FPR: 0.915\n",
    "# RF FPR: 0.93\n",
    "\n",
    "# BENCH_HARDER\n",
    "# AP: TREE 0.58, XGB: 0.64\n",
    "# FPR: 0.92\n",
    "\n",
    "# BENCH_HARDER2\n",
    "# AP: TREE 0.55, XGB: 0.62\n",
    "# FPR: 0.92\n",
    "\n",
    "# BENCH_HARDER3\n",
    "# AP: TREE 0.56, XGB: 0.61\n",
    "# FPR: 0.92\n",
    "\n",
    "# SAMEDIST\n",
    "# AP: TREE 0.57, XGB: 0.62\n",
    "# FPR: 0.53\n",
    "\n",
    "# SAMEEVERYTHING\n",
    "# XGB FPR: 0.92\n",
    "# RF FP: 0.95"
   ]
  },
  {
   "cell_type": "code",
   "execution_count": 44,
   "metadata": {},
   "outputs": [
    {
     "name": "stdout",
     "output_type": "stream",
     "text": [
      "0.025472135028045077\n"
     ]
    }
   ],
   "source": [
    "FP = 495\n",
    "TN = 18938\n",
    "print(FP/(FP+TN))"
   ]
  },
  {
   "cell_type": "code",
   "execution_count": 45,
   "metadata": {},
   "outputs": [
    {
     "name": "stdout",
     "output_type": "stream",
     "text": [
      "96.3855421686747\n"
     ]
    }
   ],
   "source": [
    "frac = 80/83\n",
    "print(frac*100)"
   ]
  }
 ],
 "metadata": {
  "kernelspec": {
   "display_name": "tnevenv",
   "language": "python",
   "name": "python3"
  },
  "language_info": {
   "codemirror_mode": {
    "name": "ipython",
    "version": 3
   },
   "file_extension": ".py",
   "mimetype": "text/x-python",
   "name": "python",
   "nbconvert_exporter": "python",
   "pygments_lexer": "ipython3",
   "version": "3.10.12"
  }
 },
 "nbformat": 4,
 "nbformat_minor": 2
}
