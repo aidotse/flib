{
 "cells": [
  {
   "cell_type": "code",
   "execution_count": 1,
   "metadata": {},
   "outputs": [],
   "source": [
    "import sys\n",
    "import pandas as pd\n",
    "import numpy as np\n",
    "from sklearn.preprocessing import StandardScaler\n",
    "from sklearn import tree\n",
    "from sklearn.model_selection import train_test_split\n",
    "from tools import proccess_data\n",
    "from sklearn.metrics import accuracy_score, recall_score, precision_score, f1_score\n",
    "import matplotlib.pyplot as plt\n",
    "from imblearn.over_sampling import RandomOverSampler\n"
   ]
  },
  {
   "cell_type": "code",
   "execution_count": 2,
   "metadata": {},
   "outputs": [],
   "source": [
    "def get_dataset_list(data_list):\n",
    "    dict = {}\n",
    "    for data_name in data_list:\n",
    "        edge_path = '../../AMLsim/outputs/'+data_name+'/tx_log.csv'\n",
    "        node_path = '../../AMLsim/outputs/'+data_name+'/node_log.csv'\n",
    "        edge_data = pd.read_csv(edge_path)\n",
    "        node_data = pd.read_csv(node_path)\n",
    "        features, labels = proccess_data(edge_data, node_data)#, true_labels = proccess_data(edge_data, node_data)\n",
    "        features = features.drop(['node_id'], axis=1)\n",
    "        labels = labels.drop(['node_id'], axis=1)\n",
    "        #true_labels = true_labels.drop(['node_id'], axis=1)\n",
    "# Normalize the features\n",
    "        scaler = StandardScaler()\n",
    "        features = scaler.fit_transform(features)\n",
    "        dict[data_name] = [features, labels] #, true_labels]\n",
    "\n",
    "    return dict\n",
    "        "
   ]
  },
  {
   "cell_type": "code",
   "execution_count": 3,
   "metadata": {},
   "outputs": [
    {
     "ename": "",
     "evalue": "",
     "output_type": "error",
     "traceback": [
      "\u001b[1;31mThe Kernel crashed while executing code in the current cell or a previous cell. \n",
      "\u001b[1;31mPlease review the code in the cell(s) to identify a possible cause of the failure. \n",
      "\u001b[1;31mClick <a href='https://aka.ms/vscodeJupyterKernelCrash'>here</a> for more info. \n",
      "\u001b[1;31mView Jupyter <a href='command:jupyter.viewOutput'>log</a> for further details."
     ]
    }
   ],
   "source": [
    "# data_name_list = ['100K_accts_BENCH', \n",
    "#                   '100K_accts_BENCH_HARDER', \n",
    "#                   '100K_accts_BENCH_HARDER2', \n",
    "#                   '100K_accts_BENCH_HARDER3', \n",
    "#                   '100K_accts_BENCH_SAMEDIST',\n",
    "#                   '100K_accts_BENCH_SAMEEVERYTHING',\n",
    "#                   '100K_accts_BENCH_SAMEEVERYTHING_GAMMA']\n",
    "\n",
    "# data_name_list = ['100K_accts_BENCH', \n",
    "#                   '100K_accts_BENCH_MID',\n",
    "#                   '100K_accts_BENCH_HARDER']\n",
    "\n",
    "data_name_list = ['100K_accts_MID5']\n",
    "\n",
    "data_dict = get_dataset_list(data_name_list)\n",
    "\n",
    "print('ALL data is loaded')"
   ]
  },
  {
   "cell_type": "code",
   "execution_count": null,
   "metadata": {},
   "outputs": [
    {
     "name": "stdout",
     "output_type": "stream",
     "text": [
      "   node_id  avg_amount_sent  total_amount_sent  total_transactions_sent  \\\n",
      "0        0           959.96          193911.81                      202   \n",
      "1        1          1186.17          263330.57                      222   \n",
      "2        2           716.11          148234.69                      207   \n",
      "3        3          2300.47          478498.27                      208   \n",
      "4        4           831.54          165475.85                      199   \n",
      "\n",
      "   avg_amount_rec  total_amount_rec  total_transactions_rec  \\\n",
      "0         5270.16         258237.98                      49   \n",
      "1         5518.50         320072.80                      58   \n",
      "2         2774.09         130382.16                      47   \n",
      "3        13482.53         714574.11                      53   \n",
      "4         2735.99         169631.39                      62   \n",
      "\n",
      "   avg_phone_changes  total_phone_changes  INIT_BALANCE  BANK_ID  \\\n",
      "0                0.0                    0      23512.34        0   \n",
      "1                0.0                    0      41638.22        0   \n",
      "2                0.0                    0      34793.33        0   \n",
      "3                0.0                    0      57312.84        0   \n",
      "4                0.0                    0      93481.29        0   \n",
      "\n",
      "   unique_accounts_sent  unique_accounts_rec  \n",
      "0                     3                    1  \n",
      "1                     3                    1  \n",
      "2                     3                    1  \n",
      "3                     3                    1  \n",
      "4                     3                    1  \n",
      "Data is added\n"
     ]
    }
   ],
   "source": [
    "# data_name = '100K_accts_BENCH_MID_EA_25'\n",
    "data_name = '100K_accts_MID5'\n",
    "\n",
    "edge_path = '../../AMLsim/outputs/'+data_name+'/tx_log.csv'\n",
    "node_path = '../../AMLsim/outputs/'+data_name+'/node_log.csv'\n",
    "\n",
    "edge_data = pd.read_csv(edge_path)\n",
    "node_data = pd.read_csv(node_path)\n",
    "#features, labels, true_labels = proccess_data(edge_data, node_data)\n",
    "features, labels = proccess_data(edge_data, node_data)\n",
    "\n",
    "print(features.head())\n",
    "\n",
    "features = features.drop(['node_id'], axis=1)\n",
    "labels = labels.drop(['node_id'], axis=1)\n",
    "#true_labels = true_labels.drop(['node_id'], axis=1)\n",
    "\n",
    "\n",
    "# Normalize the features\n",
    "scaler = StandardScaler()\n",
    "features = scaler.fit_transform(features)\n",
    "\n",
    "# Remove previous data named data_name\n",
    "if data_name in data_dict:\n",
    "    del data_dict[data_name]\n",
    "\n",
    "# Append to data_dict\n",
    "data_dict[data_name] = [features, labels] #, true_labels]\n",
    "\n",
    "print('Data is added')\n"
   ]
  },
  {
   "cell_type": "code",
   "execution_count": null,
   "metadata": {},
   "outputs": [
    {
     "name": "stdout",
     "output_type": "stream",
     "text": [
      "Data is chosen and split\n"
     ]
    }
   ],
   "source": [
    "#name_of_data = '100K_accts_BENCH_MID_EA'\n",
    "name_of_data = '100K_accts_MID5'\n",
    "\n",
    "features = data_dict[name_of_data][0]\n",
    "labels = data_dict[name_of_data][1]\n",
    "#true_labels = data_dict[name_of_data][2]\n",
    "\n",
    "# Change shape to (n_samples,)\n",
    "labels = np.ravel(labels)\n",
    "#true_labels = np.ravel(true_labels)\n",
    "X_train, X_test, y_train, y_test = train_test_split(features, labels, test_size=0.2, random_state=42) # 2 \n",
    "#_, _, y_train_true, y_test_true = train_test_split(features, true_labels, test_size=0.2, random_state=42)\n",
    "\n",
    "print('Data is chosen and split')"
   ]
  },
  {
   "cell_type": "code",
   "execution_count": null,
   "metadata": {},
   "outputs": [],
   "source": [
    "untouched_features = features"
   ]
  },
  {
   "cell_type": "code",
   "execution_count": 248,
   "metadata": {},
   "outputs": [],
   "source": [
    "# from sklearn.model_selection import GridSearchCV\n",
    "\n",
    "# param_grid = {'kernel': ['rbf']}\n",
    "# grid = GridSearchCV(svm.SVC(), param_grid, cv=5,scoring='average_precision', refit=True, verbose=3)\n",
    "\n",
    "# grid.fit(X_train, y_train)\n"
   ]
  },
  {
   "cell_type": "code",
   "execution_count": 249,
   "metadata": {},
   "outputs": [
    {
     "name": "stdout",
     "output_type": "stream",
     "text": [
      "Model is trained\n"
     ]
    }
   ],
   "source": [
    "tree_model = tree.DecisionTreeClassifier(class_weight='balanced', max_depth=9, min_samples_leaf=9, min_samples_split=9) # Grid Searched\n",
    "tree_model.fit(X_train, y_train)\n",
    "\n",
    "print('Model is trained')"
   ]
  },
  {
   "cell_type": "code",
   "execution_count": 250,
   "metadata": {},
   "outputs": [],
   "source": [
    "from sklearn.ensemble import GradientBoostingClassifier\n",
    "\n",
    "# Oversample the positive class\n",
    "from imblearn.over_sampling import RandomOverSampler\n",
    "ros = RandomOverSampler(sampling_strategy=0.7)\n",
    "\n",
    "X_train_ros, y_train_ros = ros.fit_resample(X_train, y_train)\n",
    "\n",
    "from sklearn.metrics import confusion_matrix\n",
    "\n",
    "def fpr_score(model, X, y_true):\n",
    "    y_pred = model.predict(X)\n",
    "    tn, fp, fn, tp = confusion_matrix(y_true, y_pred).ravel()\n",
    "    return fp / (fp + tp)\n",
    "\n",
    "from sklearn.model_selection import GridSearchCV\n",
    "param_grid = {\n",
    "    'learning_rate': [0.1],\n",
    "    'max_depth': [9,11],\n",
    "    'min_samples_leaf': [9,11],\n",
    "    'min_samples_split': [9,11]\n",
    "}\n",
    "\n",
    "# Sample so the model becomes more sensitive to the positive class\n",
    "sample_weight = np.ones(y_train_ros.shape[0])\n",
    "sample_weight[y_train_ros==1] = 15 # 25\n",
    "\n",
    "# grid = GridSearchCV(GradientBoostingClassifier(n_estimators=100), param_grid, cv=4, scoring=fpr_score, refit=True, verbose=3)\n",
    "\n",
    "# grid.fit(X_train_ros, y_train_ros)\n",
    "\n",
    "# print(grid.best_params_)\n"
   ]
  },
  {
   "cell_type": "code",
   "execution_count": 251,
   "metadata": {},
   "outputs": [],
   "source": [
    "\n",
    "xdgboost_model = GradientBoostingClassifier(n_estimators=100, learning_rate=0.05, max_depth=5,min_samples_leaf=5, min_samples_split=5)\n",
    "xdgboost_model.fit(X_train_ros, y_train_ros, sample_weight)\n",
    "\n",
    "print('Model is trained')"
   ]
  },
  {
   "cell_type": "code",
   "execution_count": 252,
   "metadata": {},
   "outputs": [],
   "source": [
    "def precision_after_recall(model, X, y_true):\n",
    "    from sklearn.metrics import precision_recall_curve\n",
    "    y_pred = model.predict_proba(X)[:,1]\n",
    "    precision, recall, threshold = precision_recall_curve(y_true, y_pred)\n",
    "    desired_recall = 0.75\n",
    "    idx = np.argmax(recall <= desired_recall)\n",
    "    return precision[idx]\n"
   ]
  },
  {
   "cell_type": "code",
   "execution_count": 253,
   "metadata": {},
   "outputs": [
    {
     "name": "stdout",
     "output_type": "stream",
     "text": [
      "Model is trained\n"
     ]
    }
   ],
   "source": [
    "from sklearn.ensemble import RandomForestClassifier\n",
    "from sklearn.model_selection import GridSearchCV\n",
    "\n",
    "# param_grid = {'max_depth': [15,17,19],'min_samples_leaf': [11],'min_samples_split': [9]}\n",
    "\n",
    "# grid = GridSearchCV(RandomForestClassifier(n_estimators=100), param_grid, cv=5, scoring=precision_after_recall, refit=True, verbose=3)\n",
    "# grid.fit(X_train_ros, y_train_ros)\n",
    "\n",
    "# print(grid.best_params_)\n",
    "\n",
    "# random_forest_model = RandomForestClassifier(n_estimators=100, max_depth=31, min_samples_leaf=11, min_samples_split=9) # Grid Searched\n",
    "random_forest_model = RandomForestClassifier(n_estimators=100, max_depth=21, min_samples_leaf=11, min_samples_split=9) \n",
    "\n",
    "random_forest_model.fit(X_train_ros,y_train_ros,sample_weight)\n",
    "\n",
    "print('Model is trained')"
   ]
  },
  {
   "cell_type": "code",
   "execution_count": 254,
   "metadata": {},
   "outputs": [
    {
     "data": {
      "image/png": "[encoded data removed]",
      "text/plain": [
       "<Figure size 640x480 with 1 Axes>"
      ]
     },
     "metadata": {},
     "output_type": "display_data"
    },
    {
     "data": {
      "image/png": "[encoded data removed]",
      "text/plain": [
       "<Figure size 640x480 with 1 Axes>"
      ]
     },
     "metadata": {},
     "output_type": "display_data"
    }
   ],
   "source": [
    "from sklearn.metrics import PrecisionRecallDisplay\n",
    "\n",
    "# display = PrecisionRecallDisplay.from_estimator(svm_model, X_test, y_test, name='SVM')\n",
    "# display.plot()\n",
    "\n",
    "# In the same plot, plot all the different models precision-recall curves, using the models not the predictions\n",
    "names = ['Random Forest']\n",
    "models = [random_forest_model]\n",
    "fig, ax = plt.subplots()\n",
    "for i, model in enumerate(models):\n",
    "    display = PrecisionRecallDisplay.from_estimator(model, X_test, y_test, name=names[i])\n",
    "    display.plot(ax=ax)"
   ]
  },
  {
   "cell_type": "code",
   "execution_count": 255,
   "metadata": {},
   "outputs": [
    {
     "name": "stdout",
     "output_type": "stream",
     "text": [
      "[[15969  3092]\n",
      " [  188   751]]\n",
      "3092\n",
      "False positive rate: 0.8045797553994275\n"
     ]
    }
   ],
   "source": [
    "from sklearn.metrics import precision_recall_curve\n",
    "\n",
    "model = random_forest_model\n",
    "\n",
    "y_true = y_test\n",
    "y_scores = model.predict_proba(X_test)[:,1]\n",
    "\n",
    "# Assuming 'y_true' is your true labels and 'y_scores' are the predicted probabilities\n",
    "precision, recall, thresholds = precision_recall_curve(y_true, y_scores)\n",
    "\n",
    "# Get the threshold where recall = \n",
    "desired_recall = 0.8\n",
    "\n",
    "threshold = thresholds[np.argmax(recall <= desired_recall)]\n",
    "# print(threshold)\n",
    "\n",
    "# Confusion matrix\n",
    "from sklearn.metrics import confusion_matrix\n",
    "\n",
    "# y_pred = xdgboost_model.predict(X_test)\n",
    "y_pred = model.predict_proba(X_test)\n",
    "\n",
    "y_pred = (y_pred[:,1] > threshold).astype(int)\n",
    "\n",
    "conf_matrix = confusion_matrix(y_test, y_pred)\n",
    "print(conf_matrix)\n",
    "\n",
    "# print(\"Precision: \", precision_score(y_test, y_pred))\n",
    "\n",
    "# Calculate false positive rate\n",
    "tn, fp, fn, tp = confusion_matrix(y_test, y_pred).ravel()\n",
    "\n",
    "print(fp)\n",
    "\n",
    "fpr = fp/(fp+tp)\n",
    "print('False positive rate:', fpr)\n",
    "\n",
    "# Display the confusion matrix nicely\n"
   ]
  },
  {
   "cell_type": "code",
   "execution_count": 256,
   "metadata": {},
   "outputs": [
    {
     "name": "stdout",
     "output_type": "stream",
     "text": [
      "Feature ranking:\n",
      "1. feature 11 (0.196815)\n",
      "2. feature 10 (0.191178)\n",
      "3. feature 3 (0.114771)\n",
      "4. feature 4 (0.104412)\n",
      "5. feature 1 (0.103468)\n",
      "6. feature 0 (0.089508)\n",
      "7. feature 2 (0.076471)\n",
      "8. feature 8 (0.070574)\n",
      "9. feature 5 (0.052060)\n",
      "10. feature 7 (0.000376)\n",
      "11. feature 6 (0.000368)\n",
      "12. feature 9 (0.000000)\n"
     ]
    }
   ],
   "source": [
    "# Print the important features\n",
    "importances = model.feature_importances_\n",
    "indices = np.argsort(importances)[::-1]\n",
    "print(\"Feature ranking:\")\n",
    "for f in range(X_train.shape[1]):\n",
    "    print(\"%d. feature %d (%f)\" % (f + 1, indices[f], importances[indices[f]]))"
   ]
  },
  {
   "cell_type": "code",
   "execution_count": 257,
   "metadata": {},
   "outputs": [],
   "source": [
    "# Tunead\n",
    "# BENCH\n",
    "# False positive rate: 0.6086503387180824\n",
    "\n",
    "# MID_EA\n",
    "# False positive rate: 0.8046814044213264\n",
    "\n",
    "# MID\n",
    "# False positive rate: 0.8247254031315728\n",
    "\n",
    "# HARDER\n",
    "# False positive rate: 0.8343260533862784\n"
   ]
  },
  {
   "cell_type": "code",
   "execution_count": 258,
   "metadata": {},
   "outputs": [],
   "source": [
    "# Recall = 0.7\n",
    "# Otunead model\n",
    "# BENCH\n",
    "# False positive rate: 0.6373464373464374\n",
    "\n",
    "# SAMEEVERYTHING\n",
    "# False positive rate: 0.9411801358340084\n"
   ]
  },
  {
   "cell_type": "code",
   "execution_count": 259,
   "metadata": {},
   "outputs": [],
   "source": [
    "# HARDER 3\n",
    "# FPR 0.9236391129032258"
   ]
  },
  {
   "cell_type": "code",
   "execution_count": 260,
   "metadata": {},
   "outputs": [],
   "source": [
    "# BENCH\n",
    "# AP: TREE 0.75, XGB: 0.77\n",
    "# XGB FPR: 0.915\n",
    "# RF FPR: 0.93\n",
    "\n",
    "# BENCH_HARDER\n",
    "# AP: TREE 0.58, XGB: 0.64\n",
    "# FPR: 0.92\n",
    "\n",
    "# BENCH_HARDER2\n",
    "# AP: TREE 0.55, XGB: 0.62\n",
    "# FPR: 0.92\n",
    "\n",
    "# BENCH_HARDER3\n",
    "# AP: TREE 0.56, XGB: 0.61\n",
    "# FPR: 0.92\n",
    "\n",
    "# SAMEDIST\n",
    "# AP: TREE 0.57, XGB: 0.62\n",
    "# FPR: 0.53\n",
    "\n",
    "# SAMEEVERYTHING\n",
    "# XGB FPR: 0.92\n",
    "# RF FP: 0.95"
   ]
  },
  {
   "cell_type": "code",
   "execution_count": 261,
   "metadata": {},
   "outputs": [
    {
     "name": "stdout",
     "output_type": "stream",
     "text": [
      "0.025472135028045077\n"
     ]
    }
   ],
   "source": [
    "FP = 495\n",
    "TN = 18938\n",
    "print(FP/(FP+TN))"
   ]
  },
  {
   "cell_type": "code",
   "execution_count": 262,
   "metadata": {},
   "outputs": [
    {
     "name": "stdout",
     "output_type": "stream",
     "text": [
      "96.3855421686747\n"
     ]
    }
   ],
   "source": [
    "frac = 80/83\n",
    "print(frac*100)"
   ]
  }
 ],
 "metadata": {
  "kernelspec": {
   "display_name": "EXPLORERvenv",
   "language": "python",
   "name": "python3"
  },
  "language_info": {
   "codemirror_mode": {
    "name": "ipython",
    "version": 3
   },
   "file_extension": ".py",
   "mimetype": "text/x-python",
   "name": "python",
   "nbconvert_exporter": "python",
   "pygments_lexer": "ipython3",
   "version": "3.10.12"
  }
 },
 "nbformat": 4,
 "nbformat_minor": 2
}
