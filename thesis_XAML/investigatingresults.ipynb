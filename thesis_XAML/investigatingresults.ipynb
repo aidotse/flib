{
 "cells": [
  {
   "cell_type": "code",
   "execution_count": null,
   "metadata": {},
   "outputs": [],
   "source": [
    "## Load dataset with and without SAR\n",
    "from importlib import reload\n",
    "import numpy as np\n",
    "import pandas as pd\n",
    "import matplotlib.pyplot as plt\n",
    "import seaborn as sns\n",
    "import os\n",
    "\n",
    "import data\n",
    "\n",
    "import SyntheticDatacheck\n",
    "reload(SyntheticDatacheck)\n",
    "\n",
    "from evaluation import load_model\n",
    "from train import train_GAT_GraphSVX_foroptuna, train_GraphSAGE_foroptuna\n",
    "import torch\n",
    "\n",
    "from evaluation import get_sar_indices"
   ]
  },
  {
   "cell_type": "code",
   "execution_count": null,
   "metadata": {},
   "outputs": [],
   "source": [
    "model_name='GAT'\n",
    "dataset_name='100K_accts_MID5'\n",
    "model, traindata, testdata, feature_names, target_names = load_model('GAT', dataset_name)\n"
   ]
  },
  {
   "cell_type": "code",
   "execution_count": null,
   "metadata": {},
   "outputs": [],
   "source": [
    "sar_indices=get_sar_indices(model,testdata)\n",
    "\n",
    "sar_indices_used=sar_indices[:500]"
   ]
  },
  {
   "cell_type": "code",
   "execution_count": null,
   "metadata": {},
   "outputs": [
    {
     "data": {
      "text/plain": [
       "425"
      ]
     },
     "execution_count": 172,
     "metadata": {},
     "output_type": "execute_result"
    }
   ],
   "source": [
    "sar_indices_used[36]"
   ]
  },
  {
   "cell_type": "code",
   "execution_count": null,
   "metadata": {},
   "outputs": [],
   "source": [
    "model.set_return_attention_weights(True)\n",
    "model.eval()\n",
    "with torch.no_grad():\n",
    "    _,attention_weights = model.forward(testdata.x, testdata.edge_index)"
   ]
  },
  {
   "cell_type": "code",
   "execution_count": null,
   "metadata": {},
   "outputs": [
    {
     "name": "stdout",
     "output_type": "stream",
     "text": [
      "last_sar_index 6481\n",
      "last_sar_index 6481\n",
      "agg Index(['sum', 'in_sum', 'out_sum', 'mean', 'in_mean', 'out_mean', 'median',\n",
      "       'in_median', 'out_median', 'std', 'in_std', 'out_std', 'max', 'in_max',\n",
      "       'out_max', 'min', 'in_min', 'out_min', 'count_in', 'count_out',\n",
      "       'n_unique_in', 'n_unique_out', 'count_days_in_bank',\n",
      "       'count_phone_changes', 'sum_spending', 'mean_spending',\n",
      "       'median_spending', 'std_spending', 'max_spending', 'min_spending',\n",
      "       'count_spending', 'is_sar', 'account'],\n",
      "      dtype='object')\n"
     ]
    },
    {
     "name": "stderr",
     "output_type": "stream",
     "text": [
      "divide by zero encountered in log\n"
     ]
    },
    {
     "name": "stdout",
     "output_type": "stream",
     "text": [
      "importance        account  count_days_in_bank_1  count_in_1  count_out_1  \\\n",
      "0        44638              1.569988    1.858448     1.405133   \n",
      "1        49624              1.569988    1.858448     1.405133   \n",
      "2        92402              1.569988    1.858448     1.405133   \n",
      "3        13102              1.569988    1.858448     1.405133   \n",
      "4        84116              1.569988    1.858448     1.405133   \n",
      "...        ...                   ...         ...          ...   \n",
      "99906    11594              1.569988    1.858448     1.405133   \n",
      "99907     7961              1.569988    1.858448     1.405133   \n",
      "99908    20250              1.569988    1.858448     1.405133   \n",
      "99909    70144              1.569988    1.858448     1.405133   \n",
      "99910     7012              1.569988    1.858448     1.405133   \n",
      "\n",
      "       count_phone_changes_1  count_spending_1  in_max_1  in_mean_1  \\\n",
      "0                   1.279711          1.563557  1.644527   1.566836   \n",
      "1                   1.279711          1.563557  1.644527   1.566836   \n",
      "2                   1.279711          1.563557  1.644527   1.566836   \n",
      "3                   1.279711          1.563557  1.644527   1.566836   \n",
      "4                   1.279711          1.563557  1.644527   1.566836   \n",
      "...                      ...               ...       ...        ...   \n",
      "99906               1.279711          1.563557  1.644527   1.566836   \n",
      "99907               1.279711          1.563557  1.644527   1.566836   \n",
      "99908               1.279711          1.563557  1.644527   1.566836   \n",
      "99909               1.279711          1.563557  1.644527   1.566836   \n",
      "99910               1.279711          1.563557  1.644527   1.566836   \n",
      "\n",
      "       in_median_1  in_min_1  ...  count_days_in_bank_2  \\\n",
      "0            1.557  1.337499  ...           -204.934771   \n",
      "1            1.557  1.337499  ...           -204.934771   \n",
      "2            1.557  1.337499  ...           -208.371200   \n",
      "3            1.557  1.337499  ...           -209.522979   \n",
      "4            1.557  1.337499  ...           -209.522979   \n",
      "...            ...       ...  ...                   ...   \n",
      "99906        1.557  1.337499  ...           -197.026713   \n",
      "99907        1.557  1.337499  ...           -199.270404   \n",
      "99908        1.557  1.337499  ...           -199.270404   \n",
      "99909        1.557  1.337499  ...           -204.934771   \n",
      "99910        1.557  1.337499  ...           -207.222573   \n",
      "\n",
      "       count_phone_changes_2  sum_spending_2  mean_spending_2  \\\n",
      "0                   1.279711     -559.809945      -442.171725   \n",
      "1                   1.279711     -110.574111      -106.429023   \n",
      "2                   1.279711     -162.495449      -167.320903   \n",
      "3                   1.279711     -316.965768      -240.540005   \n",
      "4                   1.279711      -59.941888       -73.078933   \n",
      "...                      ...             ...              ...   \n",
      "99906               1.279711        1.530876         1.534791   \n",
      "99907               1.279711        1.530876         1.534791   \n",
      "99908               1.279711     -350.133566      -319.369209   \n",
      "99909               1.279711     -442.448669      -476.898279   \n",
      "99910               1.279711        1.530876         1.534791   \n",
      "\n",
      "       median_spending_2  std_spending_2  max_spending_2  min_spending_2  \\\n",
      "0            -179.513408     -630.990735     -691.103490     -703.539529   \n",
      "1            -188.851507      -70.115705      -73.721643      -13.871768   \n",
      "2            -187.271287     -147.617942     -147.179203       -9.513419   \n",
      "3            -136.661864     -313.428089     -351.921017      -29.995217   \n",
      "4            -157.700911      -34.286495      -32.943121       -4.742510   \n",
      "...                  ...             ...             ...             ...   \n",
      "99906           1.575873        1.509768        1.510063        1.825215   \n",
      "99907           1.575873        1.509768        1.510063        1.825215   \n",
      "99908        -204.726640     -360.945231     -374.527141       -1.084378   \n",
      "99909        -198.581572     -589.512356     -560.287835     -115.960398   \n",
      "99910           1.575873        1.509768        1.510063        1.825215   \n",
      "\n",
      "       count_spending_2  is_sar_2  \n",
      "0           -241.414911       0.0  \n",
      "1           -197.861729       0.0  \n",
      "2           -185.001051       0.0  \n",
      "3           -251.131683       0.0  \n",
      "4           -156.659658       0.0  \n",
      "...                 ...       ...  \n",
      "99906          1.563557       0.0  \n",
      "99907          1.563557       0.0  \n",
      "99908       -208.906379       0.0  \n",
      "99909       -176.665388       0.0  \n",
      "99910          1.563557       0.0  \n",
      "\n",
      "[99911 rows x 65 columns]\n",
      "importance_test shape (99911, 31)\n",
      "importance cols Index(['sum', 'in_sum', 'out_sum', 'mean', 'in_mean', 'out_mean', 'median',\n",
      "       'in_median', 'out_median', 'std', 'in_std', 'out_std', 'max', 'in_max',\n",
      "       'out_max', 'min', 'in_min', 'out_min', 'count_in', 'count_out',\n",
      "       'n_unique_in', 'n_unique_out', 'count_days_in_bank',\n",
      "       'count_phone_changes', 'sum_spending', 'mean_spending',\n",
      "       'median_spending', 'std_spending', 'max_spending', 'min_spending',\n",
      "       'count_spending'],\n",
      "      dtype='object')\n",
      "last_sar_index 6481\n",
      "last_random_index 99867\n",
      "last_sar_index 6481\n",
      "last_sar_index 6481\n",
      "importance_test shape (99908, 31)\n",
      "importance cols Index(['sum', 'in_sum', 'out_sum', 'mean', 'in_mean', 'out_mean', 'median',\n",
      "       'in_median', 'out_median', 'std', 'in_std', 'out_std', 'max', 'in_max',\n",
      "       'out_max', 'min', 'in_min', 'out_min', 'count_in', 'count_out',\n",
      "       'n_unique_in', 'n_unique_out', 'count_days_in_bank',\n",
      "       'count_phone_changes', 'sum_spending', 'mean_spending',\n",
      "       'median_spending', 'std_spending', 'max_spending', 'min_spending',\n",
      "       'count_spending'],\n",
      "      dtype='object')\n"
     ]
    }
   ],
   "source": [
    "types = ['llr','std']\n",
    "\n",
    "import SyntheticDatacheck\n",
    "reload(SyntheticDatacheck)\n",
    "#Create an object of the class datacheck\n",
    "\n",
    "dc={}\n",
    "#add something to the dictionary\n",
    "# dc.update({'llr':SyntheticDatacheck.Datacheck(dataset_name,importance='llr',aggregated=True,attention_weights=attention_weights,sar_indices_used=sar_indices_used)})\n",
    "for type in types: \n",
    "    dc.update({type:SyntheticDatacheck.Datacheck(dataset_name,importance=type,aggregated=True,attention_weights=attention_weights,sar_indices_used=sar_indices_used)})\n",
    "#add to the object the attention weights\n",
    "\n"
   ]
  },
  {
   "cell_type": "code",
   "execution_count": null,
   "metadata": {},
   "outputs": [
    {
     "data": {
      "text/plain": [
       "<module 'SyntheticDatacheck' from '/home/agnes/desktop/flib/thesis_XAML/SyntheticDatacheck.py'>"
      ]
     },
     "execution_count": 47,
     "metadata": {},
     "output_type": "execute_result"
    }
   ],
   "source": [
    "import evaluation\n",
    "reload(SyntheticDatacheck)\n"
   ]
  },
  {
   "cell_type": "code",
   "execution_count": null,
   "metadata": {},
   "outputs": [
    {
     "data": {
      "text/plain": [
       "{'std': <SyntheticDatacheck.Datacheck at 0x7f3d55063a00>}"
      ]
     },
     "execution_count": 57,
     "metadata": {},
     "output_type": "execute_result"
    }
   ],
   "source": [
    "dc"
   ]
  },
  {
   "cell_type": "code",
   "execution_count": null,
   "metadata": {},
   "outputs": [
    {
     "data": {
      "text/plain": [
       "array([[ 0.00435117, -0.12640218,  0.06568006, ...,  0.00062015,\n",
       "         0.        ,  0.00173426],\n",
       "       [-0.19631568,  0.18964001,  0.        , ...,  0.0396844 ,\n",
       "         0.        , -0.01010545],\n",
       "       [ 0.26381959, -0.03043174,  0.11982578, ..., -0.02094229,\n",
       "        -0.01881842, -0.00486839],\n",
       "       ...,\n",
       "       [-0.0238161 ,  0.02802154, -0.01028005, ..., -0.01629613,\n",
       "         0.01596353,  0.        ],\n",
       "       [-0.00091773, -0.01072892, -0.0097995 , ..., -0.00121486,\n",
       "        -0.00849431, -0.00729357],\n",
       "       [-0.03623016,  0.04408114,  0.01174835, ..., -0.10863283,\n",
       "         0.00347317,  0.        ]])"
      ]
     },
     "execution_count": 83,
     "metadata": {},
     "output_type": "execute_result"
    }
   ],
   "source": [
    "feature_importance_SVX, _, _ = evaluation.load_evaluation_data_SVX(model_name, dataset_name)\n",
    "feature_importance_LIME, _ = evaluation.load_evaluation_data_LIME(model_name, dataset_name)\n",
    "feature_importance_SHAP = evaluation.load_evaluation_data_SHAP(model_name, dataset_name)\n",
    "feature_importance_SVX"
   ]
  },
  {
   "cell_type": "code",
   "execution_count": null,
   "metadata": {},
   "outputs": [],
   "source": [
    "feature_importance_SVX=pd.DataFrame(feature_importance_SVX,columns=feature_names)\n",
    "feature_importance_LIME=pd.DataFrame(feature_importance_LIME,columns=feature_names)\n",
    "feature_importance_SHAP=pd.DataFrame(feature_importance_SHAP,columns=feature_names)"
   ]
  },
  {
   "cell_type": "code",
   "execution_count": null,
   "metadata": {},
   "outputs": [
    {
     "data": {
      "text/plain": [
       "{'std': <SyntheticDatacheck.Datacheck at 0x7f3d2aea9fc0>}"
      ]
     },
     "execution_count": 64,
     "metadata": {},
     "output_type": "execute_result"
    }
   ],
   "source": [
    "dc"
   ]
  },
  {
   "cell_type": "code",
   "execution_count": null,
   "metadata": {},
   "outputs": [
    {
     "data": {
      "text/plain": [
       "array([  26,   61,   64,   68,   77,   88,   91,   93,   95,   96,  124,\n",
       "        126,  138,  142,  159,  191,  198,  205,  216,  217,  239,  244,\n",
       "        246,  253,  269,  279,  320,  328,  329,  342,  350,  352,  372,\n",
       "        374,  377,  393,  425,  437,  439,  450,  451,  456,  462,  471,\n",
       "        511,  534,  566,  580,  594,  603,  609,  614,  621,  623,  640,\n",
       "        659,  660,  661,  669,  680,  703,  738,  749,  774,  775,  788,\n",
       "        795,  796,  843,  860,  870,  871,  872,  876,  905,  914,  931,\n",
       "        945,  986,  999, 1003, 1005, 1006, 1013, 1021, 1028, 1036, 1049,\n",
       "       1052, 1054, 1063, 1065, 1067, 1081, 1086, 1116, 1127, 1134, 1142,\n",
       "       1147, 1170, 1171, 1199, 1209, 1242, 1270, 1279, 1287, 1288, 1323,\n",
       "       1345, 1359, 1361, 1363, 1371, 1382, 1391, 1403, 1419, 1425, 1456,\n",
       "       1463, 1480, 1524, 1527, 1530, 1533, 1545, 1546, 1555, 1581, 1601,\n",
       "       1615, 1649, 1682, 1755, 1804, 1818, 1820, 1826, 1846, 1850, 1933,\n",
       "       1935, 1949, 1953, 1958, 1972, 1973, 1980, 1991, 2011, 2018, 2019,\n",
       "       2035, 2056, 2072, 2080, 2084, 2095, 2110, 2115, 2122, 2179, 2180,\n",
       "       2181, 2185, 2202, 2223, 2231, 2240, 2263, 2283, 2338, 2341, 2357,\n",
       "       2367, 2374, 2380, 2406, 2418, 2443, 2480, 2484, 2501, 2516, 2521,\n",
       "       2528, 2532, 2555, 2569, 2610, 2636, 2638, 2639, 2642, 2675, 2701,\n",
       "       2704, 2731, 2747, 2749, 2768, 2809, 2815, 2817, 2826, 2829, 2860,\n",
       "       2875, 2877, 2915, 2924, 2930, 2932, 2938, 2940, 2962, 2987, 2995,\n",
       "       3002, 3005, 3019, 3076, 3079, 3089, 3109, 3111, 3129, 3137, 3144,\n",
       "       3162, 3164, 3195, 3205, 3208, 3212, 3222, 3225, 3232, 3252, 3262,\n",
       "       3265, 3270, 3280, 3291, 3310, 3345, 3395, 3410, 3454, 3464, 3470,\n",
       "       3529, 3555, 3560, 3579, 3590, 3622, 3627, 3632, 3634, 3652, 3658,\n",
       "       3667, 3668, 3696, 3712, 3716, 3717, 3735, 3747, 3769, 3788, 3794,\n",
       "       3822, 3855, 3856, 3865, 3868, 3889, 3892, 3900, 3928, 3954, 3965,\n",
       "       3967, 3974, 3978, 3994, 3997, 4004, 4041, 4043, 4045, 4048, 4054,\n",
       "       4055, 4060, 4070, 4102, 4115, 4116, 4120, 4122, 4137, 4167, 4169,\n",
       "       4174, 4178, 4195, 4198, 4216, 4217, 4240, 4269, 4298, 4303, 4310,\n",
       "       4317, 4318, 4326, 4332, 4333, 4335, 4337, 4362, 4391, 4416, 4423,\n",
       "       4425, 4458, 4476, 4494, 4500, 4517, 4525, 4544, 4552, 4553, 4594,\n",
       "       4644, 4649, 4656, 4666, 4675, 4676, 4684, 4686, 4697, 4700, 4720,\n",
       "       4727, 4731, 4735, 4755, 4774, 4798, 4803, 4805, 4808, 4817, 4824,\n",
       "       4837, 4864, 4870, 4873, 4879, 4884, 4908, 4910, 4920, 4949, 4950,\n",
       "       4967, 4978, 4983, 4995, 4997, 5021, 5030, 5032, 5048, 5064, 5074,\n",
       "       5087, 5094, 5104, 5122, 5124, 5136, 5140, 5145, 5155, 5166, 5221,\n",
       "       5241, 5259, 5265, 5280, 5289, 5308, 5312, 5327, 5337, 5340, 5346,\n",
       "       5359, 5365, 5368, 5388, 5410, 5419, 5435, 5439, 5468, 5475, 5501,\n",
       "       5506, 5508, 5513, 5527, 5544, 5546, 5563, 5571, 5578, 5586, 5587,\n",
       "       5601, 5622, 5630, 5649, 5657, 5680, 5682, 5698, 5706, 5715, 5752,\n",
       "       5761, 5768, 5776, 5783, 5785, 5796, 5844, 5859, 5875, 5880, 5926,\n",
       "       5945, 5967, 5990, 6009, 6013, 6018, 6022, 6024, 6037, 6065, 6080,\n",
       "       6085, 6087, 6089, 6093, 6112, 6114, 6117, 6118, 6128, 6155, 6158,\n",
       "       6159, 6160, 6161, 6185, 6193, 6202, 6206, 6211, 6240, 6295, 6296,\n",
       "       6305, 6309, 6325, 6351, 6364, 6376, 6389, 6397, 6402, 6411, 6413,\n",
       "       6437, 6455, 6467, 6471, 6481])"
      ]
     },
     "execution_count": 89,
     "metadata": {},
     "output_type": "execute_result"
    }
   ],
   "source": [
    "sar_indices_used"
   ]
  },
  {
   "cell_type": "code",
   "execution_count": null,
   "metadata": {},
   "outputs": [],
   "source": [
    "feature_importance_groundtruth_std=dc.get('std').importance_test.iloc[sar_indices_used]\n",
    "feature_importance_groundtruth_llr=dc.get('llr').importance_test.iloc[sar_indices_used]"
   ]
  },
  {
   "cell_type": "code",
   "execution_count": null,
   "metadata": {},
   "outputs": [
    {
     "data": {
      "text/plain": [
       "-11664.488460645038"
      ]
     },
     "execution_count": 95,
     "metadata": {},
     "output_type": "execute_result"
    }
   ],
   "source": [
    "feature_importance_groundtruth_llr.iloc[0].sort_values(ascending=False)['in_sum']\n"
   ]
  },
  {
   "cell_type": "code",
   "execution_count": null,
   "metadata": {},
   "outputs": [
    {
     "data": {
      "text/plain": [
       "account                56663.000000\n",
       "count_days_in_bank      -175.922818\n",
       "count_in                -443.656654\n",
       "count_out               -280.498339\n",
       "count_phone_changes        1.279711\n",
       "count_spending          -187.434438\n",
       "in_max                  -154.028705\n",
       "in_mean                 -158.977151\n",
       "in_median               -144.185397\n",
       "in_min                  -164.518780\n",
       "in_std                  -138.077064\n",
       "in_sum                  -236.819309\n",
       "is_sar                     0.000000\n",
       "max                     -155.112057\n",
       "max_spending            -175.598226\n",
       "mean                       0.255146\n",
       "mean_spending           -184.921263\n",
       "median                   -39.779661\n",
       "median_spending         -177.887182\n",
       "min                        1.814823\n",
       "min_spending            -227.673038\n",
       "n_unique_in              -68.471944\n",
       "n_unique_out            -338.020571\n",
       "out_max                 -109.629413\n",
       "out_mean                 -10.516032\n",
       "out_median              -143.227935\n",
       "out_min                    1.775166\n",
       "out_std                    0.972065\n",
       "out_sum                 -104.982564\n",
       "std                       -3.232536\n",
       "std_spending            -177.674878\n",
       "sum                      -36.894064\n",
       "sum_spending            -179.746500\n",
       "Name: 26, dtype: float64"
      ]
     },
     "execution_count": 91,
     "metadata": {},
     "output_type": "execute_result"
    }
   ],
   "source": [
    "dc.get('llr').llr_before.iloc[sar_indices_used[0]]"
   ]
  },
  {
   "cell_type": "code",
   "execution_count": null,
   "metadata": {},
   "outputs": [
    {
     "data": {
      "text/plain": [
       "sum                   -11344.370878\n",
       "in_sum                -11901.307769\n",
       "out_sum                  -17.621296\n",
       "mean                     -16.759765\n",
       "in_mean                  -36.236068\n",
       "out_mean                  -8.194344\n",
       "median                     1.540038\n",
       "in_median                  1.528366\n",
       "out_median              -129.641903\n",
       "std                       -1.276500\n",
       "in_std                  -206.208878\n",
       "out_std                   -0.666430\n",
       "max                     -166.866383\n",
       "in_max                  -165.701713\n",
       "out_max                 -295.890562\n",
       "min                        0.492831\n",
       "in_min                     1.231929\n",
       "out_min                    0.477010\n",
       "count_in              -30599.108732\n",
       "count_out                -31.744569\n",
       "n_unique_in              -68.471949\n",
       "n_unique_out             -16.760795\n",
       "count_days_in_bank      -209.522979\n",
       "count_phone_changes        1.279711\n",
       "sum_spending            -330.656510\n",
       "mean_spending           -340.435992\n",
       "median_spending         -186.199510\n",
       "std_spending            -393.420671\n",
       "max_spending            -384.389296\n",
       "min_spending            -134.070615\n",
       "count_spending          -185.001051\n",
       "is_sar                     0.000000\n",
       "account                56663.000000\n",
       "Name: 26, dtype: float64"
      ]
     },
     "execution_count": 96,
     "metadata": {},
     "output_type": "execute_result"
    }
   ],
   "source": [
    "dc.get('llr').llr_after.iloc[sar_indices_used[0]]"
   ]
  },
  {
   "cell_type": "code",
   "execution_count": null,
   "metadata": {},
   "outputs": [
    {
     "data": {
      "text/plain": [
       "in_min                 13.259029\n",
       "n_unique_out           12.488501\n",
       "median                  9.991147\n",
       "min_spending            6.415165\n",
       "count_out               5.997771\n",
       "out_sum                 4.816985\n",
       "in_median               4.785190\n",
       "mean                    4.507196\n",
       "in_mean                 4.176630\n",
       "sum                     4.018970\n",
       "in_std                  3.481611\n",
       "n_unique_in             3.336260\n",
       "out_median              1.487946\n",
       "min                     1.293113\n",
       "out_min                 1.277994\n",
       "count_in                0.989901\n",
       "count_days_in_bank      0.932107\n",
       "std_spending            0.795435\n",
       "out_max                 0.712832\n",
       "mean_spending           0.692904\n",
       "count_spending          0.622962\n",
       "in_sum                  0.550522\n",
       "max_spending            0.442276\n",
       "max                     0.392468\n",
       "in_max                  0.387893\n",
       "out_std                 0.325238\n",
       "median_spending         0.236205\n",
       "out_mean                0.103950\n",
       "std                     0.014117\n",
       "sum_spending            0.008274\n",
       "count_phone_changes     0.000000\n",
       "Name: 26, dtype: float64"
      ]
     },
     "execution_count": 94,
     "metadata": {},
     "output_type": "execute_result"
    }
   ],
   "source": [
    "feature_importance_groundtruth_std.iloc[0].sort_values(ascending=False)"
   ]
  },
  {
   "cell_type": "code",
   "execution_count": null,
   "metadata": {},
   "outputs": [
    {
     "data": {
      "text/plain": [
       "out_sum                0.065680\n",
       "count_in               0.054244\n",
       "count_out              0.050036\n",
       "in_min                 0.024972\n",
       "out_std                0.019038\n",
       "sum_spending           0.011664\n",
       "mean                   0.004671\n",
       "sum                    0.004351\n",
       "std                    0.002217\n",
       "count_spending         0.001734\n",
       "in_median              0.000659\n",
       "max_spending           0.000620\n",
       "count_days_in_bank     0.000460\n",
       "n_unique_in            0.000000\n",
       "count_phone_changes    0.000000\n",
       "max                    0.000000\n",
       "in_max                 0.000000\n",
       "out_max                0.000000\n",
       "min_spending           0.000000\n",
       "median                 0.000000\n",
       "out_mean               0.000000\n",
       "out_median             0.000000\n",
       "median_spending        0.000000\n",
       "in_std                -0.001408\n",
       "mean_spending         -0.002101\n",
       "std_spending          -0.007810\n",
       "out_min               -0.009581\n",
       "in_mean               -0.010012\n",
       "min                   -0.010985\n",
       "n_unique_out          -0.099489\n",
       "in_sum                -0.126402\n",
       "Name: 0, dtype: float64"
      ]
     },
     "execution_count": 87,
     "metadata": {},
     "output_type": "execute_result"
    }
   ],
   "source": [
    "\n",
    "#sort values feature_importance_SVX[0] ascending\n",
    "feature_importance_SVX.iloc[0].sort_values(ascending=False)"
   ]
  },
  {
   "cell_type": "code",
   "execution_count": 205,
   "metadata": {},
   "outputs": [],
   "source": [
    "normal_test=pd.read_csv(f'ultra_final_data/{dataset_name}/bank/test/nodes.csv')\n",
    "without_sar=pd.read_csv(f'ultra_final_data/{dataset_name}_withoutSAR/bank/test/nodes.csv')\n"
   ]
  },
  {
   "cell_type": "code",
   "execution_count": null,
   "metadata": {},
   "outputs": [
    {
     "data": {
      "text/plain": [
       "array([  26,   61,   64,   68,   77,   88,   91,   93,   95,   96,  124,\n",
       "        126,  138,  142,  159,  191,  198,  205,  216,  217,  239,  244,\n",
       "        246,  253,  269,  279,  320,  328,  329,  342,  350,  352,  372,\n",
       "        374,  377,  393,  425,  437,  439,  450,  451,  456,  462,  471,\n",
       "        511,  534,  566,  580,  594,  603,  609,  614,  621,  623,  640,\n",
       "        659,  660,  661,  669,  680,  703,  738,  749,  774,  775,  788,\n",
       "        795,  796,  843,  860,  870,  871,  872,  876,  905,  914,  931,\n",
       "        945,  986,  999, 1003, 1005, 1006, 1013, 1021, 1028, 1036, 1049,\n",
       "       1052, 1054, 1063, 1065, 1067, 1081, 1086, 1116, 1127, 1134, 1142,\n",
       "       1147, 1170, 1171, 1199, 1209, 1242, 1270, 1279, 1287, 1288, 1323,\n",
       "       1345, 1359, 1361, 1363, 1371, 1382, 1391, 1403, 1419, 1425, 1456,\n",
       "       1463, 1480, 1524, 1527, 1530, 1533, 1545, 1546, 1555, 1581, 1601,\n",
       "       1615, 1649, 1682, 1755, 1804, 1818, 1820, 1826, 1846, 1850, 1933,\n",
       "       1935, 1949, 1953, 1958, 1972, 1973, 1980, 1991, 2011, 2018, 2019,\n",
       "       2035, 2056, 2072, 2080, 2084, 2095, 2110, 2115, 2122, 2179, 2180,\n",
       "       2181, 2185, 2202, 2223, 2231, 2240, 2263, 2283, 2338, 2341, 2357,\n",
       "       2367, 2374, 2380, 2406, 2418, 2443, 2480, 2484, 2501, 2516, 2521,\n",
       "       2528, 2532, 2555, 2569, 2610, 2636, 2638, 2639, 2642, 2675, 2701,\n",
       "       2704, 2731, 2747, 2749, 2768, 2809, 2815, 2817, 2826, 2829, 2860,\n",
       "       2875, 2877, 2915, 2924, 2930, 2932, 2938, 2940, 2962, 2987, 2995,\n",
       "       3002, 3005, 3019, 3076, 3079, 3089, 3109, 3111, 3129, 3137, 3144,\n",
       "       3162, 3164, 3195, 3205, 3208, 3212, 3222, 3225, 3232, 3252, 3262,\n",
       "       3265, 3270, 3280, 3291, 3310, 3345, 3395, 3410, 3454, 3464, 3470,\n",
       "       3529, 3555, 3560, 3579, 3590, 3622, 3627, 3632, 3634, 3652, 3658,\n",
       "       3667, 3668, 3696, 3712, 3716, 3717, 3735, 3747, 3769, 3788, 3794,\n",
       "       3822, 3855, 3856, 3865, 3868, 3889, 3892, 3900, 3928, 3954, 3965,\n",
       "       3967, 3974, 3978, 3994, 3997, 4004, 4041, 4043, 4045, 4048, 4054,\n",
       "       4055, 4060, 4070, 4102, 4115, 4116, 4120, 4122, 4137, 4167, 4169,\n",
       "       4174, 4178, 4195, 4198, 4216, 4217, 4240, 4269, 4298, 4303, 4310,\n",
       "       4317, 4318, 4326, 4332, 4333, 4335, 4337, 4362, 4391, 4416, 4423,\n",
       "       4425, 4458, 4476, 4494, 4500, 4517, 4525, 4544, 4552, 4553, 4594,\n",
       "       4644, 4649, 4656, 4666, 4675, 4676, 4684, 4686, 4697, 4700, 4720,\n",
       "       4727, 4731, 4735, 4755, 4774, 4798, 4803, 4805, 4808, 4817, 4824,\n",
       "       4837, 4864, 4870, 4873, 4879, 4884, 4908, 4910, 4920, 4949, 4950,\n",
       "       4967, 4978, 4983, 4995, 4997, 5021, 5030, 5032, 5048, 5064, 5074,\n",
       "       5087, 5094, 5104, 5122, 5124, 5136, 5140, 5145, 5155, 5166, 5221,\n",
       "       5241, 5259, 5265, 5280, 5289, 5308, 5312, 5327, 5337, 5340, 5346,\n",
       "       5359, 5365, 5368, 5388, 5410, 5419, 5435, 5439, 5468, 5475, 5501,\n",
       "       5506, 5508, 5513, 5527, 5544, 5546, 5563, 5571, 5578, 5586, 5587,\n",
       "       5601, 5622, 5630, 5649, 5657, 5680, 5682, 5698, 5706, 5715, 5752,\n",
       "       5761, 5768, 5776, 5783, 5785, 5796, 5844, 5859, 5875, 5880, 5926,\n",
       "       5945, 5967, 5990, 6009, 6013, 6018, 6022, 6024, 6037, 6065, 6080,\n",
       "       6085, 6087, 6089, 6093, 6112, 6114, 6117, 6118, 6128, 6155, 6158,\n",
       "       6159, 6160, 6161, 6185, 6193, 6202, 6206, 6211, 6240, 6295, 6296,\n",
       "       6305, 6309, 6325, 6351, 6364, 6376, 6389, 6397, 6402, 6411, 6413,\n",
       "       6437, 6455, 6467, 6471, 6481])"
      ]
     },
     "execution_count": 183,
     "metadata": {},
     "output_type": "execute_result"
    }
   ],
   "source": [
    "sar_indices_used"
   ]
  },
  {
   "cell_type": "code",
   "execution_count": 214,
   "metadata": {},
   "outputs": [
    {
     "data": {
      "text/plain": [
       "array([56663, 87200, 35273, 16308, 53709, 84474, 85674, 85102, 51074,\n",
       "       78461, 28333, 21428, 87164, 80593, 16233, 93864, 37547, 99920,\n",
       "        7907, 14239, 21541, 39193,  1263, 34439, 92395, 10365, 21125,\n",
       "        7884,  3644,  8617, 19643,  4104, 86106,  8628, 83427, 54128,\n",
       "       94213,   447, 51088, 13281,  7447, 83637,  1922, 20114, 17258,\n",
       "       27207,  1791, 33257,  1560, 94578, 60697, 45701, 22029, 49591,\n",
       "        3984, 13135, 36649, 19112, 38849,  7345,  7277, 28742, 17192,\n",
       "       28718, 50210,  7938,  5818, 76107, 96913, 50257, 97443,  1413,\n",
       "       30372, 33124, 86227, 95163, 55689, 51330, 31724, 86894, 46633,\n",
       "       84195,  1836, 82113, 32005, 10403, 87117, 53130,  9540, 76662,\n",
       "       58506, 22082, 55754, 19303, 53207, 85825,  6036, 15005, 87274,\n",
       "        1620, 12979, 11744, 21880, 20077, 51022, 18057, 31460, 10159,\n",
       "       97331,  2285, 55112, 98194, 17632, 48008,  2188, 10789, 29120,\n",
       "       79055, 36587,  9040, 99334, 44928, 42003, 95093, 27694, 36531,\n",
       "       26469,  2596, 26093, 85874, 86771,  5746,  3014, 86809, 85261,\n",
       "       48638, 18545,  6714, 52576,  8507, 28543, 94119, 55547,  3632,\n",
       "       19141, 14550, 26796, 54131, 18952, 54880, 19863, 12284, 98777,\n",
       "       86750,   434,  5252, 85231, 97504, 80312, 52504, 86315, 17205,\n",
       "       59489, 75494,  1042, 44217, 71885,   236, 84454, 92940, 60217,\n",
       "       48548, 98260, 59067, 59659, 50091, 51785, 42082, 76911, 75527,\n",
       "       77078, 93521, 60698,  9625, 52665, 60645, 98659, 18544,  9213,\n",
       "       60333, 81112, 48872, 16417, 96859, 51685, 23278, 56905, 75377,\n",
       "       60041, 96834, 48711,   500, 55069, 52744, 16876, 99994, 52027,\n",
       "       60744, 77693, 27104, 92716, 84144, 59332, 77194, 97927, 86623,\n",
       "       10278,  8785, 98030, 98152, 63204, 84128, 38741,  1598,  3981,\n",
       "       59441, 52230, 11711, 52894, 18727, 87247,  6651, 81953, 14108,\n",
       "       99607, 11315, 75867, 31242, 86468, 94645, 53051, 14471, 96950,\n",
       "        9936, 54443, 84281, 75485, 32522, 86208,  3807, 87134,  9190,\n",
       "       75460, 59964, 80368, 96411, 13196, 10073, 12616, 81117, 78022,\n",
       "       54365, 13068, 99788,  4999, 97307, 78784, 17579, 32378, 55856,\n",
       "       24737, 60303, 75326, 92921, 43606, 50897, 56932, 42902, 50338,\n",
       "        3403,  3304, 14034, 81281,  1148, 59501,  9945,  1757,  4763,\n",
       "       20411,  8957, 94067, 83008, 13069, 98237, 29573, 87365, 93639,\n",
       "       60465, 76918, 24141, 49109, 17846, 30891, 12188, 54066, 15017,\n",
       "       55447, 60597, 30206, 59028,  8230, 20009, 38376, 92267, 60507,\n",
       "       87184, 50111, 60490, 60741, 37600, 99903, 97509, 18051,  6783,\n",
       "       60714, 85307, 55308, 15140,  7124, 53423, 11046, 12425, 31790,\n",
       "       43475,   702, 75262, 18746, 19941, 17643, 27358, 93828, 14648,\n",
       "       55736, 20136, 96438, 56944, 99039, 41437, 49971, 10584, 15845,\n",
       "       32864, 56489, 60709, 79104, 24776,  1941, 43610, 60264, 92302,\n",
       "       19992, 15331, 59727,  4221, 85494, 96800, 59040, 78957, 18619,\n",
       "       96711, 32956, 94762, 95109, 94247, 18660, 50030, 98172, 99723,\n",
       "        8837, 28964, 93383, 20858, 99543, 93566, 57711, 97300,  7217,\n",
       "       53380, 97388, 19965, 53283, 18794, 95355, 87120, 92837, 59678,\n",
       "       18684, 95247, 42990, 75163, 97345, 51031,  4934, 83122, 94442,\n",
       "       61004, 60408, 86829, 83644, 50667, 78086, 93721,  9249, 87251,\n",
       "       45239, 59792, 50488, 16951, 95114, 60617,  4753, 57281,  6025,\n",
       "       13773, 47122, 25195, 11571, 85724,   818, 98774,  6985, 16185,\n",
       "       19688, 60473,  4562, 83605, 86692, 75105, 48887, 87409, 32113,\n",
       "       86210,  7551, 16138, 94834, 57838, 48844, 32637, 51462,  5740,\n",
       "       98891, 58442, 31596, 53856, 31833, 19302, 92468, 66346, 92445,\n",
       "       17675, 86645, 33216, 48682, 22694, 52777, 19953, 54930, 16026,\n",
       "       58850, 99885, 83396, 54087, 81171, 66271, 23632, 42879,  8405,\n",
       "        8690, 49032, 11339, 50907, 95233, 94416, 18800, 53454, 19526,\n",
       "       85442, 73991, 84938, 99517, 97091, 86241, 19542, 25817, 19629,\n",
       "       27146, 98430, 25677, 80347, 43772])"
      ]
     },
     "execution_count": 214,
     "metadata": {},
     "output_type": "execute_result"
    }
   ],
   "source": [
    "account_ids=normal_test.iloc[sar_indices_used]['account'].values\n",
    "account_ids"
   ]
  },
  {
   "cell_type": "code",
   "execution_count": null,
   "metadata": {},
   "outputs": [
    {
     "data": {
      "text/html": [
       "<div>\n",
       "<style scoped>\n",
       "    .dataframe tbody tr th:only-of-type {\n",
       "        vertical-align: middle;\n",
       "    }\n",
       "\n",
       "    .dataframe tbody tr th {\n",
       "        vertical-align: top;\n",
       "    }\n",
       "\n",
       "    .dataframe thead th {\n",
       "        text-align: right;\n",
       "    }\n",
       "</style>\n",
       "<table border=\"1\" class=\"dataframe\">\n",
       "  <thead>\n",
       "    <tr style=\"text-align: right;\">\n",
       "      <th></th>\n",
       "      <th>account</th>\n",
       "      <th>count_days_in_bank</th>\n",
       "      <th>count_in</th>\n",
       "      <th>count_out</th>\n",
       "      <th>count_phone_changes</th>\n",
       "      <th>count_spending</th>\n",
       "      <th>in_max</th>\n",
       "      <th>in_mean</th>\n",
       "      <th>in_median</th>\n",
       "      <th>in_min</th>\n",
       "      <th>...</th>\n",
       "      <th>out_max</th>\n",
       "      <th>out_mean</th>\n",
       "      <th>out_median</th>\n",
       "      <th>out_min</th>\n",
       "      <th>out_std</th>\n",
       "      <th>out_sum</th>\n",
       "      <th>std</th>\n",
       "      <th>std_spending</th>\n",
       "      <th>sum</th>\n",
       "      <th>sum_spending</th>\n",
       "    </tr>\n",
       "  </thead>\n",
       "  <tbody>\n",
       "    <tr>\n",
       "      <th>26</th>\n",
       "      <td>56663</td>\n",
       "      <td>-175.922818</td>\n",
       "      <td>-443.656654</td>\n",
       "      <td>-280.498339</td>\n",
       "      <td>1.279711</td>\n",
       "      <td>-187.434438</td>\n",
       "      <td>-154.028705</td>\n",
       "      <td>-158.977151</td>\n",
       "      <td>-144.185397</td>\n",
       "      <td>-164.51878</td>\n",
       "      <td>...</td>\n",
       "      <td>-109.629413</td>\n",
       "      <td>-10.516032</td>\n",
       "      <td>-143.227935</td>\n",
       "      <td>1.775166</td>\n",
       "      <td>0.972065</td>\n",
       "      <td>-104.982564</td>\n",
       "      <td>-3.232536</td>\n",
       "      <td>-177.674878</td>\n",
       "      <td>-36.894064</td>\n",
       "      <td>-179.7465</td>\n",
       "    </tr>\n",
       "  </tbody>\n",
       "</table>\n",
       "<p>1 rows × 33 columns</p>\n",
       "</div>"
      ],
      "text/plain": [
       "    account  count_days_in_bank    count_in   count_out  count_phone_changes  \\\n",
       "26    56663         -175.922818 -443.656654 -280.498339             1.279711   \n",
       "\n",
       "    count_spending      in_max     in_mean   in_median     in_min  ...  \\\n",
       "26     -187.434438 -154.028705 -158.977151 -144.185397 -164.51878  ...   \n",
       "\n",
       "       out_max   out_mean  out_median   out_min   out_std     out_sum  \\\n",
       "26 -109.629413 -10.516032 -143.227935  1.775166  0.972065 -104.982564   \n",
       "\n",
       "         std  std_spending        sum  sum_spending  \n",
       "26 -3.232536   -177.674878 -36.894064     -179.7465  \n",
       "\n",
       "[1 rows x 33 columns]"
      ]
     },
     "execution_count": 191,
     "metadata": {},
     "output_type": "execute_result"
    }
   ],
   "source": [
    "llr_before=dc.get('llr').llr_before[dc.get('llr').llr_before['account']==account_ids[0]]\n",
    "llr_before\n"
   ]
  },
  {
   "cell_type": "code",
   "execution_count": 202,
   "metadata": {},
   "outputs": [
    {
     "data": {
      "text/plain": [
       "26    True\n",
       "Name: mean, dtype: bool"
      ]
     },
     "execution_count": 202,
     "metadata": {},
     "output_type": "execute_result"
    }
   ],
   "source": [
    "llr_before['mean']==llr_after['mean']"
   ]
  },
  {
   "cell_type": "code",
   "execution_count": 237,
   "metadata": {},
   "outputs": [
    {
     "name": "stdout",
     "output_type": "stream",
     "text": [
      "157 199 224 0 591 1921 151\n"
     ]
    }
   ],
   "source": [
    "n_more_n=0\n",
    "n_less_n=0\n",
    "n_to_s=0\n",
    "s_to_n=0\n",
    "s_less_s=0\n",
    "s_more_s=0\n",
    "no_change=0\n",
    "\n",
    "nodes_s_less_s={}\n",
    "for node in range(500):\n",
    "    top_features_svx = feature_importance_SVX.iloc[node].sort_values(ascending=False).index[:10]\n",
    "    top_features_groundtruth = feature_importance_groundtruth_llr.iloc[node].sort_values(ascending=False).index[:10]\n",
    "\n",
    "    missing_features_llr = set(top_features_svx) - set(top_features_groundtruth)\n",
    "\n",
    "    account_id = account_ids[node]\n",
    "\n",
    "    llr_before = dc.get('llr').llr_before[dc.get('llr').llr_before['account'] == account_id][list(missing_features_llr)]\n",
    "    llr_after = dc.get('llr').llr_after[dc.get('llr').llr_after['account'] == account_id][list(missing_features_llr)]\n",
    "\n",
    "    llr_before_dict = llr_before.iloc[0].to_dict()  # Convert to dictionary for easier comparison\n",
    "    llr_after_dict = llr_after.iloc[0].to_dict()    # Convert to dictionary for easier comparison\n",
    "\n",
    "    for f in missing_features_llr:\n",
    "        before_value = llr_before_dict.get(f, None)\n",
    "        after_value = llr_after_dict.get(f, None)\n",
    "        \n",
    "        if before_value is None or after_value is None:\n",
    "            continue  # Skip if either value is None (missing)\n",
    "\n",
    "        if before_value == after_value:\n",
    "            no_change += 1\n",
    "        elif before_value > 0 and after_value > 0:\n",
    "            if before_value < after_value:\n",
    "                n_more_n += 1\n",
    "            else:\n",
    "                n_less_n += 1\n",
    "        elif before_value < 0 and after_value < 0:\n",
    "            if before_value > after_value:\n",
    "                s_more_s += 1\n",
    "            else:\n",
    "                s_less_s += 1\n",
    "                # nodes_s_less_s.update({node: f})\n",
    "                if node in nodes_s_less_s:\n",
    "                    nodes_s_less_s[node].append(f)\n",
    "                else:\n",
    "                    nodes_s_less_s[node] = [f]\n",
    "        elif before_value > 0 and after_value < 0:\n",
    "            if before_value > after_value:\n",
    "                n_to_s += 1\n",
    "            else:\n",
    "                s_to_n += 1\n",
    "\n",
    "print(n_more_n, n_less_n, n_to_s, s_to_n, s_less_s, s_more_s, no_change)\n"
   ]
  },
  {
   "cell_type": "code",
   "execution_count": 234,
   "metadata": {},
   "outputs": [
    {
     "name": "stdout",
     "output_type": "stream",
     "text": [
      "   n_more_n  n_less_n  n_to_s  s_to_n  s_less_s  s_more_s  no_change\n",
      "0       157       199     224       0       591      1921        151\n"
     ]
    },
    {
     "data": {
      "text/html": [
       "<div>\n",
       "<style scoped>\n",
       "    .dataframe tbody tr th:only-of-type {\n",
       "        vertical-align: middle;\n",
       "    }\n",
       "\n",
       "    .dataframe tbody tr th {\n",
       "        vertical-align: top;\n",
       "    }\n",
       "\n",
       "    .dataframe thead th {\n",
       "        text-align: right;\n",
       "    }\n",
       "</style>\n",
       "<table border=\"1\" class=\"dataframe\">\n",
       "  <thead>\n",
       "    <tr style=\"text-align: right;\">\n",
       "      <th></th>\n",
       "      <th>Count</th>\n",
       "    </tr>\n",
       "  </thead>\n",
       "  <tbody>\n",
       "    <tr>\n",
       "      <th>n_more_n</th>\n",
       "      <td>157</td>\n",
       "    </tr>\n",
       "    <tr>\n",
       "      <th>n_less_n</th>\n",
       "      <td>199</td>\n",
       "    </tr>\n",
       "    <tr>\n",
       "      <th>n_to_s</th>\n",
       "      <td>224</td>\n",
       "    </tr>\n",
       "    <tr>\n",
       "      <th>s_to_n</th>\n",
       "      <td>0</td>\n",
       "    </tr>\n",
       "    <tr>\n",
       "      <th>s_less_s</th>\n",
       "      <td>591</td>\n",
       "    </tr>\n",
       "    <tr>\n",
       "      <th>s_more_s</th>\n",
       "      <td>1921</td>\n",
       "    </tr>\n",
       "    <tr>\n",
       "      <th>no_change</th>\n",
       "      <td>151</td>\n",
       "    </tr>\n",
       "  </tbody>\n",
       "</table>\n",
       "</div>"
      ],
      "text/plain": [
       "           Count\n",
       "n_more_n     157\n",
       "n_less_n     199\n",
       "n_to_s       224\n",
       "s_to_n         0\n",
       "s_less_s     591\n",
       "s_more_s    1921\n",
       "no_change    151"
      ]
     },
     "execution_count": 234,
     "metadata": {},
     "output_type": "execute_result"
    }
   ],
   "source": [
    "# Create a dictionary with the counts\n",
    "data = {\n",
    "    \"n_more_n\": [n_more_n],\n",
    "    \"n_less_n\": [n_less_n],\n",
    "    \"n_to_s\": [n_to_s],\n",
    "    \"s_to_n\": [s_to_n],\n",
    "    \"s_less_s\": [s_less_s],\n",
    "    \"s_more_s\": [s_more_s],\n",
    "    \"no_change\": [no_change]\n",
    "}\n",
    "\n",
    "# Create a DataFrame from the dictionary\n",
    "view = pd.DataFrame(data)\n",
    "\n",
    "# Print the DataFrame\n",
    "print(view)\n",
    "count=view.T\n",
    "\n",
    "#set column header to count\n",
    "count.columns=['Count']\n",
    "\n",
    "count\n"
   ]
  },
  {
   "cell_type": "code",
   "execution_count": 238,
   "metadata": {},
   "outputs": [
    {
     "data": {
      "text/plain": [
       "{0: ['std'],\n",
       " 1: ['in_min', 'std_spending', 'max_spending', 'count_days_in_bank'],\n",
       " 4: ['sum'],\n",
       " 6: ['std'],\n",
       " 7: ['count_in', 'out_mean'],\n",
       " 9: ['out_mean', 'std'],\n",
       " 10: ['out_mean', 'std'],\n",
       " 11: ['mean_spending', 'std', 'count_in', 'in_sum'],\n",
       " 12: ['count_out'],\n",
       " 13: ['std'],\n",
       " 14: ['max', 'out_sum'],\n",
       " 15: ['n_unique_in', 'out_mean'],\n",
       " 16: ['std_spending'],\n",
       " 18: ['std'],\n",
       " 19: ['median_spending', 'max_spending'],\n",
       " 24: ['max', 'median_spending', 'in_max'],\n",
       " 25: ['mean_spending', 'out_std'],\n",
       " 26: ['in_max', 'out_mean'],\n",
       " 27: ['std', 'out_sum'],\n",
       " 29: ['max', 'n_unique_in', 'in_median', 'max_spending'],\n",
       " 30: ['max', 'min_spending'],\n",
       " 31: ['count_out'],\n",
       " 33: ['out_mean', 'std'],\n",
       " 37: ['std'],\n",
       " 38: ['max', 'in_std', 'out_mean', 'std'],\n",
       " 39: ['max'],\n",
       " 41: ['max'],\n",
       " 42: ['max_spending'],\n",
       " 45: ['out_median', 'out_mean', 'std', 'out_sum'],\n",
       " 46: ['median_spending', 'in_sum'],\n",
       " 47: ['in_sum', 'out_sum', 'count_out'],\n",
       " 48: ['median', 'out_mean'],\n",
       " 49: ['median_spending', 'out_mean', 'std', 'count_spending'],\n",
       " 51: ['in_min', 'sum'],\n",
       " 52: ['mean'],\n",
       " 54: ['median_spending', 'max_spending'],\n",
       " 55: ['sum'],\n",
       " 56: ['out_sum'],\n",
       " 57: ['in_mean', 'median_spending'],\n",
       " 58: ['std', 'out_sum', 'count_out'],\n",
       " 60: ['max', 'in_mean', 'in_max', 'std'],\n",
       " 61: ['mean_spending', 'std', 'sum_spending'],\n",
       " 63: ['count_in', 'in_sum', 'std_spending', 'max_spending'],\n",
       " 64: ['in_min', 'mean', 'std', 'out_sum'],\n",
       " 65: ['std'],\n",
       " 67: ['mean', 'count_spending'],\n",
       " 69: ['std'],\n",
       " 71: ['mean'],\n",
       " 72: ['max', 'n_unique_in', 'std'],\n",
       " 74: ['in_sum', 'out_sum'],\n",
       " 76: ['sum_spending', 'std_spending', 'max_spending'],\n",
       " 78: ['in_min', 'mean', 'median', 'count_in'],\n",
       " 81: ['in_mean'],\n",
       " 83: ['mean', 'median_spending', 'std'],\n",
       " 84: ['std', 'count_out'],\n",
       " 89: ['std'],\n",
       " 91: ['out_mean', 'std', 'max_spending', 'count_out'],\n",
       " 92: ['in_min', 'out_mean', 'count_days_in_bank', 'out_sum', 'count_out'],\n",
       " 94: ['std', 'in_mean'],\n",
       " 97: ['out_sum'],\n",
       " 99: ['std_spending', 'out_sum'],\n",
       " 100: ['in_min'],\n",
       " 102: ['std'],\n",
       " 104: ['max', 'in_max'],\n",
       " 106: ['out_mean', 'out_sum'],\n",
       " 107: ['in_mean', 'count_spending', 'count_days_in_bank', 'count_out'],\n",
       " 108: ['in_mean', 'std', 'count_spending', 'out_sum'],\n",
       " 111: ['median_spending', 'count_in'],\n",
       " 112: ['max'],\n",
       " 113: ['out_mean', 'std'],\n",
       " 116: ['mean', 'std', 'n_unique_out'],\n",
       " 117: ['mean', 'out_mean'],\n",
       " 118: ['max', 'median_spending', 'out_median', 'in_max', 'std'],\n",
       " 120: ['median_spending', 'min_spending'],\n",
       " 122: ['median_spending', 'count_in', 'in_sum', 'count_out'],\n",
       " 124: ['in_max'],\n",
       " 126: ['std'],\n",
       " 128: ['out_mean', 'count_out'],\n",
       " 129: ['n_unique_in'],\n",
       " 131: ['std'],\n",
       " 134: ['in_sum', 'count_spending'],\n",
       " 135: ['out_sum'],\n",
       " 137: ['sum'],\n",
       " 138: ['n_unique_in'],\n",
       " 139: ['count_spending'],\n",
       " 140: ['mean_spending', 'out_sum'],\n",
       " 141: ['mean_spending', 'std', 'sum_spending', 'count_spending'],\n",
       " 142: ['count_out'],\n",
       " 146: ['mean_spending', 'sum', 'out_sum'],\n",
       " 147: ['out_mean', 'count_out'],\n",
       " 152: ['std', 'count_in', 'count_days_in_bank'],\n",
       " 153: ['median_spending', 'count_days_in_bank'],\n",
       " 154: ['std'],\n",
       " 155: ['std'],\n",
       " 158: ['mean', 'n_unique_in', 'count_in'],\n",
       " 159: ['max', 'median_spending', 'sum'],\n",
       " 160: ['std_spending', 'out_sum'],\n",
       " 163: ['mean', 'n_unique_in', 'sum_spending', 'std'],\n",
       " 164: ['in_max'],\n",
       " 165: ['count_out'],\n",
       " 166: ['std', 'max_spending', 'count_days_in_bank', 'out_sum', 'count_out'],\n",
       " 167: ['out_mean'],\n",
       " 169: ['std', 'count_in', 'in_sum'],\n",
       " 170: ['in_median'],\n",
       " 172: ['out_max'],\n",
       " 173: ['n_unique_in', 'sum', 'out_sum', 'count_out'],\n",
       " 175: ['mean', 'std'],\n",
       " 176: ['median_spending', 'in_median'],\n",
       " 177: ['out_mean'],\n",
       " 178: ['std', 'out_sum', 'count_out'],\n",
       " 179: ['std', 'n_unique_out'],\n",
       " 180: ['out_mean', 'out_sum'],\n",
       " 181: ['mean', 'count_in'],\n",
       " 183: ['std'],\n",
       " 184: ['std'],\n",
       " 185: ['out_max'],\n",
       " 187: ['max_spending'],\n",
       " 189: ['std', 'count_out'],\n",
       " 190: ['std', 'std_spending', 'max_spending', 'count_days_in_bank', 'out_sum'],\n",
       " 193: ['std'],\n",
       " 197: ['in_min', 'count_days_in_bank'],\n",
       " 198: ['std'],\n",
       " 199: ['out_max', 'median_spending'],\n",
       " 200: ['std', 'count_days_in_bank', 'out_sum', 'count_out'],\n",
       " 201: ['std'],\n",
       " 202: ['in_mean', 'std', 'out_sum', 'count_out'],\n",
       " 204: ['std'],\n",
       " 205: ['out_mean'],\n",
       " 206: ['median_spending', 'out_median', 'out_sum'],\n",
       " 210: ['std'],\n",
       " 213: ['n_unique_out'],\n",
       " 214: ['std'],\n",
       " 215: ['mean', 'std', 'out_sum', 'count_out'],\n",
       " 217: ['out_sum'],\n",
       " 220: ['out_sum'],\n",
       " 221: ['out_median', 'std'],\n",
       " 222: ['out_sum', 'count_out'],\n",
       " 224: ['median_spending'],\n",
       " 225: ['count_in'],\n",
       " 226: ['count_days_in_bank'],\n",
       " 227: ['out_mean'],\n",
       " 228: ['out_max', 'out_mean', 'out_sum', 'count_out'],\n",
       " 230: ['median_spending', 'std', 'count_out'],\n",
       " 231: ['in_sum', 'count_days_in_bank'],\n",
       " 235: ['std'],\n",
       " 236: ['std'],\n",
       " 237: ['count_in', 'in_sum', 'count_spending'],\n",
       " 240: ['std'],\n",
       " 242: ['std'],\n",
       " 243: ['std'],\n",
       " 244: ['out_sum'],\n",
       " 247: ['std'],\n",
       " 248: ['std', 'out_sum', 'count_out'],\n",
       " 249: ['in_std', 'std'],\n",
       " 250: ['median_spending', 'out_sum'],\n",
       " 251: ['mean_spending'],\n",
       " 252: ['mean', 'std', 'n_unique_out'],\n",
       " 253: ['in_std', 'std', 'out_sum'],\n",
       " 255: ['max', 'n_unique_in', 'in_max', 'count_in', 'count_days_in_bank'],\n",
       " 260: ['std'],\n",
       " 261: ['std', 'count_out'],\n",
       " 262: ['std'],\n",
       " 263: ['max', 'std'],\n",
       " 264: ['out_median', 'out_mean'],\n",
       " 266: ['mean'],\n",
       " 267: ['in_min', 'out_mean', 'sum'],\n",
       " 268: ['mean', 'out_mean'],\n",
       " 269: ['out_mean', 'out_sum', 'count_out'],\n",
       " 270: ['max',\n",
       "  'in_mean',\n",
       "  'std',\n",
       "  'count_in',\n",
       "  'n_unique_out',\n",
       "  'out_sum',\n",
       "  'count_out'],\n",
       " 272: ['out_sum'],\n",
       " 273: ['n_unique_out'],\n",
       " 274: ['std', 'count_spending', 'out_sum'],\n",
       " 277: ['std', 'n_unique_out', 'out_sum', 'count_out'],\n",
       " 279: ['count_spending'],\n",
       " 282: ['in_mean', 'out_mean', 'std'],\n",
       " 284: ['out_sum'],\n",
       " 285: ['std', 'count_in', 'count_spending', 'count_days_in_bank'],\n",
       " 286: ['std'],\n",
       " 287: ['std', 'out_sum'],\n",
       " 289: ['out_mean', 'std'],\n",
       " 291: ['count_in', 'in_sum'],\n",
       " 295: ['out_mean'],\n",
       " 297: ['out_sum', 'count_out'],\n",
       " 298: ['count_days_in_bank', 'out_sum'],\n",
       " 301: ['in_mean', 'in_median'],\n",
       " 302: ['out_sum'],\n",
       " 303: ['std'],\n",
       " 304: ['std'],\n",
       " 305: ['out_mean', 'sum', 'std'],\n",
       " 308: ['std'],\n",
       " 310: ['in_mean'],\n",
       " 312: ['std', 'count_spending'],\n",
       " 317: ['out_mean'],\n",
       " 318: ['out_sum'],\n",
       " 319: ['out_mean', 'in_sum', 'max_spending'],\n",
       " 320: ['mean'],\n",
       " 322: ['in_sum'],\n",
       " 325: ['out_mean'],\n",
       " 326: ['mean', 'sum', 'out_sum', 'count_out'],\n",
       " 327: ['max', 'in_max', 'in_sum', 'count_days_in_bank'],\n",
       " 328: ['out_mean'],\n",
       " 329: ['count_out'],\n",
       " 330: ['std', 'std_spending', 'count_days_in_bank'],\n",
       " 332: ['out_median'],\n",
       " 333: ['out_mean', 'count_in'],\n",
       " 334: ['std'],\n",
       " 335: ['mean'],\n",
       " 336: ['max'],\n",
       " 339: ['max_spending'],\n",
       " 340: ['in_median'],\n",
       " 341: ['out_sum'],\n",
       " 342: ['out_mean', 'in_sum'],\n",
       " 344: ['median', 'std'],\n",
       " 346: ['count_in'],\n",
       " 347: ['count_in', 'in_sum', 'out_sum', 'count_out'],\n",
       " 351: ['in_sum', 'out_sum', 'count_out'],\n",
       " 352: ['std', 'out_sum'],\n",
       " 353: ['in_mean', 'std', 'out_sum', 'count_out'],\n",
       " 355: ['std', 'count_out'],\n",
       " 357: ['max_spending', 'count_out'],\n",
       " 361: ['out_mean'],\n",
       " 362: ['mean_spending',\n",
       "  'std_spending',\n",
       "  'max_spending',\n",
       "  'out_sum',\n",
       "  'count_out'],\n",
       " 364: ['in_mean', 'sum'],\n",
       " 366: ['count_days_in_bank'],\n",
       " 367: ['out_mean', 'count_in', 'in_sum'],\n",
       " 370: ['out_sum'],\n",
       " 374: ['count_days_in_bank'],\n",
       " 375: ['in_mean', 'out_sum'],\n",
       " 377: ['out_mean', 'count_in', 'in_sum'],\n",
       " 378: ['in_sum'],\n",
       " 379: ['out_median', 'out_sum'],\n",
       " 380: ['out_mean', 'std'],\n",
       " 381: ['count_spending'],\n",
       " 382: ['out_mean'],\n",
       " 385: ['out_mean', 'count_spending'],\n",
       " 386: ['out_median', 'out_mean', 'std', 'in_max'],\n",
       " 387: ['count_out'],\n",
       " 394: ['count_in', 'in_sum', 'in_max'],\n",
       " 395: ['in_min', 'out_sum'],\n",
       " 398: ['mean'],\n",
       " 400: ['median_spending', 'std', 'count_spending'],\n",
       " 405: ['out_mean', 'std'],\n",
       " 407: ['out_sum'],\n",
       " 408: ['median_spending'],\n",
       " 409: ['std'],\n",
       " 410: ['mean', 'count_in'],\n",
       " 412: ['std', 'out_sum'],\n",
       " 414: ['median_spending', 'sum_spending', 'out_sum', 'count_out'],\n",
       " 416: ['in_mean', 'count_in', 'in_sum', 'count_days_in_bank'],\n",
       " 418: ['std'],\n",
       " 420: ['max'],\n",
       " 424: ['count_in', 'in_sum'],\n",
       " 427: ['mean', 'out_median', 'count_days_in_bank'],\n",
       " 430: ['std_spending', 'max_spending'],\n",
       " 434: ['std', 'in_sum'],\n",
       " 435: ['out_mean'],\n",
       " 436: ['min_spending'],\n",
       " 437: ['max'],\n",
       " 438: ['sum', 'out_sum', 'count_out'],\n",
       " 439: ['in_mean'],\n",
       " 440: ['out_sum'],\n",
       " 442: ['n_unique_in'],\n",
       " 444: ['median_spending', 'count_in', 'count_days_in_bank'],\n",
       " 445: ['std', 'max_spending'],\n",
       " 446: ['mean_spending'],\n",
       " 447: ['std'],\n",
       " 448: ['in_mean', 'sum', 'std', 'count_days_in_bank'],\n",
       " 450: ['out_mean'],\n",
       " 451: ['in_max', 'in_sum', 'count_spending', 'count_out'],\n",
       " 452: ['count_in', 'in_sum', 'n_unique_out'],\n",
       " 453: ['std_spending', 'count_spending', 'max_spending'],\n",
       " 454: ['out_mean', 'std'],\n",
       " 456: ['std'],\n",
       " 458: ['in_max'],\n",
       " 459: ['out_mean', 'n_unique_out'],\n",
       " 461: ['mean', 'out_median', 'out_mean', 'std'],\n",
       " 466: ['median_spending', 'sum'],\n",
       " 467: ['sum', 'in_sum'],\n",
       " 468: ['n_unique_out'],\n",
       " 470: ['in_sum'],\n",
       " 471: ['n_unique_in'],\n",
       " 473: ['max_spending'],\n",
       " 475: ['out_sum', 'count_out'],\n",
       " 478: ['in_mean'],\n",
       " 481: ['mean_spending', 'median_spending'],\n",
       " 483: ['out_sum'],\n",
       " 484: ['n_unique_out', 'count_days_in_bank'],\n",
       " 486: ['median', 'count_in', 'in_sum'],\n",
       " 488: ['sum', 'std_spending', 'max_spending'],\n",
       " 490: ['out_mean'],\n",
       " 491: ['mean_spending', 'sum', 'sum_spending', 'count_days_in_bank'],\n",
       " 493: ['out_max', 'count_in', 'n_unique_out'],\n",
       " 495: ['count_in'],\n",
       " 496: ['out_mean'],\n",
       " 497: ['median_spending'],\n",
       " 499: ['count_in']}"
      ]
     },
     "execution_count": 238,
     "metadata": {},
     "output_type": "execute_result"
    }
   ],
   "source": [
    "nodes_s_less_s"
   ]
  },
  {
   "cell_type": "code",
   "execution_count": 239,
   "metadata": {},
   "outputs": [
    {
     "data": {
      "text/plain": [
       "account                      87200\n",
       "bank                          bank\n",
       "sum                         8916.2\n",
       "in_sum                    14825.44\n",
       "out_sum                   -5909.24\n",
       "mean                       356.648\n",
       "in_mean                 823.635556\n",
       "out_mean               -844.177143\n",
       "median                      587.57\n",
       "in_median                  791.325\n",
       "out_median                 -780.87\n",
       "std                     851.031138\n",
       "in_std                  342.676818\n",
       "out_std                 477.243851\n",
       "max                        1425.95\n",
       "in_max                     1425.95\n",
       "out_max                    -385.59\n",
       "min                       -1582.82\n",
       "in_min                      317.56\n",
       "out_min                   -1582.82\n",
       "count_in                      18.0\n",
       "count_out                      7.0\n",
       "n_unique_in                    6.0\n",
       "n_unique_out                   2.0\n",
       "count_days_in_bank           354.0\n",
       "count_phone_changes            0.0\n",
       "sum_spending             171608.14\n",
       "mean_spending           893.792396\n",
       "median_spending            473.245\n",
       "std_spending           1644.747026\n",
       "max_spending               7122.24\n",
       "min_spending                  4.04\n",
       "count_spending               192.0\n",
       "is_sar                         0.0\n",
       "Name: 61, dtype: object"
      ]
     },
     "execution_count": 239,
     "metadata": {},
     "output_type": "execute_result"
    }
   ],
   "source": [
    "dc.get('llr').normal_test.iloc[sar_indices_used[1]]\n"
   ]
  },
  {
   "cell_type": "code",
   "execution_count": 157,
   "metadata": {},
   "outputs": [
    {
     "data": {
      "text/plain": [
       "sum                     13223.520591\n",
       "in_sum                  17993.518337\n",
       "out_sum                 -4769.997746\n",
       "mean                       76.269182\n",
       "in_mean                   536.009649\n",
       "out_mean                 -879.495409\n",
       "median                    154.231502\n",
       "in_median                 438.450621\n",
       "out_median               -910.815939\n",
       "std                       724.816370\n",
       "in_std                    459.110491\n",
       "out_std                   282.924823\n",
       "max                      1487.407127\n",
       "in_max                   1487.407127\n",
       "out_max                  -384.003734\n",
       "min                     -1235.036316\n",
       "in_min                     61.595860\n",
       "out_min                 -1235.036316\n",
       "count_in                   42.016232\n",
       "count_out                   6.087712\n",
       "n_unique_in                 2.679694\n",
       "n_unique_out                1.665019\n",
       "count_days_in_bank        364.474933\n",
       "count_phone_changes         0.000000\n",
       "sum_spending           262672.393239\n",
       "mean_spending            1392.434929\n",
       "median_spending           456.503178\n",
       "std_spending             3537.996751\n",
       "max_spending            14865.300055\n",
       "min_spending                3.993019\n",
       "count_spending            189.303011\n",
       "is_sar                      0.000000\n",
       "account                 56663.000000\n",
       "Name: 26, dtype: float64"
      ]
     },
     "execution_count": 157,
     "metadata": {},
     "output_type": "execute_result"
    }
   ],
   "source": [
    "dc.get('llr').agg_withoutSAR.iloc[sar_indices_used[0]]\n"
   ]
  },
  {
   "cell_type": "code",
   "execution_count": 159,
   "metadata": {},
   "outputs": [
    {
     "data": {
      "text/plain": [
       "sum                   -5780.418729\n",
       "in_sum                  727.944843\n",
       "out_sum               -6508.363572\n",
       "mean                   -129.271435\n",
       "in_mean                 284.128409\n",
       "out_mean                 -6.920744\n",
       "median                 -350.997874\n",
       "in_median               319.379094\n",
       "out_median               97.076595\n",
       "std                      -0.938993\n",
       "in_std                 -112.744605\n",
       "out_std                 -10.560728\n",
       "max                     -46.778610\n",
       "in_max                  -46.778610\n",
       "out_max                 -20.693848\n",
       "min                    -149.449118\n",
       "in_min                  366.562191\n",
       "out_min                -149.449118\n",
       "count_in                 -1.945781\n",
       "count_out                11.421916\n",
       "n_unique_in              -0.679694\n",
       "n_unique_out              2.627225\n",
       "count_days_in_bank      -28.869386\n",
       "count_phone_changes       0.000000\n",
       "sum_spending            199.560034\n",
       "mean_spending            92.084887\n",
       "median_spending         -10.604173\n",
       "std_spending            276.166806\n",
       "max_spending            659.109590\n",
       "min_spending              4.673443\n",
       "count_spending          -11.152245\n",
       "is_sar                    0.000000\n",
       "account                   0.000000\n",
       "Name: 26, dtype: float64"
      ]
     },
     "execution_count": 159,
     "metadata": {},
     "output_type": "execute_result"
    }
   ],
   "source": [
    "diff=dc.get('llr').agg_normal_test.iloc[sar_indices_used[0]]-dc.get('llr').agg_withoutSAR.iloc[sar_indices_used[0]]\n",
    "diff"
   ]
  },
  {
   "cell_type": "code",
   "execution_count": null,
   "metadata": {},
   "outputs": [],
   "source": []
  },
  {
   "cell_type": "code",
   "execution_count": 151,
   "metadata": {},
   "outputs": [
    {
     "data": {
      "text/plain": [
       "account                      56663\n",
       "bank                          bank\n",
       "sum                      127402.43\n",
       "in_sum                   132103.28\n",
       "out_sum                   -4700.85\n",
       "mean                    376.930266\n",
       "in_mean                 397.901446\n",
       "out_mean                  -783.475\n",
       "median                       10.48\n",
       "in_median                    10.48\n",
       "out_median                -774.625\n",
       "std                     447.089496\n",
       "in_std                  422.438322\n",
       "out_std                 117.496446\n",
       "max                        1493.66\n",
       "in_max                     1493.66\n",
       "out_max                    -661.91\n",
       "min                         -939.3\n",
       "in_min                       10.48\n",
       "out_min                     -939.3\n",
       "count_in                     332.0\n",
       "count_out                      6.0\n",
       "n_unique_in                    2.0\n",
       "n_unique_out                   1.0\n",
       "count_days_in_bank           366.0\n",
       "count_phone_changes            0.0\n",
       "sum_spending             355872.19\n",
       "mean_spending          2010.577345\n",
       "median_spending             456.11\n",
       "std_spending           5663.107151\n",
       "max_spending              22918.06\n",
       "min_spending                  6.67\n",
       "count_spending               177.0\n",
       "is_sar                         0.0\n",
       "Name: 26, dtype: object"
      ]
     },
     "execution_count": 151,
     "metadata": {},
     "output_type": "execute_result"
    }
   ],
   "source": [
    "dc.get('llr').normal_test.iloc[sar_indices_used[0]]\n"
   ]
  },
  {
   "cell_type": "code",
   "execution_count": 173,
   "metadata": {},
   "outputs": [
    {
     "name": "stderr",
     "output_type": "stream",
     "text": [
      "divide by zero encountered in log\n",
      "divide by zero encountered in log\n",
      "divide by zero encountered in log\n"
     ]
    },
    {
     "ename": "KeyboardInterrupt",
     "evalue": "",
     "output_type": "error",
     "traceback": [
      "\u001b[0;31m---------------------------------------------------------------------------\u001b[0m",
      "\u001b[0;31mKeyboardInterrupt\u001b[0m                         Traceback (most recent call last)",
      "Cell \u001b[0;32mIn[173], line 1\u001b[0m\n\u001b[0;32m----> 1\u001b[0m dc_llr\u001b[38;5;241m=\u001b[39m\u001b[43mSyntheticDatacheck\u001b[49m\u001b[38;5;241;43m.\u001b[39;49m\u001b[43mDatacheck\u001b[49m\u001b[43m(\u001b[49m\u001b[43mdataset_name\u001b[49m\u001b[43m,\u001b[49m\u001b[43mimportance\u001b[49m\u001b[38;5;241;43m=\u001b[39;49m\u001b[38;5;124;43m'\u001b[39;49m\u001b[38;5;124;43mllr\u001b[39;49m\u001b[38;5;124;43m'\u001b[39;49m\u001b[43m,\u001b[49m\u001b[43maggregated\u001b[49m\u001b[38;5;241;43m=\u001b[39;49m\u001b[38;5;28;43;01mFalse\u001b[39;49;00m\u001b[43m,\u001b[49m\u001b[43mattention_weights\u001b[49m\u001b[38;5;241;43m=\u001b[39;49m\u001b[43mattention_weights\u001b[49m\u001b[43m,\u001b[49m\u001b[43msar_indices_used\u001b[49m\u001b[38;5;241;43m=\u001b[39;49m\u001b[43msar_indices_used\u001b[49m\u001b[43m)\u001b[49m\n",
      "File \u001b[0;32m~/desktop/flib/thesis_XAML/SyntheticDatacheck.py:21\u001b[0m, in \u001b[0;36mDatacheck.__init__\u001b[0;34m(self, dataset, importance, aggregated, attention_weights, sar_indices_used)\u001b[0m\n\u001b[1;32m     18\u001b[0m \u001b[38;5;28mself\u001b[39m\u001b[38;5;241m.\u001b[39mattention_weights \u001b[38;5;241m=\u001b[39m attention_weights\n\u001b[1;32m     19\u001b[0m \u001b[38;5;28mself\u001b[39m\u001b[38;5;241m.\u001b[39msar_indices_used\u001b[38;5;241m=\u001b[39msar_indices_used\n\u001b[0;32m---> 21\u001b[0m \u001b[38;5;28mself\u001b[39m\u001b[38;5;241m.\u001b[39mimportance_test \u001b[38;5;241m=\u001b[39m \u001b[38;5;28;43mself\u001b[39;49m\u001b[38;5;241;43m.\u001b[39;49m\u001b[43mbuild_importance\u001b[49m\u001b[43m(\u001b[49m\u001b[43m \u001b[49m\u001b[43mimportance\u001b[49m\u001b[38;5;241;43m=\u001b[39;49m\u001b[43mimportance\u001b[49m\u001b[43m,\u001b[49m\u001b[43maggregated\u001b[49m\u001b[38;5;241;43m=\u001b[39;49m\u001b[43maggregated\u001b[49m\u001b[43m)\u001b[49m\n\u001b[1;32m     22\u001b[0m \u001b[38;5;66;03m# self.importance_train, self.importance_test = self.build_importance(self.dataset, usingTrain=True, importance=importance)\u001b[39;00m\n\u001b[1;32m     23\u001b[0m \u001b[38;5;28mself\u001b[39m\u001b[38;5;241m.\u001b[39mnormal_train\n",
      "File \u001b[0;32m~/desktop/flib/thesis_XAML/SyntheticDatacheck.py:302\u001b[0m, in \u001b[0;36mDatacheck.build_importance\u001b[0;34m(self, importance, aggregated)\u001b[0m\n\u001b[1;32m    299\u001b[0m accounts_withoutSAR\u001b[38;5;241m=\u001b[39m\u001b[38;5;28mself\u001b[39m\u001b[38;5;241m.\u001b[39mwithoutSAR_test[\u001b[38;5;124m'\u001b[39m\u001b[38;5;124maccount\u001b[39m\u001b[38;5;124m'\u001b[39m]\u001b[38;5;241m.\u001b[39mvalues\n\u001b[1;32m    300\u001b[0m llr_after[\u001b[38;5;124m'\u001b[39m\u001b[38;5;124maccount\u001b[39m\u001b[38;5;124m'\u001b[39m]\u001b[38;5;241m=\u001b[39maccounts_withoutSAR\n\u001b[0;32m--> 302\u001b[0m \u001b[38;5;28mself\u001b[39m\u001b[38;5;241m.\u001b[39mllr_before\u001b[38;5;241m=\u001b[39m\u001b[43mllr_before\u001b[49m\n\u001b[1;32m    303\u001b[0m \u001b[38;5;28mself\u001b[39m\u001b[38;5;241m.\u001b[39mllr_after\u001b[38;5;241m=\u001b[39mllr_after\n\u001b[1;32m    304\u001b[0m importance_test\u001b[38;5;241m=\u001b[39mpd\u001b[38;5;241m.\u001b[39mmerge(llr_before,llr_after, on\u001b[38;5;241m=\u001b[39m\u001b[38;5;124m'\u001b[39m\u001b[38;5;124maccount\u001b[39m\u001b[38;5;124m'\u001b[39m, suffixes\u001b[38;5;241m=\u001b[39m(\u001b[38;5;124m'\u001b[39m\u001b[38;5;124m_1\u001b[39m\u001b[38;5;124m'\u001b[39m, \u001b[38;5;124m'\u001b[39m\u001b[38;5;124m_2\u001b[39m\u001b[38;5;124m'\u001b[39m), how\u001b[38;5;241m=\u001b[39m\u001b[38;5;124m'\u001b[39m\u001b[38;5;124mleft\u001b[39m\u001b[38;5;124m'\u001b[39m)\n",
      "File \u001b[0;32m~/desktop/flib/thesis_XAML/SyntheticDatacheck.py:302\u001b[0m, in \u001b[0;36mDatacheck.build_importance\u001b[0;34m(self, importance, aggregated)\u001b[0m\n\u001b[1;32m    299\u001b[0m accounts_withoutSAR\u001b[38;5;241m=\u001b[39m\u001b[38;5;28mself\u001b[39m\u001b[38;5;241m.\u001b[39mwithoutSAR_test[\u001b[38;5;124m'\u001b[39m\u001b[38;5;124maccount\u001b[39m\u001b[38;5;124m'\u001b[39m]\u001b[38;5;241m.\u001b[39mvalues\n\u001b[1;32m    300\u001b[0m llr_after[\u001b[38;5;124m'\u001b[39m\u001b[38;5;124maccount\u001b[39m\u001b[38;5;124m'\u001b[39m]\u001b[38;5;241m=\u001b[39maccounts_withoutSAR\n\u001b[0;32m--> 302\u001b[0m \u001b[38;5;28mself\u001b[39m\u001b[38;5;241m.\u001b[39mllr_before\u001b[38;5;241m=\u001b[39m\u001b[43mllr_before\u001b[49m\n\u001b[1;32m    303\u001b[0m \u001b[38;5;28mself\u001b[39m\u001b[38;5;241m.\u001b[39mllr_after\u001b[38;5;241m=\u001b[39mllr_after\n\u001b[1;32m    304\u001b[0m importance_test\u001b[38;5;241m=\u001b[39mpd\u001b[38;5;241m.\u001b[39mmerge(llr_before,llr_after, on\u001b[38;5;241m=\u001b[39m\u001b[38;5;124m'\u001b[39m\u001b[38;5;124maccount\u001b[39m\u001b[38;5;124m'\u001b[39m, suffixes\u001b[38;5;241m=\u001b[39m(\u001b[38;5;124m'\u001b[39m\u001b[38;5;124m_1\u001b[39m\u001b[38;5;124m'\u001b[39m, \u001b[38;5;124m'\u001b[39m\u001b[38;5;124m_2\u001b[39m\u001b[38;5;124m'\u001b[39m), how\u001b[38;5;241m=\u001b[39m\u001b[38;5;124m'\u001b[39m\u001b[38;5;124mleft\u001b[39m\u001b[38;5;124m'\u001b[39m)\n",
      "File \u001b[0;32m_pydevd_bundle/pydevd_cython.pyx:1457\u001b[0m, in \u001b[0;36m_pydevd_bundle.pydevd_cython.SafeCallWrapper.__call__\u001b[0;34m()\u001b[0m\n",
      "File \u001b[0;32m_pydevd_bundle/pydevd_cython.pyx:701\u001b[0m, in \u001b[0;36m_pydevd_bundle.pydevd_cython.PyDBFrame.trace_dispatch\u001b[0;34m()\u001b[0m\n",
      "File \u001b[0;32m_pydevd_bundle/pydevd_cython.pyx:1152\u001b[0m, in \u001b[0;36m_pydevd_bundle.pydevd_cython.PyDBFrame.trace_dispatch\u001b[0;34m()\u001b[0m\n",
      "File \u001b[0;32m_pydevd_bundle/pydevd_cython.pyx:1135\u001b[0m, in \u001b[0;36m_pydevd_bundle.pydevd_cython.PyDBFrame.trace_dispatch\u001b[0;34m()\u001b[0m\n",
      "File \u001b[0;32m_pydevd_bundle/pydevd_cython.pyx:312\u001b[0m, in \u001b[0;36m_pydevd_bundle.pydevd_cython.PyDBFrame.do_wait_suspend\u001b[0;34m()\u001b[0m\n",
      "File \u001b[0;32m~/desktop/tnevenv/lib/python3.10/site-packages/debugpy/_vendored/pydevd/pydevd.py:2070\u001b[0m, in \u001b[0;36mPyDB.do_wait_suspend\u001b[0;34m(self, thread, frame, event, arg, exception_type)\u001b[0m\n\u001b[1;32m   2067\u001b[0m             from_this_thread\u001b[38;5;241m.\u001b[39mappend(frame_custom_thread_id)\n\u001b[1;32m   2069\u001b[0m     \u001b[38;5;28;01mwith\u001b[39;00m \u001b[38;5;28mself\u001b[39m\u001b[38;5;241m.\u001b[39m_threads_suspended_single_notification\u001b[38;5;241m.\u001b[39mnotify_thread_suspended(thread_id, thread, stop_reason):\n\u001b[0;32m-> 2070\u001b[0m         keep_suspended \u001b[38;5;241m=\u001b[39m \u001b[38;5;28;43mself\u001b[39;49m\u001b[38;5;241;43m.\u001b[39;49m\u001b[43m_do_wait_suspend\u001b[49m\u001b[43m(\u001b[49m\u001b[43mthread\u001b[49m\u001b[43m,\u001b[49m\u001b[43m \u001b[49m\u001b[43mframe\u001b[49m\u001b[43m,\u001b[49m\u001b[43m \u001b[49m\u001b[43mevent\u001b[49m\u001b[43m,\u001b[49m\u001b[43m \u001b[49m\u001b[43marg\u001b[49m\u001b[43m,\u001b[49m\u001b[43m \u001b[49m\u001b[43msuspend_type\u001b[49m\u001b[43m,\u001b[49m\u001b[43m \u001b[49m\u001b[43mfrom_this_thread\u001b[49m\u001b[43m,\u001b[49m\u001b[43m \u001b[49m\u001b[43mframes_tracker\u001b[49m\u001b[43m)\u001b[49m\n\u001b[1;32m   2072\u001b[0m frames_list \u001b[38;5;241m=\u001b[39m \u001b[38;5;28;01mNone\u001b[39;00m\n\u001b[1;32m   2074\u001b[0m \u001b[38;5;28;01mif\u001b[39;00m keep_suspended:\n\u001b[1;32m   2075\u001b[0m     \u001b[38;5;66;03m# This means that we should pause again after a set next statement.\u001b[39;00m\n",
      "File \u001b[0;32m~/desktop/tnevenv/lib/python3.10/site-packages/debugpy/_vendored/pydevd/pydevd.py:2106\u001b[0m, in \u001b[0;36mPyDB._do_wait_suspend\u001b[0;34m(self, thread, frame, event, arg, suspend_type, from_this_thread, frames_tracker)\u001b[0m\n\u001b[1;32m   2103\u001b[0m         \u001b[38;5;28mself\u001b[39m\u001b[38;5;241m.\u001b[39m_call_input_hook()\n\u001b[1;32m   2105\u001b[0m     \u001b[38;5;28mself\u001b[39m\u001b[38;5;241m.\u001b[39mprocess_internal_commands()\n\u001b[0;32m-> 2106\u001b[0m     \u001b[43mtime\u001b[49m\u001b[38;5;241;43m.\u001b[39;49m\u001b[43msleep\u001b[49m\u001b[43m(\u001b[49m\u001b[38;5;241;43m0.01\u001b[39;49m\u001b[43m)\u001b[49m\n\u001b[1;32m   2108\u001b[0m \u001b[38;5;28mself\u001b[39m\u001b[38;5;241m.\u001b[39mcancel_async_evaluation(get_current_thread_id(thread), \u001b[38;5;28mstr\u001b[39m(\u001b[38;5;28mid\u001b[39m(frame)))\n\u001b[1;32m   2110\u001b[0m \u001b[38;5;66;03m# process any stepping instructions\u001b[39;00m\n",
      "\u001b[0;31mKeyboardInterrupt\u001b[0m: "
     ]
    }
   ],
   "source": [
    "dc_llr=SyntheticDatacheck.Datacheck(dataset_name,importance='llr',aggregated=False,attention_weights=attention_weights,sar_indices_used=sar_indices_used)"
   ]
  }
 ],
 "metadata": {
  "kernelspec": {
   "display_name": "tnevenv",
   "language": "python",
   "name": "python3"
  },
  "language_info": {
   "codemirror_mode": {
    "name": "ipython",
    "version": 3
   },
   "file_extension": ".py",
   "mimetype": "text/x-python",
   "name": "python",
   "nbconvert_exporter": "python",
   "pygments_lexer": "ipython3",
   "version": "3.10.12"
  }
 },
 "nbformat": 4,
 "nbformat_minor": 2
}
