{
 "cells": [
  {
   "cell_type": "code",
   "execution_count": 1,
   "metadata": {},
   "outputs": [],
   "source": [
    "# General\n",
    "import numpy as np\n",
    "import torch\n",
    "import torch.nn.functional as F\n",
    "from importlib import reload\n",
    "from types import SimpleNamespace\n",
    "\n",
    "# Custom\n",
    "import data\n",
    "reload(data)\n",
    "\n",
    "import train\n",
    "reload(train)\n",
    "\n",
    "import modules\n",
    "reload(modules)\n",
    "from modules import GCN, GCN_GNNExplainer, GCN_GraphSVX\n",
    "from modules import GraphSAGE\n",
    "from torch_geometric.data import DataLoader\n",
    "import torch.optim as optim\n",
    "\n",
    "import GraphSVX_explainers\n",
    "reload(GraphSVX_explainers)\n",
    "from GraphSVX_explainers import GraphSVX, GraphLIME"
   ]
  },
  {
   "cell_type": "markdown",
   "metadata": {},
   "source": [
    "# Training model"
   ]
  },
  {
   "cell_type": "code",
   "execution_count": 2,
   "metadata": {},
   "outputs": [
    {
     "name": "stdout",
     "output_type": "stream",
     "text": [
      "Using device: cuda\n",
      "Double check which dataset is being used.\n",
      "Starting training with 400 epochs.\n",
      "epoch: 10, loss: 1002.8441, precision: 0.0954, recall: 0.9632\n",
      "epoch: 20, loss: 410.7060, precision: 0.0990, recall: 0.8506\n",
      "epoch: 30, loss: 298.4398, precision: 0.0996, recall: 0.8414\n",
      "epoch: 40, loss: 175.7873, precision: 0.1007, recall: 0.7310\n",
      "epoch: 50, loss: 91.5205, precision: 0.1101, recall: 0.5356\n",
      "epoch: 60, loss: 61.3157, precision: 0.1111, recall: 0.5471\n",
      "epoch: 70, loss: 60.3558, precision: 0.0927, recall: 0.7586\n",
      "epoch: 80, loss: 59.4585, precision: 0.0893, recall: 0.9080\n",
      "epoch: 90, loss: 39.4627, precision: 0.0954, recall: 0.8046\n",
      "epoch: 100, loss: 30.7410, precision: 0.0921, recall: 0.7563\n",
      "epoch: 110, loss: 24.7582, precision: 0.0949, recall: 0.7402\n",
      "epoch: 120, loss: 11.8953, precision: 0.0965, recall: 0.7195\n",
      "epoch: 130, loss: 15.0565, precision: 0.0924, recall: 0.8391\n",
      "epoch: 140, loss: 11.0696, precision: 0.1009, recall: 0.8391\n",
      "epoch: 150, loss: 7.6861, precision: 0.0995, recall: 0.6989\n",
      "epoch: 160, loss: 4.8597, precision: 0.1021, recall: 0.3402\n",
      "epoch: 170, loss: 4.3999, precision: 0.1075, recall: 0.3080\n",
      "epoch: 180, loss: 3.9969, precision: 0.0904, recall: 0.6644\n",
      "epoch: 190, loss: 2.8894, precision: 0.1071, recall: 0.4046\n",
      "epoch: 200, loss: 3.4185, precision: 0.0969, recall: 0.2690\n",
      "epoch: 210, loss: 3.1289, precision: 0.0729, recall: 0.3563\n",
      "epoch: 220, loss: 3.7210, precision: 0.0889, recall: 0.5816\n",
      "epoch: 230, loss: 2.4817, precision: 0.0921, recall: 0.7333\n",
      "epoch: 240, loss: 10.5252, precision: 0.0911, recall: 0.9494\n",
      "epoch: 250, loss: 3.2647, precision: 0.0876, recall: 0.1586\n",
      "epoch: 260, loss: 4.1008, precision: 0.0887, recall: 0.7402\n",
      "epoch: 270, loss: 8.2063, precision: 0.0906, recall: 0.9977\n",
      "epoch: 280, loss: 2.6853, precision: 0.0907, recall: 0.9149\n",
      "epoch: 290, loss: 1.7178, precision: 0.0823, recall: 0.5770\n",
      "epoch: 300, loss: 1.6636, precision: 0.0827, recall: 0.5356\n",
      "epoch: 310, loss: 1.4828, precision: 0.0790, recall: 0.1609\n",
      "epoch: 320, loss: 6.3553, precision: 0.0892, recall: 0.9977\n",
      "epoch: 330, loss: 8.2103, precision: 0.0892, recall: 0.9977\n",
      "epoch: 340, loss: 6.2200, precision: 0.0893, recall: 0.9977\n",
      "epoch: 350, loss: 2.6811, precision: 0.0914, recall: 0.9471\n",
      "epoch: 360, loss: 1.0237, precision: 0.0684, recall: 0.0966\n",
      "epoch: 370, loss: 1.5430, precision: 0.0848, recall: 0.8598\n",
      "epoch: 380, loss: 0.7521, precision: 0.0573, recall: 0.0621\n",
      "epoch: 390, loss: 2.5575, precision: 0.0889, recall: 0.9931\n",
      "epoch: 400, loss: 2.6643, precision: 0.0891, recall: 0.9954\n",
      "Finished training.\n",
      "Number of SARs in training set: 2173 out of 5000\n",
      "Number of SARs in test set: 435 out of 4868\n"
     ]
    }
   ],
   "source": [
    "model, traindata, testdata, feature_names, target_names = train.train_GAT_GraphSVX(verbose = True)\n",
    "\n",
    "n_sar_accs_train = traindata.y[traindata.y == 1].shape[0]\n",
    "n_sar_accs_test = testdata.y[testdata.y == 1].shape[0]\n",
    "print(f\"Number of SARs in training set: {n_sar_accs_train} out of {traindata.y.shape[0]}\")\n",
    "print(f\"Number of SARs in test set: {n_sar_accs_test} out of {testdata.y.shape[0]}\")"
   ]
  },
  {
   "cell_type": "code",
   "execution_count": 3,
   "metadata": {},
   "outputs": [
    {
     "name": "stdout",
     "output_type": "stream",
     "text": [
      "[[   8 4425]\n",
      " [   2  433]]\n"
     ]
    }
   ],
   "source": [
    "from sklearn.metrics import confusion_matrix\n",
    "import numpy as np\n",
    "\n",
    "model.eval()\n",
    "with torch.no_grad():\n",
    "    out = model.forward(testdata.x, testdata.edge_index)\n",
    "    y_pred = out.cpu().numpy().argmax(axis=1)\n",
    "    y_true = testdata.y.cpu().numpy()\n",
    "    cm = confusion_matrix(y_true, y_pred)\n",
    "    print(cm)"
   ]
  },
  {
   "cell_type": "code",
   "execution_count": 4,
   "metadata": {},
   "outputs": [
    {
     "name": "stdout",
     "output_type": "stream",
     "text": [
      "torch.Size([2, 11210])\n"
     ]
    }
   ],
   "source": [
    "print(testdata.edge_index.shape)"
   ]
  },
  {
   "cell_type": "code",
   "execution_count": 5,
   "metadata": {},
   "outputs": [
    {
     "name": "stdout",
     "output_type": "stream",
     "text": [
      "Some of the 4858 SAR prediction indices: [0 1 2 3 4] ...\n"
     ]
    }
   ],
   "source": [
    "def get_sar_prediction_ix(model, testdata):\n",
    "    model.eval()\n",
    "    with torch.no_grad():\n",
    "        out = model.forward(testdata.x, testdata.edge_index)\n",
    "        y_pred = out.argmax(dim=1)\n",
    "        sar_prediction_ix = torch.where(y_pred == 1)[0]\n",
    "    return sar_prediction_ix\n",
    "\n",
    "sar_prediction_ix = get_sar_prediction_ix(model, testdata)\n",
    "n_sar_prediction_ix = len(sar_prediction_ix)\n",
    "\n",
    "print(f'Some of the {n_sar_prediction_ix} SAR prediction indices: {sar_prediction_ix[0:5].cpu().numpy()} ...')"
   ]
  },
  {
   "cell_type": "code",
   "execution_count": 6,
   "metadata": {},
   "outputs": [
    {
     "name": "stdout",
     "output_type": "stream",
     "text": [
      "[2, 1, 2, 2, 2, 2, 3, 2, 2, 2, 1, 2, 2, 1, 1, 1, 1, 2, 2, 1]\n",
      "[7, 8, 14, 7, 8, 10, 10, 8, 11, 9, 8, 9, 9, 17, 19, 13, 21, 21, 34, 70]\n",
      "[2, 1, 2, 2, 2, 2, 3, 2, 2, 2, 1, 2, 2, 1, 1, 1, 1, 2, 2, 1]\n",
      "[7, 8, 14, 7, 8, 10, 10, 8, 11, 9, 8, 9, 9, 17, 19, 13, 21, 21, 34, 70]\n"
     ]
    },
    {
     "data": {
      "image/png": "[encoded data removed]",
      "text/plain": [
       "<Figure size 1000x500 with 2 Axes>"
      ]
     },
     "metadata": {},
     "output_type": "display_data"
    },
    {
     "name": "stdout",
     "output_type": "stream",
     "text": [
      "max number of outgoing neighbours: 70\n",
      "max number of ingoing neighbours: 70\n"
     ]
    }
   ],
   "source": [
    "# Checking the number of ingoing (edges going towards the node v) and outgoing (edges going away from the node v) neighbours.\n",
    "\n",
    "sar_prediction_n_outgoing_neighbours = []\n",
    "sar_prediction_n_ingoing_neighbours = []\n",
    "for count, v in enumerate(sar_prediction_ix):\n",
    "    outgoing_neighbour_ix = torch.where(testdata.edge_index[0] == v)\n",
    "    ingoing_neighbour_ix = torch.where(testdata.edge_index[1] == v)\n",
    "    outgoing_neighbour_ix = testdata.edge_index[1][outgoing_neighbour_ix]\n",
    "    ingoing_neighbour_ix = testdata.edge_index[0][ingoing_neighbour_ix]\n",
    "    n_outgoing_neighbours = len(outgoing_neighbour_ix)\n",
    "    n_ingoing_neighbours = len(ingoing_neighbour_ix)\n",
    "    sar_prediction_n_outgoing_neighbours.append(n_outgoing_neighbours)\n",
    "    sar_prediction_n_ingoing_neighbours.append(n_ingoing_neighbours)\n",
    "\n",
    "n_check = 20\n",
    "print(sar_prediction_n_ingoing_neighbours[:n_check])\n",
    "print(sar_prediction_n_ingoing_neighbours[-n_check:])\n",
    "print(sar_prediction_n_outgoing_neighbours[:n_check])\n",
    "print(sar_prediction_n_outgoing_neighbours[-n_check:])\n",
    "\n",
    "import matplotlib.pyplot as plt\n",
    "\n",
    "data_range_outgoing = max(sar_prediction_n_outgoing_neighbours) - min(sar_prediction_n_outgoing_neighbours)\n",
    "data_range_ingoing = max(sar_prediction_n_ingoing_neighbours) - min(sar_prediction_n_ingoing_neighbours)\n",
    "\n",
    "plt.figure(figsize=(10, 5))\n",
    "\n",
    "# Histogram for outgoing_neighbours\n",
    "plt.subplot(1, 2, 2)\n",
    "plt.hist(sar_prediction_n_outgoing_neighbours, bins=data_range_outgoing, color='green')\n",
    "plt.xlabel('Number of Outgoing Neighbours')\n",
    "plt.ylabel('Frequency')\n",
    "plt.title('Histogram of Outgoing Neighbours')\n",
    "\n",
    "# Histogram for ingoing_neighbours\n",
    "plt.subplot(1, 2, 1)\n",
    "plt.hist(sar_prediction_n_ingoing_neighbours, bins=data_range_ingoing, color='blue')\n",
    "plt.xlabel('Number of Ingoing Neighbours')\n",
    "plt.ylabel('Frequency')\n",
    "plt.title('Histogram of Ingoing Neighbours')\n",
    "\n",
    "plt.tight_layout()\n",
    "plt.show()\n",
    "\n",
    "print(f'max number of outgoing neighbours: {max(sar_prediction_n_outgoing_neighbours)}')\n",
    "print(f'max number of ingoing neighbours: {max(sar_prediction_n_ingoing_neighbours)}')"
   ]
  },
  {
   "cell_type": "markdown",
   "metadata": {},
   "source": [
    "# Applying GraphSVX"
   ]
  },
  {
   "cell_type": "code",
   "execution_count": 7,
   "metadata": {},
   "outputs": [
    {
     "name": "stdout",
     "output_type": "stream",
     "text": [
      "Explaining node 0 which was prediced SAR.\n",
      "The node was predicted SAR (label 1) with probability 0.9688.\n",
      "The true label is 0.\n",
      "\n"
     ]
    },
    {
     "name": "stderr",
     "output_type": "stream",
     "text": [
      "100it [00:02, 41.58it/s]"
     ]
    },
    {
     "name": "stdout",
     "output_type": "stream",
     "text": [
      "r2:  0.6081804221121115\n",
      "weighted r2:  0.9997194107992255\n",
      "Explanations include 7 node features and 7 neighbours for this node        for 2 classes\n",
      "Model prediction is class 1 with confidence 0.9688369035720825, while true label is 0\n",
      "Base value 0.8275265132695204 for class  1\n",
      "Weights for node features:  0.05412925463775764 and neighbours:  0.0871750017844306\n",
      "Most influential features:  4 and neighbours 2\n",
      "Most influential features:  [(1, 0.061050204186869905), (2, 0.033429008585244446), (5, -0.028349318383448008)]\n",
      "Most influential neighbours:  [(4427, 0.13485635276083485), (531, -0.012036424390316824), (852, -0.011151871811534875)]\n",
      "Time:  2.696648120880127\n"
     ]
    },
    {
     "name": "stderr",
     "output_type": "stream",
     "text": [
      "\n"
     ]
    }
   ],
   "source": [
    "# 318, interesting node\n",
    "# Printing info about the explained node\n",
    "node_to_explain = sar_prediction_ix[0].item()\n",
    "print(f'Explaining node {node_to_explain} which was prediced SAR.')\n",
    "print(f'The node was predicted SAR (label 1) with probability {model.forward(testdata.x, testdata.edge_index)[node_to_explain].exp()[1].item():.4f}.')\n",
    "print(f'The true label is {testdata.y[node_to_explain]}.\\n')\n",
    "\n",
    "# Running the explainer\n",
    "testdata = testdata.to('cpu')\n",
    "model = model.to('cpu')\n",
    "\n",
    "data = SimpleNamespace()\n",
    "data.x = testdata.x\n",
    "data.edge_index  = testdata.edge_index\n",
    "data.y = testdata.y\n",
    "data.num_classes = 2\n",
    "data.num_features = 10\n",
    "data.num_nodes = testdata.x.shape[0]\n",
    "data.name = 'test'\n",
    "\n",
    "explainer = GraphSVX(data, model, True)\n",
    "explanations = explainer.explain(node_indexes=[node_to_explain], num_samples=100, hops = 3)\n",
    "\n",
    "model = model.to('cuda:0')\n",
    "testdata = testdata.to('cuda:0')"
   ]
  },
  {
   "cell_type": "code",
   "execution_count": 9,
   "metadata": {},
   "outputs": [
    {
     "name": "stdout",
     "output_type": "stream",
     "text": [
      "deque([(0, 0)])\n",
      "popped node 0\n",
      "deque([(3320, 1), (4427, 1)])\n",
      "popped node 3320\n",
      "deque([(4427, 1), (531, 2)])\n",
      "popped node 4427\n",
      "deque([(531, 2), (307, 2), (2712, 2)])\n",
      "popped node 531\n",
      "deque([(307, 2), (2712, 2)])\n",
      "popped node 307\n",
      "deque([(2712, 2), (4838, 3)])\n",
      "popped node 2712\n",
      "deque([(4838, 3), (852, 3)])\n",
      "tensor([[0, 0, 1, 2, 2, 4, 5],\n",
      "        [1, 2, 3, 4, 5, 6, 7]])\n",
      "None\n"
     ]
    }
   ],
   "source": [
    "from collections import deque\n",
    "from torch_geometric.data import Data\n",
    "\n",
    "\n",
    "def build_subgraph(data, node_to_explain, layers=2):\n",
    "    edge_index = data.edge_index\n",
    "    nodes = [node_to_explain]\n",
    "    \n",
    "    queue = deque([(node_to_explain, 0)])  # Initialize queue with starting node and its depth\n",
    "    visited=[]\n",
    "    edges=[]\n",
    "    while queue!=deque([]):\n",
    "        print(queue)\n",
    "        node, depth = queue.popleft()\n",
    "        if depth==layers:\n",
    "            break\n",
    "        visited.append(node)\n",
    "        print('popped node',node)\n",
    "        #src and dst neighbors\n",
    "        src = edge_index[1][edge_index[0]==node].tolist()\n",
    "        dst = edge_index[0][edge_index[1]==node].tolist()\n",
    "        neighbors = list(set(src+dst))\n",
    "\n",
    "        #Add edges to edges list\n",
    "        for n in neighbors:\n",
    "            if (node,n) not in edges and (n,node) not in edges:\n",
    "                edges.append((node,n))\n",
    "\n",
    "            if n not in visited:\n",
    "                visited.append(n)\n",
    "                nodes.append(n)\n",
    "                queue.extend([(n,depth+1)])\n",
    "    \n",
    "    \n",
    "    nodes = torch.tensor(nodes)\n",
    "    edges = torch.tensor(edges).t().contiguous()   \n",
    "\n",
    "    org_to_new_mapping, new_to_org_mapping, edges = node_index_mapping(nodes,edges)\n",
    "\n",
    "    #find feature vectors for nodes\n",
    "    node_features = data.x[nodes]\n",
    "\n",
    "    #create data object for subgraph using node_fetures and edges\n",
    "    data = Data(x=node_features, edge_index=edges)\n",
    "\n",
    "    return data, org_to_new_mapping, new_to_org_mapping\n",
    "\n",
    "\n",
    "def node_index_mapping(nodes,edges):\n",
    "\n",
    "    # Create a mapping from original node indices to new indices\n",
    "    node_index_mapping = {(old_idx.item(), new_idx) for new_idx, old_idx in enumerate(nodes)}\n",
    "\n",
    "    # Create a dictionary mapping original indices to new indices\n",
    "    org_to_new_mapping = {old_idx: new_idx for old_idx, new_idx in node_index_mapping}\n",
    "\n",
    "    # Create a dictionary mapping new indices to original indices\n",
    "    new_to_org_mapping = {new_idx: old_idx for old_idx, new_idx in node_index_mapping}\n",
    "\n",
    "    # Update the edge indices to use the new node indices\n",
    "    for old_idx, new_idx in node_index_mapping:\n",
    "        edges[edges == old_idx] = new_idx\n",
    "\n",
    "    return org_to_new_mapping, new_to_org_mapping, edges\n",
    "\n",
    "data, org_to_new_mapping, new_to_org_mapping=build_subgraph(testdata, node_to_explain, 3)\n",
    "\n",
    "print(data.edge_index)\n",
    "# find new index for node_to_explain\n",
    "\n",
    "# Use org_to_new_mapping to map from original indices to new indices\n",
    "new_index = org_to_new_mapping.get(311)\n",
    "print(new_index)\n",
    "\n",
    "device = torch.device('cuda' if torch.cuda.is_available() else 'cpu')\n",
    "data.edge_index = data.edge_index.to(device)"
   ]
  },
  {
   "cell_type": "code",
   "execution_count": 10,
   "metadata": {},
   "outputs": [
    {
     "data": {
      "image/png": "[encoded data removed]",
      "text/plain": [
       "<Figure size 800x600 with 1 Axes>"
      ]
     },
     "metadata": {},
     "output_type": "display_data"
    }
   ],
   "source": [
    "import networkx as nx\n",
    "import matplotlib.pyplot as plt\n",
    "from torch_geometric.utils import to_networkx\n",
    "G = to_networkx(data)\n",
    "\n",
    "# Plot the graph\n",
    "plt.figure(figsize=(8, 6))\n",
    "nx.draw(G, with_labels=True, node_color='lightblue', node_size=50, font_size=12, font_weight='bold')\n",
    "plt.title('Graph from Edge Indices')\n",
    "plt.show()"
   ]
  },
  {
   "cell_type": "code",
   "execution_count": null,
   "metadata": {},
   "outputs": [],
   "source": []
  }
 ],
 "metadata": {
  "kernelspec": {
   "display_name": "EXPLORERvenv",
   "language": "python",
   "name": "python3"
  },
  "language_info": {
   "codemirror_mode": {
    "name": "ipython",
    "version": 3
   },
   "file_extension": ".py",
   "mimetype": "text/x-python",
   "name": "python",
   "nbconvert_exporter": "python",
   "pygments_lexer": "ipython3",
   "version": "3.10.12"
  }
 },
 "nbformat": 4,
 "nbformat_minor": 2
}
