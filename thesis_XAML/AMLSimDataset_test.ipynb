{
 "cells": [
  {
   "cell_type": "code",
   "execution_count": 27,
   "metadata": {},
   "outputs": [],
   "source": [
    "from importlib import reload\n",
    "import torch\n",
    "\n",
    "import data\n",
    "reload(data)\n",
    "from data import AMLSimDataset\n"
   ]
  },
  {
   "cell_type": "code",
   "execution_count": 28,
   "metadata": {},
   "outputs": [
    {
     "name": "stdout",
     "output_type": "stream",
     "text": [
      "x_train: tensor([1]), y_train: tensor([0]), edge_index_train: tensor([[0, 1],\n",
      "        [1, 0]])\n",
      "x_val: tensor([1]), y_val: tensor([0]), edge_index_val: tensor([[0, 1],\n",
      "        [1, 0]])\n",
      "x_test: tensor([1]), y_test: tensor([0]), edge_index_test: tensor([[0, 1],\n",
      "        [1, 0]])\n"
     ]
    },
    {
     "data": {
      "text/plain": [
       "(Data(x=[1], edge_index=[2, 2], y=[1]),\n",
       " Data(x=[1], edge_index=[2, 2], y=[1]),\n",
       " Data(x=[1], edge_index=[2, 2], y=[1]))"
      ]
     },
     "execution_count": 28,
     "metadata": {},
     "output_type": "execute_result"
    }
   ],
   "source": [
    "dataset_name = 'simulation2'\n",
    "\n",
    "path = '~/desktop/flib/AMLsim/outputs/'+dataset_name+'/tx_log.csv'\n",
    "def feature_engineering_method(df_tx_log):\n",
    "    x = torch.tensor([1])\n",
    "    edge_index = torch.tensor([[0, 1], [1, 0]])\n",
    "    y = torch.tensor([0])\n",
    "    return x, edge_index, y\n",
    "\n",
    "AMLSimDataset(path, feature_engineering_method)"
   ]
  },
  {
   "cell_type": "code",
   "execution_count": null,
   "metadata": {},
   "outputs": [],
   "source": []
  }
 ],
 "metadata": {
  "kernelspec": {
   "display_name": "EXPLORERvenv",
   "language": "python",
   "name": "python3"
  },
  "language_info": {
   "codemirror_mode": {
    "name": "ipython",
    "version": 3
   },
   "file_extension": ".py",
   "mimetype": "text/x-python",
   "name": "python",
   "nbconvert_exporter": "python",
   "pygments_lexer": "ipython3",
   "version": "3.10.12"
  }
 },
 "nbformat": 4,
 "nbformat_minor": 2
}
