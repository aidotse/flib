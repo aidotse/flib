{
 "cells": [
  {
   "cell_type": "code",
   "execution_count": 6,
   "metadata": {},
   "outputs": [],
   "source": [
    "from importlib import reload\n",
    "import numpy as np\n",
    "import torch\n",
    "import torch_geometric\n",
    "from sklearn.metrics import balanced_accuracy_score, accuracy_score, precision_score, recall_score, fbeta_score, precision_recall_curve, average_precision_score\n",
    "from torch.nn import functional as F\n",
    "import matplotlib.pyplot as plt\n",
    "\n",
    "import criterions\n",
    "reload(criterions)\n",
    "from criterions import ClassBalancedLoss\n",
    "\n",
    "import data\n",
    "reload(data)\n",
    "from torch_geometric.data import Data\n",
    "\n",
    "import train\n",
    "reload(train)\n",
    "from train import train_GAT_GraphSVX_foroptuna, train_GraphSAGE_foroptuna"
   ]
  },
  {
   "cell_type": "code",
   "execution_count": 2,
   "metadata": {},
   "outputs": [
    {
     "name": "stdout",
     "output_type": "stream",
     "text": [
      "30\n",
      "30\n",
      "traindata.x.shape[1]:  29\n",
      "testdata.x.shape[1]:  29\n",
      "epoch: 1, train_loss: 0.7346, test_loss: 0.7287188172340393, accuracy: 0.2372, balanced_accuracy: 0.5012, precision: 0.2328, recall: 0.9945, f0.9999: 0.3772\n",
      "epoch: 10, train_loss: 0.6690, test_loss: 0.7045006155967712, accuracy: 0.2866, balanced_accuracy: 0.5237, precision: 0.2414, recall: 0.9664, f0.9999: 0.3863\n",
      "epoch: 20, train_loss: 0.6196, test_loss: 0.6382396817207336, accuracy: 0.6260, balanced_accuracy: 0.5834, precision: 0.3115, recall: 0.5038, f0.9999: 0.3849\n",
      "epoch: 30, train_loss: 0.5833, test_loss: 0.5768795013427734, accuracy: 0.7319, balanced_accuracy: 0.5665, precision: 0.3849, recall: 0.2576, f0.9999: 0.3087\n",
      "epoch: 40, train_loss: 0.5535, test_loss: 0.5356500744819641, accuracy: 0.7613, balanced_accuracy: 0.5519, precision: 0.4605, recall: 0.1607, f0.9999: 0.2383\n",
      "epoch: 50, train_loss: 0.5280, test_loss: 0.5070419311523438, accuracy: 0.7720, balanced_accuracy: 0.5446, precision: 0.5425, recall: 0.1198, f0.9999: 0.1963\n",
      "epoch: 60, train_loss: 0.5063, test_loss: 0.48939570784568787, accuracy: 0.7776, balanced_accuracy: 0.5484, precision: 0.6085, recall: 0.1201, f0.9999: 0.2006\n",
      "epoch: 70, train_loss: 0.4891, test_loss: 0.48029273748397827, accuracy: 0.7814, balanced_accuracy: 0.5566, precision: 0.6372, recall: 0.1367, f0.9999: 0.2252\n",
      "epoch: 80, train_loss: 0.4755, test_loss: 0.4759097993373871, accuracy: 0.7837, balanced_accuracy: 0.5629, precision: 0.6494, recall: 0.1503, f0.9999: 0.2441\n",
      "epoch: 90, train_loss: 0.4641, test_loss: 0.4724726676940918, accuracy: 0.7865, balanced_accuracy: 0.5695, precision: 0.6642, recall: 0.1641, f0.9999: 0.2632\n",
      "epoch: 100, train_loss: 0.4541, test_loss: 0.46492716670036316, accuracy: 0.7920, balanced_accuracy: 0.5833, precision: 0.6859, recall: 0.1933, f0.9999: 0.3017\n",
      "epoch: 110, train_loss: 0.4448, test_loss: 0.4590432643890381, accuracy: 0.7954, balanced_accuracy: 0.5907, precision: 0.7005, recall: 0.2083, f0.9999: 0.3211\n",
      "epoch: 120, train_loss: 0.4361, test_loss: 0.4539692997932434, accuracy: 0.7983, balanced_accuracy: 0.5988, precision: 0.7059, recall: 0.2260, f0.9999: 0.3424\n",
      "epoch: 130, train_loss: 0.4283, test_loss: 0.44848182797431946, accuracy: 0.8015, balanced_accuracy: 0.6078, precision: 0.7103, recall: 0.2460, f0.9999: 0.3655\n",
      "epoch: 140, train_loss: 0.4214, test_loss: 0.44666793942451477, accuracy: 0.8033, balanced_accuracy: 0.6083, precision: 0.7294, recall: 0.2440, f0.9999: 0.3656\n",
      "Stopping training early at 146/1000 epochs.\n"
     ]
    }
   ],
   "source": [
    "\n",
    "hyperparameters = {'hidden_channels': 15,\n",
    "                   'num_heads': 3,\n",
    "                    'dropout': 0.2,\n",
    "                    'lr': 0.002,\n",
    "                    'epochs': 1000,\n",
    "                    'beta': 0.9999, \n",
    "                    'seed':42}\n",
    "\n",
    "model_name = 'GraphSAGE'\n",
    "dataset_name ='100K_accts_EASY25'\n",
    "\n",
    "model, traindata, testdata, feature_names, target_names, running_train_loss, running_test_loss, accuracy = train_GraphSAGE_foroptuna(dataset_name, hyperparameters, verbose = True)"
   ]
  },
  {
   "cell_type": "code",
   "execution_count": 15,
   "metadata": {},
   "outputs": [
    {
     "name": "stdout",
     "output_type": "stream",
     "text": [
      "Using device: cuda\n",
      "Double check which dataset is being used.\n",
      "number of samples per classes (train) = [76743, 23257]\n",
      "number of samples per classes (val) = [76708, 23213]\n",
      "Starting training with 1000 epochs.\n",
      "epoch: 10, train_loss: 0.6508, val_loss: 0.6030, accuracy: 0.7180, precision: 0.1784, recall: 0.0594, fbeta: 0.0891\n",
      "epoch: 20, train_loss: 0.6143, val_loss: 0.5637, accuracy: 0.7553, precision: 0.1584, recall: 0.0123, fbeta: 0.0229\n",
      "epoch: 30, train_loss: 0.5755, val_loss: 0.5357, accuracy: 0.7660, precision: 0.2878, recall: 0.0050, fbeta: 0.0098\n",
      "epoch: 40, train_loss: 0.5500, val_loss: 0.5191, accuracy: 0.7677, precision: 0.4954, recall: 0.0046, fbeta: 0.0091\n",
      "epoch: 50, train_loss: 0.5320, val_loss: 0.5068, accuracy: 0.7678, precision: 0.5248, recall: 0.0073, fbeta: 0.0144\n",
      "epoch: 60, train_loss: 0.5171, val_loss: 0.4911, accuracy: 0.7683, precision: 0.5333, recall: 0.0197, fbeta: 0.0380\n",
      "epoch: 70, train_loss: 0.5049, val_loss: 0.4777, accuracy: 0.7705, precision: 0.5781, recall: 0.0442, fbeta: 0.0821\n",
      "epoch: 80, train_loss: 0.4926, val_loss: 0.4653, accuracy: 0.7744, precision: 0.6178, recall: 0.0759, fbeta: 0.1352\n",
      "epoch: 90, train_loss: 0.4805, val_loss: 0.4528, accuracy: 0.7806, precision: 0.6537, recall: 0.1183, fbeta: 0.2004\n",
      "epoch: 100, train_loss: 0.4700, val_loss: 0.4417, accuracy: 0.7871, precision: 0.6761, recall: 0.1602, fbeta: 0.2591\n",
      "epoch: 110, train_loss: 0.4600, val_loss: 0.4316, accuracy: 0.7939, precision: 0.6933, recall: 0.2021, fbeta: 0.3130\n",
      "epoch: 120, train_loss: 0.4530, val_loss: 0.4238, accuracy: 0.7994, precision: 0.7078, recall: 0.2328, fbeta: 0.3503\n",
      "epoch: 130, train_loss: 0.4451, val_loss: 0.4167, accuracy: 0.8051, precision: 0.7101, recall: 0.2723, fbeta: 0.3937\n",
      "epoch: 140, train_loss: 0.4410, val_loss: 0.4111, accuracy: 0.8095, precision: 0.7128, recall: 0.3014, fbeta: 0.4237\n",
      "epoch: 150, train_loss: 0.4366, val_loss: 0.4067, accuracy: 0.8127, precision: 0.7102, recall: 0.3275, fbeta: 0.4483\n",
      "epoch: 160, train_loss: 0.4338, val_loss: 0.4028, accuracy: 0.8151, precision: 0.7077, recall: 0.3477, fbeta: 0.4663\n",
      "epoch: 170, train_loss: 0.4316, val_loss: 0.3994, accuracy: 0.8174, precision: 0.7073, recall: 0.3654, fbeta: 0.4819\n",
      "epoch: 180, train_loss: 0.4279, val_loss: 0.3963, accuracy: 0.8191, precision: 0.7064, recall: 0.3790, fbeta: 0.4934\n",
      "epoch: 190, train_loss: 0.4269, val_loss: 0.3935, accuracy: 0.8207, precision: 0.7051, recall: 0.3923, fbeta: 0.5042\n",
      "epoch: 200, train_loss: 0.4250, val_loss: 0.3916, accuracy: 0.8222, precision: 0.7064, recall: 0.4018, fbeta: 0.5122\n",
      "epoch: 210, train_loss: 0.4239, val_loss: 0.3902, accuracy: 0.8234, precision: 0.7076, recall: 0.4085, fbeta: 0.5180\n",
      "epoch: 220, train_loss: 0.4215, val_loss: 0.3884, accuracy: 0.8248, precision: 0.7074, recall: 0.4190, fbeta: 0.5263\n",
      "epoch: 230, train_loss: 0.4217, val_loss: 0.3868, accuracy: 0.8256, precision: 0.7079, recall: 0.4247, fbeta: 0.5309\n",
      "epoch: 240, train_loss: 0.4208, val_loss: 0.3858, accuracy: 0.8262, precision: 0.7109, recall: 0.4248, fbeta: 0.5319\n",
      "epoch: 250, train_loss: 0.4186, val_loss: 0.3845, accuracy: 0.8268, precision: 0.7079, recall: 0.4333, fbeta: 0.5376\n",
      "epoch: 260, train_loss: 0.4169, val_loss: 0.3835, accuracy: 0.8273, precision: 0.7071, recall: 0.4381, fbeta: 0.5410\n",
      "epoch: 270, train_loss: 0.4182, val_loss: 0.3826, accuracy: 0.8277, precision: 0.7068, recall: 0.4418, fbeta: 0.5437\n",
      "epoch: 280, train_loss: 0.4164, val_loss: 0.3819, accuracy: 0.8283, precision: 0.7073, recall: 0.4449, fbeta: 0.5462\n",
      "epoch: 290, train_loss: 0.4156, val_loss: 0.3811, accuracy: 0.8287, precision: 0.7088, recall: 0.4460, fbeta: 0.5476\n",
      "epoch: 300, train_loss: 0.4152, val_loss: 0.3805, accuracy: 0.8291, precision: 0.7109, recall: 0.4454, fbeta: 0.5477\n",
      "epoch: 310, train_loss: 0.4148, val_loss: 0.3797, accuracy: 0.8299, precision: 0.7113, recall: 0.4505, fbeta: 0.5517\n",
      "epoch: 320, train_loss: 0.4138, val_loss: 0.3792, accuracy: 0.8299, precision: 0.7123, recall: 0.4495, fbeta: 0.5512\n",
      "epoch: 330, train_loss: 0.4147, val_loss: 0.3787, accuracy: 0.8302, precision: 0.7127, recall: 0.4510, fbeta: 0.5524\n",
      "epoch: 340, train_loss: 0.4130, val_loss: 0.3779, accuracy: 0.8306, precision: 0.7096, recall: 0.4586, fbeta: 0.5572\n",
      "epoch: 350, train_loss: 0.4117, val_loss: 0.3777, accuracy: 0.8311, precision: 0.7150, recall: 0.4542, fbeta: 0.5555\n",
      "epoch: 360, train_loss: 0.4123, val_loss: 0.3771, accuracy: 0.8315, precision: 0.7145, recall: 0.4576, fbeta: 0.5579\n",
      "epoch: 370, train_loss: 0.4112, val_loss: 0.3765, accuracy: 0.8314, precision: 0.7118, recall: 0.4606, fbeta: 0.5593\n",
      "epoch: 380, train_loss: 0.4121, val_loss: 0.3763, accuracy: 0.8315, precision: 0.7148, recall: 0.4570, fbeta: 0.5575\n",
      "epoch: 390, train_loss: 0.4097, val_loss: 0.3752, accuracy: 0.8322, precision: 0.7108, recall: 0.4684, fbeta: 0.5647\n",
      "epoch: 400, train_loss: 0.4096, val_loss: 0.3750, accuracy: 0.8320, precision: 0.7151, recall: 0.4602, fbeta: 0.5600\n",
      "epoch: 410, train_loss: 0.4091, val_loss: 0.3745, accuracy: 0.8325, precision: 0.7143, recall: 0.4648, fbeta: 0.5632\n",
      "epoch: 420, train_loss: 0.4089, val_loss: 0.3743, accuracy: 0.8326, precision: 0.7152, recall: 0.4642, fbeta: 0.5630\n",
      "epoch: 430, train_loss: 0.4091, val_loss: 0.3738, accuracy: 0.8331, precision: 0.7151, recall: 0.4677, fbeta: 0.5656\n",
      "epoch: 440, train_loss: 0.4095, val_loss: 0.3736, accuracy: 0.8331, precision: 0.7170, recall: 0.4652, fbeta: 0.5643\n",
      "epoch: 450, train_loss: 0.4076, val_loss: 0.3734, accuracy: 0.8331, precision: 0.7183, recall: 0.4636, fbeta: 0.5635\n",
      "epoch: 460, train_loss: 0.4066, val_loss: 0.3729, accuracy: 0.8332, precision: 0.7161, recall: 0.4671, fbeta: 0.5654\n",
      "epoch: 470, train_loss: 0.4075, val_loss: 0.3726, accuracy: 0.8335, precision: 0.7166, recall: 0.4688, fbeta: 0.5668\n",
      "epoch: 480, train_loss: 0.4068, val_loss: 0.3722, accuracy: 0.8338, precision: 0.7167, recall: 0.4705, fbeta: 0.5681\n",
      "epoch: 490, train_loss: 0.4059, val_loss: 0.3721, accuracy: 0.8340, precision: 0.7195, recall: 0.4675, fbeta: 0.5668\n",
      "epoch: 500, train_loss: 0.4050, val_loss: 0.3718, accuracy: 0.8339, precision: 0.7187, recall: 0.4686, fbeta: 0.5673\n",
      "epoch: 510, train_loss: 0.4055, val_loss: 0.3717, accuracy: 0.8343, precision: 0.7204, recall: 0.4687, fbeta: 0.5679\n",
      "epoch: 520, train_loss: 0.4067, val_loss: 0.3714, accuracy: 0.8344, precision: 0.7182, recall: 0.4725, fbeta: 0.5700\n",
      "epoch: 530, train_loss: 0.4062, val_loss: 0.3713, accuracy: 0.8346, precision: 0.7190, recall: 0.4727, fbeta: 0.5704\n",
      "epoch: 540, train_loss: 0.4038, val_loss: 0.3711, accuracy: 0.8346, precision: 0.7200, recall: 0.4714, fbeta: 0.5697\n",
      "epoch: 550, train_loss: 0.4052, val_loss: 0.3706, accuracy: 0.8348, precision: 0.7185, recall: 0.4750, fbeta: 0.5720\n",
      "epoch: 560, train_loss: 0.4052, val_loss: 0.3705, accuracy: 0.8349, precision: 0.7202, recall: 0.4730, fbeta: 0.5710\n",
      "epoch: 570, train_loss: 0.4058, val_loss: 0.3705, accuracy: 0.8350, precision: 0.7207, recall: 0.4730, fbeta: 0.5711\n",
      "epoch: 580, train_loss: 0.4047, val_loss: 0.3703, accuracy: 0.8351, precision: 0.7213, recall: 0.4728, fbeta: 0.5712\n",
      "epoch: 590, train_loss: 0.4047, val_loss: 0.3701, accuracy: 0.8354, precision: 0.7226, recall: 0.4729, fbeta: 0.5717\n",
      "epoch: 600, train_loss: 0.4033, val_loss: 0.3695, accuracy: 0.8358, precision: 0.7206, recall: 0.4792, fbeta: 0.5756\n",
      "epoch: 610, train_loss: 0.4032, val_loss: 0.3694, accuracy: 0.8359, precision: 0.7224, recall: 0.4770, fbeta: 0.5746\n",
      "epoch: 620, train_loss: 0.4024, val_loss: 0.3692, accuracy: 0.8359, precision: 0.7220, recall: 0.4777, fbeta: 0.5750\n",
      "epoch: 630, train_loss: 0.4034, val_loss: 0.3692, accuracy: 0.8360, precision: 0.7234, recall: 0.4758, fbeta: 0.5740\n",
      "epoch: 640, train_loss: 0.4019, val_loss: 0.3689, accuracy: 0.8362, precision: 0.7218, recall: 0.4799, fbeta: 0.5765\n",
      "epoch: 650, train_loss: 0.4014, val_loss: 0.3689, accuracy: 0.8360, precision: 0.7237, recall: 0.4759, fbeta: 0.5742\n",
      "epoch: 660, train_loss: 0.4012, val_loss: 0.3684, accuracy: 0.8362, precision: 0.7216, recall: 0.4799, fbeta: 0.5765\n",
      "epoch: 670, train_loss: 0.4021, val_loss: 0.3682, accuracy: 0.8364, precision: 0.7222, recall: 0.4809, fbeta: 0.5774\n",
      "epoch: 680, train_loss: 0.4006, val_loss: 0.3681, accuracy: 0.8365, precision: 0.7242, recall: 0.4784, fbeta: 0.5762\n",
      "epoch: 690, train_loss: 0.4017, val_loss: 0.3679, accuracy: 0.8365, precision: 0.7238, recall: 0.4793, fbeta: 0.5767\n",
      "epoch: 700, train_loss: 0.4022, val_loss: 0.3674, accuracy: 0.8369, precision: 0.7223, recall: 0.4838, fbeta: 0.5795\n",
      "epoch: 710, train_loss: 0.4026, val_loss: 0.3675, accuracy: 0.8368, precision: 0.7225, recall: 0.4828, fbeta: 0.5788\n",
      "epoch: 720, train_loss: 0.4014, val_loss: 0.3675, accuracy: 0.8369, precision: 0.7238, recall: 0.4821, fbeta: 0.5787\n",
      "epoch: 730, train_loss: 0.4007, val_loss: 0.3674, accuracy: 0.8370, precision: 0.7247, recall: 0.4811, fbeta: 0.5783\n",
      "epoch: 740, train_loss: 0.4002, val_loss: 0.3671, accuracy: 0.8371, precision: 0.7237, recall: 0.4836, fbeta: 0.5798\n",
      "epoch: 750, train_loss: 0.4012, val_loss: 0.3672, accuracy: 0.8370, precision: 0.7244, recall: 0.4813, fbeta: 0.5784\n",
      "epoch: 760, train_loss: 0.4016, val_loss: 0.3666, accuracy: 0.8372, precision: 0.7232, recall: 0.4847, fbeta: 0.5804\n",
      "epoch: 770, train_loss: 0.4003, val_loss: 0.3664, accuracy: 0.8376, precision: 0.7230, recall: 0.4882, fbeta: 0.5828\n",
      "epoch: 780, train_loss: 0.4003, val_loss: 0.3666, accuracy: 0.8377, precision: 0.7250, recall: 0.4858, fbeta: 0.5818\n",
      "epoch: 790, train_loss: 0.4001, val_loss: 0.3664, accuracy: 0.8376, precision: 0.7235, recall: 0.4872, fbeta: 0.5823\n",
      "epoch: 800, train_loss: 0.4011, val_loss: 0.3660, accuracy: 0.8381, precision: 0.7250, recall: 0.4881, fbeta: 0.5834\n",
      "epoch: 810, train_loss: 0.4006, val_loss: 0.3659, accuracy: 0.8382, precision: 0.7260, recall: 0.4874, fbeta: 0.5833\n",
      "epoch: 820, train_loss: 0.3992, val_loss: 0.3659, accuracy: 0.8383, precision: 0.7265, recall: 0.4875, fbeta: 0.5835\n",
      "epoch: 830, train_loss: 0.3996, val_loss: 0.3656, accuracy: 0.8385, precision: 0.7263, recall: 0.4890, fbeta: 0.5844\n",
      "epoch: 840, train_loss: 0.3996, val_loss: 0.3654, accuracy: 0.8384, precision: 0.7253, recall: 0.4899, fbeta: 0.5848\n",
      "epoch: 850, train_loss: 0.3987, val_loss: 0.3655, accuracy: 0.8385, precision: 0.7276, recall: 0.4870, fbeta: 0.5835\n",
      "epoch: 860, train_loss: 0.3991, val_loss: 0.3650, accuracy: 0.8386, precision: 0.7267, recall: 0.4894, fbeta: 0.5849\n",
      "epoch: 870, train_loss: 0.3986, val_loss: 0.3647, accuracy: 0.8387, precision: 0.7261, recall: 0.4906, fbeta: 0.5856\n",
      "epoch: 880, train_loss: 0.3988, val_loss: 0.3648, accuracy: 0.8388, precision: 0.7267, recall: 0.4904, fbeta: 0.5856\n",
      "epoch: 890, train_loss: 0.4007, val_loss: 0.3652, accuracy: 0.8385, precision: 0.7281, recall: 0.4867, fbeta: 0.5834\n",
      "epoch: 900, train_loss: 0.3993, val_loss: 0.3646, accuracy: 0.8389, precision: 0.7271, recall: 0.4908, fbeta: 0.5860\n",
      "epoch: 910, train_loss: 0.4001, val_loss: 0.3645, accuracy: 0.8392, precision: 0.7266, recall: 0.4933, fbeta: 0.5877\n",
      "epoch: 920, train_loss: 0.3976, val_loss: 0.3644, accuracy: 0.8394, precision: 0.7271, recall: 0.4945, fbeta: 0.5887\n",
      "epoch: 930, train_loss: 0.3993, val_loss: 0.3647, accuracy: 0.8388, precision: 0.7314, recall: 0.4840, fbeta: 0.5825\n",
      "epoch: 940, train_loss: 0.3984, val_loss: 0.3641, accuracy: 0.8395, precision: 0.7291, recall: 0.4921, fbeta: 0.5876\n",
      "epoch: 950, train_loss: 0.3986, val_loss: 0.3639, accuracy: 0.8397, precision: 0.7281, recall: 0.4949, fbeta: 0.5893\n",
      "epoch: 960, train_loss: 0.3981, val_loss: 0.3637, accuracy: 0.8398, precision: 0.7276, recall: 0.4958, fbeta: 0.5898\n",
      "epoch: 970, train_loss: 0.3983, val_loss: 0.3634, accuracy: 0.8400, precision: 0.7270, recall: 0.4984, fbeta: 0.5914\n",
      "epoch: 980, train_loss: 0.3987, val_loss: 0.3637, accuracy: 0.8398, precision: 0.7292, recall: 0.4939, fbeta: 0.5889\n",
      "epoch: 990, train_loss: 0.3980, val_loss: 0.3640, accuracy: 0.8397, precision: 0.7315, recall: 0.4895, fbeta: 0.5865\n",
      "epoch: 1000, train_loss: 0.3992, val_loss: 0.3633, accuracy: 0.8400, precision: 0.7280, recall: 0.4969, fbeta: 0.5906\n",
      "Finished training.\n"
     ]
    }
   ],
   "source": [
    "# This worked pretty well with 100 tolerance in early stopping\n",
    "# hyperparameters = {'hidden_channels': 10,\n",
    "#                    'num_heads': 2,\n",
    "#                     'dropout': 0.15,\n",
    "#                     'lr': 0.002,\n",
    "#                     'epochs': 1000,\n",
    "#                     'beta': 0.99991,\n",
    "#                     'seed':1}\n",
    "\n",
    "hyperparameters = {'hidden_channels': 20,\n",
    "                   'num_heads': 3,\n",
    "                    'dropout': 0.3,\n",
    "                    'lr': 0.001,\n",
    "                    'epochs': 1000,\n",
    "                    'beta': 0.9999,\n",
    "                    'seed':1}\n",
    "\n",
    "model_name = 'GAT'\n",
    "dataset_name = '100K_accts_EASY25'\n",
    "\n",
    "model, traindata, testdata, feature_names, target_names, running_train_loss, running_test_loss, accuracy, fbeta = train_GAT_GraphSVX_foroptuna(dataset_name, hyperparameters, verbose = True)"
   ]
  },
  {
   "cell_type": "code",
   "execution_count": 21,
   "metadata": {},
   "outputs": [],
   "source": [
    "# Save the model\n",
    "\n",
    "torch.save({\n",
    "    'model_state_dict': model.state_dict(),\n",
    "    'hyperparameters': hyperparameters,\n",
    "    'traindata': traindata,\n",
    "    'testdata': testdata,\n",
    "    'feature_names': feature_names,\n",
    "    'target_names': target_names,\n",
    "    'running_train_loss': running_train_loss,\n",
    "    'running_test_loss': running_test_loss,\n",
    "    'accuracy': accuracy\n",
    "}, f'trained_models_olddata_90overlap/{model_name}_{dataset_name}.pth')"
   ]
  },
  {
   "cell_type": "code",
   "execution_count": 18,
   "metadata": {},
   "outputs": [
    {
     "name": "stdout",
     "output_type": "stream",
     "text": [
      "Shaple of traindata.x: torch.Size([100000, 31])\n"
     ]
    }
   ],
   "source": [
    "print(f'Shaple of traindata.x: {traindata.x.shape}')"
   ]
  },
  {
   "cell_type": "code",
   "execution_count": 16,
   "metadata": {},
   "outputs": [
    {
     "name": "stdout",
     "output_type": "stream",
     "text": [
      "[[72398  4310]\n",
      " [11679 11534]]\n"
     ]
    }
   ],
   "source": [
    "from sklearn.metrics import confusion_matrix\n",
    "import numpy as np\n",
    "\n",
    "model.eval()\n",
    "with torch.no_grad():\n",
    "    out = model.forward(testdata.x, testdata.edge_index)\n",
    "    out = F.softmax(out, dim=1)\n",
    "    y_pred = out.cpu().numpy().argmax(axis=1)\n",
    "    y_true = testdata.y.cpu().numpy()\n",
    "    cm = confusion_matrix(y_true, y_pred)\n",
    "    print(cm)"
   ]
  },
  {
   "cell_type": "code",
   "execution_count": 19,
   "metadata": {},
   "outputs": [
    {
     "name": "stdout",
     "output_type": "stream",
     "text": [
      "0.2720272658419591\n",
      "Average Precision = 0.6977729247410805\n"
     ]
    },
    {
     "data": {
      "image/png": "[encoded data removed]",
      "text/plain": [
       "<Figure size 640x480 with 1 Axes>"
      ]
     },
     "metadata": {},
     "output_type": "display_data"
    }
   ],
   "source": [
    "FPpercent = cm[0,1] / (cm[1,1] + cm[0,1])\n",
    "print(FPpercent)\n",
    "\n",
    "# Todo: precision recall curve\n",
    "precision, recall, thresholds = precision_recall_curve(y_true, out[:,1].cpu().numpy())\n",
    "average_precision = average_precision_score(y_true, out[:,1].cpu().numpy())\n",
    "\n",
    "print(f'Average Precision = {average_precision}')\n",
    "\n",
    "# print(thresholds)\n",
    "# print(len(thresholds))\n",
    "\n",
    "plt.plot(recall, precision)\n",
    "plt.xlabel('Recall')\n",
    "plt.ylabel('Precision')\n",
    "plt.show()"
   ]
  },
  {
   "cell_type": "code",
   "execution_count": 20,
   "metadata": {},
   "outputs": [
    {
     "data": {
      "image/png": "[encoded data removed]",
      "text/plain": [
       "<Figure size 640x480 with 1 Axes>"
      ]
     },
     "metadata": {},
     "output_type": "display_data"
    }
   ],
   "source": [
    "plt.plot(running_train_loss, label='train loss', color='orange')\n",
    "plt.plot(running_test_loss, label='test loss', color='blue', linestyle='--')\n",
    "#plt.axvline(x=first_stop, color='red', linestyle='--')\n",
    "plt.legend(['train loss', 'test loss'])\n",
    "plt.show()"
   ]
  },
  {
   "cell_type": "markdown",
   "metadata": {},
   "source": [
    "# Optuna"
   ]
  },
  {
   "cell_type": "code",
   "execution_count": 39,
   "metadata": {},
   "outputs": [
    {
     "name": "stderr",
     "output_type": "stream",
     "text": [
      "[I 2024-05-21 08:52:05,607] A new study created in memory with name: no-name-c1c1649f-15a2-4afd-ad89-11d9e33078dd\n"
     ]
    },
    {
     "name": "stdout",
     "output_type": "stream",
     "text": [
      "Using device: cuda\n",
      "Double check which dataset is being used.\n",
      "32\n",
      "32\n",
      "number of samples per classes (train) = [96912, 2986]\n",
      "number of samples per classes (val) = [97405, 2595]\n",
      "Starting training with 1000 epochs.\n"
     ]
    },
    {
     "name": "stderr",
     "output_type": "stream",
     "text": [
      "[I 2024-05-21 08:52:49,550] Trial 0 finished with value: 0.062135078763573146 and parameters: {'hidden_channels': 15, 'dropout': 0.1771173173400492, 'lr': 0.0022922003414399443, 'beta': 0.9999142060175958}. Best is trial 0 with value: 0.062135078763573146.\n"
     ]
    },
    {
     "name": "stdout",
     "output_type": "stream",
     "text": [
      "Stopping training early at 257/1000 epochs.\n",
      "Finished training.\n",
      "Using device: cuda\n",
      "Double check which dataset is being used.\n",
      "32\n",
      "32\n",
      "number of samples per classes (train) = [96912, 2986]\n",
      "number of samples per classes (val) = [97405, 2595]\n",
      "Starting training with 1000 epochs.\n"
     ]
    },
    {
     "name": "stderr",
     "output_type": "stream",
     "text": [
      "[I 2024-05-21 08:53:43,582] Trial 1 finished with value: 0.0846668205654674 and parameters: {'hidden_channels': 15, 'dropout': 0.1082851302015779, 'lr': 0.0023901487461726817, 'beta': 0.9999070545418475}. Best is trial 1 with value: 0.0846668205654674.\n"
     ]
    },
    {
     "name": "stdout",
     "output_type": "stream",
     "text": [
      "Stopping training early at 279/1000 epochs.\n",
      "Finished training.\n",
      "Using device: cuda\n",
      "Double check which dataset is being used.\n",
      "32\n",
      "32\n",
      "number of samples per classes (train) = [96912, 2986]\n",
      "number of samples per classes (val) = [97405, 2595]\n",
      "Starting training with 1000 epochs.\n"
     ]
    },
    {
     "name": "stderr",
     "output_type": "stream",
     "text": [
      "[I 2024-05-21 08:54:48,340] Trial 2 finished with value: 0.22468871756798312 and parameters: {'hidden_channels': 15, 'dropout': 0.10138265737027326, 'lr': 0.0018567937169066762, 'beta': 0.9999129953445728}. Best is trial 2 with value: 0.22468871756798312.\n"
     ]
    },
    {
     "name": "stdout",
     "output_type": "stream",
     "text": [
      "Stopping training early at 310/1000 epochs.\n",
      "Finished training.\n",
      "Using device: cuda\n",
      "Double check which dataset is being used.\n",
      "32\n",
      "32\n",
      "number of samples per classes (train) = [96912, 2986]\n",
      "number of samples per classes (val) = [97405, 2595]\n",
      "Starting training with 1000 epochs.\n"
     ]
    },
    {
     "name": "stderr",
     "output_type": "stream",
     "text": [
      "[I 2024-05-21 08:56:34,774] Trial 3 finished with value: 0.3863201503958883 and parameters: {'hidden_channels': 10, 'dropout': 0.19613515436086337, 'lr': 0.0016705509069005011, 'beta': 0.9999060366824917}. Best is trial 3 with value: 0.3863201503958883.\n"
     ]
    },
    {
     "name": "stdout",
     "output_type": "stream",
     "text": [
      "Stopping training early at 562/1000 epochs.\n",
      "Finished training.\n",
      "Using device: cuda\n",
      "Double check which dataset is being used.\n",
      "32\n",
      "32\n",
      "number of samples per classes (train) = [96912, 2986]\n",
      "number of samples per classes (val) = [97405, 2595]\n",
      "Starting training with 1000 epochs.\n"
     ]
    },
    {
     "name": "stderr",
     "output_type": "stream",
     "text": [
      "[I 2024-05-21 08:59:23,434] Trial 4 finished with value: 0.2972487338086366 and parameters: {'hidden_channels': 10, 'dropout': 0.18068531975927785, 'lr': 0.0020115026837467746, 'beta': 0.9999171970300396}. Best is trial 3 with value: 0.3863201503958883.\n"
     ]
    },
    {
     "name": "stdout",
     "output_type": "stream",
     "text": [
      "Stopping training early at 776/1000 epochs.\n",
      "Finished training.\n",
      "Using device: cuda\n",
      "Double check which dataset is being used.\n",
      "32\n",
      "32\n",
      "number of samples per classes (train) = [96912, 2986]\n",
      "number of samples per classes (val) = [97405, 2595]\n",
      "Starting training with 1000 epochs.\n"
     ]
    },
    {
     "name": "stderr",
     "output_type": "stream",
     "text": [
      "[I 2024-05-21 09:00:26,858] Trial 5 finished with value: 0.02869992067427494 and parameters: {'hidden_channels': 15, 'dropout': 0.11085153936160456, 'lr': 0.0013954317132210993, 'beta': 0.9999100148409589}. Best is trial 3 with value: 0.3863201503958883.\n"
     ]
    },
    {
     "name": "stdout",
     "output_type": "stream",
     "text": [
      "Stopping training early at 269/1000 epochs.\n",
      "Finished training.\n",
      "Using device: cuda\n",
      "Double check which dataset is being used.\n",
      "32\n",
      "32\n",
      "number of samples per classes (train) = [96912, 2986]\n",
      "number of samples per classes (val) = [97405, 2595]\n",
      "Starting training with 1000 epochs.\n"
     ]
    },
    {
     "name": "stderr",
     "output_type": "stream",
     "text": [
      "[I 2024-05-21 09:01:27,855] Trial 6 finished with value: 0.33621738048779404 and parameters: {'hidden_channels': 15, 'dropout': 0.129775760802638, 'lr': 0.0028468006644833065, 'beta': 0.999913351142296}. Best is trial 3 with value: 0.3863201503958883.\n"
     ]
    },
    {
     "name": "stdout",
     "output_type": "stream",
     "text": [
      "Stopping training early at 263/1000 epochs.\n",
      "Finished training.\n",
      "Using device: cuda\n",
      "Double check which dataset is being used.\n",
      "32\n",
      "32\n",
      "number of samples per classes (train) = [96912, 2986]\n",
      "number of samples per classes (val) = [97405, 2595]\n",
      "Starting training with 1000 epochs.\n"
     ]
    },
    {
     "name": "stderr",
     "output_type": "stream",
     "text": [
      "[I 2024-05-21 09:02:52,204] Trial 7 finished with value: 0.3861419507700766 and parameters: {'hidden_channels': 10, 'dropout': 0.12653037300042697, 'lr': 0.002872300131613425, 'beta': 0.9999055363499246}. Best is trial 3 with value: 0.3863201503958883.\n"
     ]
    },
    {
     "name": "stdout",
     "output_type": "stream",
     "text": [
      "Stopping training early at 404/1000 epochs.\n",
      "Finished training.\n",
      "Using device: cuda\n",
      "Double check which dataset is being used.\n",
      "32\n",
      "32\n",
      "number of samples per classes (train) = [96912, 2986]\n",
      "number of samples per classes (val) = [97405, 2595]\n",
      "Starting training with 1000 epochs.\n"
     ]
    },
    {
     "name": "stderr",
     "output_type": "stream",
     "text": [
      "[I 2024-05-21 09:03:59,433] Trial 8 finished with value: 0.016789012036659223 and parameters: {'hidden_channels': 15, 'dropout': 0.15221302433697667, 'lr': 0.0010947588001680904, 'beta': 0.9999072508132705}. Best is trial 3 with value: 0.3863201503958883.\n"
     ]
    },
    {
     "name": "stdout",
     "output_type": "stream",
     "text": [
      "Stopping training early at 299/1000 epochs.\n",
      "Finished training.\n",
      "Using device: cuda\n",
      "Double check which dataset is being used.\n",
      "32\n",
      "32\n",
      "number of samples per classes (train) = [96912, 2986]\n",
      "number of samples per classes (val) = [97405, 2595]\n",
      "Starting training with 1000 epochs.\n"
     ]
    },
    {
     "name": "stderr",
     "output_type": "stream",
     "text": [
      "[I 2024-05-21 09:05:17,008] Trial 9 finished with value: 0.37074291149614425 and parameters: {'hidden_channels': 10, 'dropout': 0.10133559336213595, 'lr': 0.002432378118527853, 'beta': 0.999913365729136}. Best is trial 3 with value: 0.3863201503958883.\n"
     ]
    },
    {
     "name": "stdout",
     "output_type": "stream",
     "text": [
      "Stopping training early at 363/1000 epochs.\n",
      "Finished training.\n",
      "Using device: cuda\n",
      "Double check which dataset is being used.\n",
      "32\n",
      "32\n",
      "number of samples per classes (train) = [96912, 2986]\n",
      "number of samples per classes (val) = [97405, 2595]\n",
      "Starting training with 1000 epochs.\n"
     ]
    },
    {
     "name": "stderr",
     "output_type": "stream",
     "text": [
      "[I 2024-05-21 09:07:03,760] Trial 10 finished with value: 0.29669435488853513 and parameters: {'hidden_channels': 10, 'dropout': 0.19952069438970949, 'lr': 0.0015943600876454915, 'beta': 0.9999032105871718}. Best is trial 3 with value: 0.3863201503958883.\n"
     ]
    },
    {
     "name": "stdout",
     "output_type": "stream",
     "text": [
      "Stopping training early at 478/1000 epochs.\n",
      "Finished training.\n",
      "Using device: cuda\n",
      "Double check which dataset is being used.\n",
      "32\n",
      "32\n",
      "number of samples per classes (train) = [96912, 2986]\n",
      "number of samples per classes (val) = [97405, 2595]\n",
      "Starting training with 1000 epochs.\n"
     ]
    },
    {
     "name": "stderr",
     "output_type": "stream",
     "text": [
      "[I 2024-05-21 09:08:14,448] Trial 11 finished with value: 0.10489162286906101 and parameters: {'hidden_channels': 10, 'dropout': 0.14001654576182596, 'lr': 0.002990072114050513, 'beta': 0.9999003941128191}. Best is trial 3 with value: 0.3863201503958883.\n"
     ]
    },
    {
     "name": "stdout",
     "output_type": "stream",
     "text": [
      "Stopping training early at 333/1000 epochs.\n",
      "Finished training.\n",
      "Using device: cuda\n",
      "Double check which dataset is being used.\n",
      "32\n",
      "32\n",
      "number of samples per classes (train) = [96912, 2986]\n",
      "number of samples per classes (val) = [97405, 2595]\n",
      "Starting training with 1000 epochs.\n"
     ]
    },
    {
     "name": "stderr",
     "output_type": "stream",
     "text": [
      "[I 2024-05-21 09:09:56,046] Trial 12 finished with value: 0.370571283885562 and parameters: {'hidden_channels': 10, 'dropout': 0.16092960390667105, 'lr': 0.0017483278154260726, 'beta': 0.9999052410600648}. Best is trial 3 with value: 0.3863201503958883.\n"
     ]
    },
    {
     "name": "stdout",
     "output_type": "stream",
     "text": [
      "Stopping training early at 484/1000 epochs.\n",
      "Finished training.\n",
      "Using device: cuda\n",
      "Double check which dataset is being used.\n",
      "32\n",
      "32\n",
      "number of samples per classes (train) = [96912, 2986]\n",
      "number of samples per classes (val) = [97405, 2595]\n",
      "Starting training with 1000 epochs.\n"
     ]
    },
    {
     "name": "stderr",
     "output_type": "stream",
     "text": [
      "[I 2024-05-21 09:11:27,017] Trial 13 finished with value: 0.39831711691707333 and parameters: {'hidden_channels': 10, 'dropout': 0.1290882225031532, 'lr': 0.002687881348550537, 'beta': 0.9999022455161285}. Best is trial 13 with value: 0.39831711691707333.\n"
     ]
    },
    {
     "name": "stdout",
     "output_type": "stream",
     "text": [
      "Stopping training early at 428/1000 epochs.\n",
      "Finished training.\n",
      "Using device: cuda\n",
      "Double check which dataset is being used.\n",
      "32\n",
      "32\n",
      "number of samples per classes (train) = [96912, 2986]\n",
      "number of samples per classes (val) = [97405, 2595]\n",
      "Starting training with 1000 epochs.\n"
     ]
    },
    {
     "name": "stderr",
     "output_type": "stream",
     "text": [
      "[I 2024-05-21 09:12:17,160] Trial 14 finished with value: 0.015262840454393313 and parameters: {'hidden_channels': 10, 'dropout': 0.19488811832083108, 'lr': 0.0020707308812868913, 'beta': 0.9999004179307486}. Best is trial 13 with value: 0.39831711691707333.\n"
     ]
    },
    {
     "name": "stdout",
     "output_type": "stream",
     "text": [
      "Stopping training early at 238/1000 epochs.\n",
      "Finished training.\n",
      "Using device: cuda\n",
      "Double check which dataset is being used.\n",
      "32\n",
      "32\n",
      "number of samples per classes (train) = [96912, 2986]\n",
      "number of samples per classes (val) = [97405, 2595]\n",
      "Starting training with 1000 epochs.\n"
     ]
    },
    {
     "name": "stderr",
     "output_type": "stream",
     "text": [
      "[I 2024-05-21 09:15:38,922] Trial 15 finished with value: 0.41949721577879523 and parameters: {'hidden_channels': 10, 'dropout': 0.16812835987118724, 'lr': 0.0013440696757133367, 'beta': 0.9999032474422146}. Best is trial 15 with value: 0.41949721577879523.\n"
     ]
    },
    {
     "name": "stdout",
     "output_type": "stream",
     "text": [
      "Stopping training early at 961/1000 epochs.\n",
      "Finished training.\n",
      "Using device: cuda\n",
      "Double check which dataset is being used.\n",
      "32\n",
      "32\n",
      "number of samples per classes (train) = [96912, 2986]\n",
      "number of samples per classes (val) = [97405, 2595]\n",
      "Starting training with 1000 epochs.\n"
     ]
    },
    {
     "name": "stderr",
     "output_type": "stream",
     "text": [
      "[I 2024-05-21 09:16:22,380] Trial 16 finished with value: 0.18108214383027885 and parameters: {'hidden_channels': 10, 'dropout': 0.16603859841547197, 'lr': 0.0011071459449810226, 'beta': 0.9999028344866334}. Best is trial 15 with value: 0.41949721577879523.\n"
     ]
    },
    {
     "name": "stdout",
     "output_type": "stream",
     "text": [
      "Stopping training early at 189/1000 epochs.\n",
      "Finished training.\n",
      "Using device: cuda\n",
      "Double check which dataset is being used.\n",
      "32\n",
      "32\n",
      "number of samples per classes (train) = [96912, 2986]\n",
      "number of samples per classes (val) = [97405, 2595]\n",
      "Starting training with 1000 epochs.\n"
     ]
    },
    {
     "name": "stderr",
     "output_type": "stream",
     "text": [
      "[I 2024-05-21 09:19:53,962] Trial 17 finished with value: 0.3810900814619459 and parameters: {'hidden_channels': 10, 'dropout': 0.13934763554651539, 'lr': 0.001360725497846727, 'beta': 0.999909517016483}. Best is trial 15 with value: 0.41949721577879523.\n"
     ]
    },
    {
     "name": "stdout",
     "output_type": "stream",
     "text": [
      "Finished training.\n",
      "Using device: cuda\n",
      "Double check which dataset is being used.\n",
      "32\n",
      "32\n",
      "number of samples per classes (train) = [96912, 2986]\n",
      "number of samples per classes (val) = [97405, 2595]\n",
      "Starting training with 1000 epochs.\n"
     ]
    },
    {
     "name": "stderr",
     "output_type": "stream",
     "text": [
      "[I 2024-05-21 09:21:26,051] Trial 18 finished with value: 0.332279050914988 and parameters: {'hidden_channels': 10, 'dropout': 0.1496134787420746, 'lr': 0.0026404697009574916, 'beta': 0.9999029457872026}. Best is trial 15 with value: 0.41949721577879523.\n"
     ]
    },
    {
     "name": "stdout",
     "output_type": "stream",
     "text": [
      "Stopping training early at 433/1000 epochs.\n",
      "Finished training.\n",
      "Using device: cuda\n",
      "Double check which dataset is being used.\n",
      "32\n",
      "32\n",
      "number of samples per classes (train) = [96912, 2986]\n",
      "number of samples per classes (val) = [97405, 2595]\n",
      "Starting training with 1000 epochs.\n",
      "Stopping training early at 397/1000 epochs.\n",
      "Finished training.\n"
     ]
    },
    {
     "name": "stderr",
     "output_type": "stream",
     "text": [
      "[I 2024-05-21 09:22:49,211] Trial 19 finished with value: 0.2119266826248259 and parameters: {'hidden_channels': 10, 'dropout': 0.11954824209377914, 'lr': 0.002157941850447872, 'beta': 0.9999094752633215}. Best is trial 15 with value: 0.41949721577879523.\n"
     ]
    },
    {
     "name": "stdout",
     "output_type": "stream",
     "text": [
      "Using device: cuda\n",
      "Double check which dataset is being used.\n",
      "32\n",
      "32\n",
      "number of samples per classes (train) = [96912, 2986]\n",
      "number of samples per classes (val) = [97405, 2595]\n",
      "Starting training with 1000 epochs.\n"
     ]
    },
    {
     "name": "stderr",
     "output_type": "stream",
     "text": [
      "[I 2024-05-21 09:24:48,699] Trial 20 finished with value: 0.4091242186429985 and parameters: {'hidden_channels': 10, 'dropout': 0.17526025581954033, 'lr': 0.002585801366302999, 'beta': 0.9999018509452259}. Best is trial 15 with value: 0.41949721577879523.\n"
     ]
    },
    {
     "name": "stdout",
     "output_type": "stream",
     "text": [
      "Stopping training early at 567/1000 epochs.\n",
      "Finished training.\n",
      "Using device: cuda\n",
      "Double check which dataset is being used.\n",
      "32\n",
      "32\n",
      "number of samples per classes (train) = [96912, 2986]\n",
      "number of samples per classes (val) = [97405, 2595]\n",
      "Starting training with 1000 epochs.\n"
     ]
    },
    {
     "name": "stderr",
     "output_type": "stream",
     "text": [
      "[I 2024-05-21 09:26:33,295] Trial 21 finished with value: 0.31638342514676954 and parameters: {'hidden_channels': 10, 'dropout': 0.17859627029913103, 'lr': 0.0026467804530885836, 'beta': 0.9999016717896186}. Best is trial 15 with value: 0.41949721577879523.\n"
     ]
    },
    {
     "name": "stdout",
     "output_type": "stream",
     "text": [
      "Stopping training early at 475/1000 epochs.\n",
      "Finished training.\n",
      "Using device: cuda\n",
      "Double check which dataset is being used.\n",
      "32\n",
      "32\n",
      "number of samples per classes (train) = [96912, 2986]\n",
      "number of samples per classes (val) = [97405, 2595]\n",
      "Starting training with 1000 epochs.\n"
     ]
    },
    {
     "name": "stderr",
     "output_type": "stream",
     "text": [
      "[I 2024-05-21 09:28:01,532] Trial 22 finished with value: 0.2535778116337452 and parameters: {'hidden_channels': 10, 'dropout': 0.16463275064657645, 'lr': 0.0025754589997946725, 'beta': 0.9999040821632957}. Best is trial 15 with value: 0.41949721577879523.\n"
     ]
    },
    {
     "name": "stdout",
     "output_type": "stream",
     "text": [
      "Stopping training early at 426/1000 epochs.\n",
      "Finished training.\n",
      "Using device: cuda\n",
      "Double check which dataset is being used.\n",
      "32\n",
      "32\n",
      "number of samples per classes (train) = [96912, 2986]\n",
      "number of samples per classes (val) = [97405, 2595]\n",
      "Starting training with 1000 epochs.\n"
     ]
    },
    {
     "name": "stderr",
     "output_type": "stream",
     "text": [
      "[I 2024-05-21 09:29:23,277] Trial 23 finished with value: 0.3594344664839966 and parameters: {'hidden_channels': 10, 'dropout': 0.18517557870188228, 'lr': 0.0022103535900563805, 'beta': 0.9999016035058348}. Best is trial 15 with value: 0.41949721577879523.\n"
     ]
    },
    {
     "name": "stdout",
     "output_type": "stream",
     "text": [
      "Stopping training early at 367/1000 epochs.\n",
      "Finished training.\n",
      "Using device: cuda\n",
      "Double check which dataset is being used.\n",
      "32\n",
      "32\n",
      "number of samples per classes (train) = [96912, 2986]\n",
      "number of samples per classes (val) = [97405, 2595]\n",
      "Starting training with 1000 epochs.\n"
     ]
    },
    {
     "name": "stderr",
     "output_type": "stream",
     "text": [
      "[I 2024-05-21 09:32:36,153] Trial 24 finished with value: 0.4087269104614581 and parameters: {'hidden_channels': 10, 'dropout': 0.16965695831372082, 'lr': 0.0024973055642571653, 'beta': 0.9999000011690358}. Best is trial 15 with value: 0.41949721577879523.\n"
     ]
    },
    {
     "name": "stdout",
     "output_type": "stream",
     "text": [
      "Stopping training early at 959/1000 epochs.\n",
      "Finished training.\n",
      "Using device: cuda\n",
      "Double check which dataset is being used.\n",
      "32\n",
      "32\n",
      "number of samples per classes (train) = [96912, 2986]\n",
      "number of samples per classes (val) = [97405, 2595]\n",
      "Starting training with 1000 epochs.\n"
     ]
    },
    {
     "name": "stderr",
     "output_type": "stream",
     "text": [
      "[I 2024-05-21 09:34:11,535] Trial 25 finished with value: 0.36921564180234817 and parameters: {'hidden_channels': 10, 'dropout': 0.17029259274522038, 'lr': 0.002468824258551813, 'beta': 0.9999000697301392}. Best is trial 15 with value: 0.41949721577879523.\n"
     ]
    },
    {
     "name": "stdout",
     "output_type": "stream",
     "text": [
      "Stopping training early at 469/1000 epochs.\n",
      "Finished training.\n",
      "Using device: cuda\n",
      "Double check which dataset is being used.\n",
      "32\n",
      "32\n",
      "number of samples per classes (train) = [96912, 2986]\n",
      "number of samples per classes (val) = [97405, 2595]\n",
      "Starting training with 1000 epochs.\n"
     ]
    },
    {
     "name": "stderr",
     "output_type": "stream",
     "text": [
      "[I 2024-05-21 09:36:29,406] Trial 26 finished with value: 0.2546172893732845 and parameters: {'hidden_channels': 10, 'dropout': 0.15455460932599333, 'lr': 0.0019074634756526493, 'beta': 0.9999042171436279}. Best is trial 15 with value: 0.41949721577879523.\n"
     ]
    },
    {
     "name": "stdout",
     "output_type": "stream",
     "text": [
      "Stopping training early at 688/1000 epochs.\n",
      "Finished training.\n",
      "Using device: cuda\n",
      "Double check which dataset is being used.\n",
      "32\n",
      "32\n",
      "number of samples per classes (train) = [96912, 2986]\n",
      "number of samples per classes (val) = [97405, 2595]\n",
      "Starting training with 1000 epochs.\n"
     ]
    },
    {
     "name": "stderr",
     "output_type": "stream",
     "text": [
      "[I 2024-05-21 09:38:57,683] Trial 27 finished with value: 0.41669601149407776 and parameters: {'hidden_channels': 10, 'dropout': 0.18999754581501185, 'lr': 0.0028232114783763307, 'beta': 0.9999080053522627}. Best is trial 15 with value: 0.41949721577879523.\n"
     ]
    },
    {
     "name": "stdout",
     "output_type": "stream",
     "text": [
      "Stopping training early at 767/1000 epochs.\n",
      "Finished training.\n",
      "Using device: cuda\n",
      "Double check which dataset is being used.\n",
      "32\n",
      "32\n",
      "number of samples per classes (train) = [96912, 2986]\n",
      "number of samples per classes (val) = [97405, 2595]\n",
      "Starting training with 1000 epochs.\n"
     ]
    },
    {
     "name": "stderr",
     "output_type": "stream",
     "text": [
      "[I 2024-05-21 09:41:12,734] Trial 28 finished with value: 0.3910989648262882 and parameters: {'hidden_channels': 10, 'dropout': 0.1896345918243251, 'lr': 0.002795734952924848, 'beta': 0.9999196096990997}. Best is trial 15 with value: 0.41949721577879523.\n"
     ]
    },
    {
     "name": "stdout",
     "output_type": "stream",
     "text": [
      "Stopping training early at 701/1000 epochs.\n",
      "Finished training.\n",
      "Using device: cuda\n",
      "Double check which dataset is being used.\n",
      "32\n",
      "32\n",
      "number of samples per classes (train) = [96912, 2986]\n",
      "number of samples per classes (val) = [97405, 2595]\n",
      "Starting training with 1000 epochs.\n"
     ]
    },
    {
     "name": "stderr",
     "output_type": "stream",
     "text": [
      "[I 2024-05-21 09:43:58,563] Trial 29 finished with value: 0.3146143050978923 and parameters: {'hidden_channels': 15, 'dropout': 0.18597435630781173, 'lr': 0.0014266170629385838, 'beta': 0.9999111575164805}. Best is trial 15 with value: 0.41949721577879523.\n"
     ]
    },
    {
     "name": "stdout",
     "output_type": "stream",
     "text": [
      "Stopping training early at 708/1000 epochs.\n",
      "Finished training.\n",
      "Using device: cuda\n",
      "Double check which dataset is being used.\n",
      "32\n",
      "32\n",
      "number of samples per classes (train) = [96912, 2986]\n",
      "number of samples per classes (val) = [97405, 2595]\n",
      "Starting training with 1000 epochs.\n"
     ]
    },
    {
     "name": "stderr",
     "output_type": "stream",
     "text": [
      "[I 2024-05-21 09:45:16,967] Trial 30 finished with value: 0.35019425098624996 and parameters: {'hidden_channels': 10, 'dropout': 0.17449752771663865, 'lr': 0.002292093744129431, 'beta': 0.9999071824555607}. Best is trial 15 with value: 0.41949721577879523.\n"
     ]
    },
    {
     "name": "stdout",
     "output_type": "stream",
     "text": [
      "Stopping training early at 347/1000 epochs.\n",
      "Finished training.\n",
      "Using device: cuda\n",
      "Double check which dataset is being used.\n",
      "32\n",
      "32\n",
      "number of samples per classes (train) = [96912, 2986]\n",
      "number of samples per classes (val) = [97405, 2595]\n",
      "Starting training with 1000 epochs.\n"
     ]
    },
    {
     "name": "stderr",
     "output_type": "stream",
     "text": [
      "[I 2024-05-21 09:46:48,614] Trial 31 finished with value: 0.13138718172127853 and parameters: {'hidden_channels': 10, 'dropout': 0.1728405370036523, 'lr': 0.0025045535871017484, 'beta': 0.9999015507662763}. Best is trial 15 with value: 0.41949721577879523.\n"
     ]
    },
    {
     "name": "stdout",
     "output_type": "stream",
     "text": [
      "Stopping training early at 425/1000 epochs.\n",
      "Finished training.\n",
      "Using device: cuda\n",
      "Double check which dataset is being used.\n",
      "32\n",
      "32\n",
      "number of samples per classes (train) = [96912, 2986]\n",
      "number of samples per classes (val) = [97405, 2595]\n",
      "Starting training with 1000 epochs.\n"
     ]
    },
    {
     "name": "stderr",
     "output_type": "stream",
     "text": [
      "[I 2024-05-21 09:49:02,624] Trial 32 finished with value: 0.3512893034629771 and parameters: {'hidden_channels': 10, 'dropout': 0.15888601599553326, 'lr': 0.002322643515717811, 'beta': 0.9999083451948786}. Best is trial 15 with value: 0.41949721577879523.\n"
     ]
    },
    {
     "name": "stdout",
     "output_type": "stream",
     "text": [
      "Stopping training early at 675/1000 epochs.\n",
      "Finished training.\n",
      "Using device: cuda\n",
      "Double check which dataset is being used.\n",
      "32\n",
      "32\n",
      "number of samples per classes (train) = [96912, 2986]\n",
      "number of samples per classes (val) = [97405, 2595]\n",
      "Starting training with 1000 epochs.\n"
     ]
    },
    {
     "name": "stderr",
     "output_type": "stream",
     "text": [
      "[I 2024-05-21 09:51:04,828] Trial 33 finished with value: 0.376971375926657 and parameters: {'hidden_channels': 10, 'dropout': 0.18106135279343016, 'lr': 0.002976503007335832, 'beta': 0.9999046088966984}. Best is trial 15 with value: 0.41949721577879523.\n"
     ]
    },
    {
     "name": "stdout",
     "output_type": "stream",
     "text": [
      "Stopping training early at 611/1000 epochs.\n",
      "Finished training.\n",
      "Using device: cuda\n",
      "Double check which dataset is being used.\n",
      "32\n",
      "32\n",
      "number of samples per classes (train) = [96912, 2986]\n",
      "number of samples per classes (val) = [97405, 2595]\n",
      "Starting training with 1000 epochs.\n"
     ]
    },
    {
     "name": "stderr",
     "output_type": "stream",
     "text": [
      "[I 2024-05-21 09:52:46,758] Trial 34 finished with value: 0.3493623291171595 and parameters: {'hidden_channels': 10, 'dropout': 0.1904625525895987, 'lr': 0.0027609186915898126, 'beta': 0.9999036665171941}. Best is trial 15 with value: 0.41949721577879523.\n"
     ]
    },
    {
     "name": "stdout",
     "output_type": "stream",
     "text": [
      "Stopping training early at 494/1000 epochs.\n",
      "Finished training.\n",
      "Using device: cuda\n",
      "Double check which dataset is being used.\n",
      "32\n",
      "32\n",
      "number of samples per classes (train) = [96912, 2986]\n",
      "number of samples per classes (val) = [97405, 2595]\n",
      "Starting training with 1000 epochs.\n"
     ]
    },
    {
     "name": "stderr",
     "output_type": "stream",
     "text": [
      "[I 2024-05-21 09:54:03,339] Trial 35 finished with value: 0.10492904075179554 and parameters: {'hidden_channels': 15, 'dropout': 0.16615076976413098, 'lr': 0.002524065819236932, 'beta': 0.9999062393134729}. Best is trial 15 with value: 0.41949721577879523.\n"
     ]
    },
    {
     "name": "stdout",
     "output_type": "stream",
     "text": [
      "Stopping training early at 344/1000 epochs.\n",
      "Finished training.\n",
      "Using device: cuda\n",
      "Double check which dataset is being used.\n",
      "32\n",
      "32\n",
      "number of samples per classes (train) = [96912, 2986]\n",
      "number of samples per classes (val) = [97405, 2595]\n",
      "Starting training with 1000 epochs.\n"
     ]
    },
    {
     "name": "stderr",
     "output_type": "stream",
     "text": [
      "[I 2024-05-21 09:56:00,135] Trial 36 finished with value: 0.32467222328981976 and parameters: {'hidden_channels': 10, 'dropout': 0.1709058574109286, 'lr': 0.002344971731729856, 'beta': 0.9999155618692223}. Best is trial 15 with value: 0.41949721577879523.\n"
     ]
    },
    {
     "name": "stdout",
     "output_type": "stream",
     "text": [
      "Stopping training early at 537/1000 epochs.\n",
      "Finished training.\n",
      "Using device: cuda\n",
      "Double check which dataset is being used.\n",
      "32\n",
      "32\n",
      "number of samples per classes (train) = [96912, 2986]\n",
      "number of samples per classes (val) = [97405, 2595]\n",
      "Starting training with 1000 epochs.\n"
     ]
    },
    {
     "name": "stderr",
     "output_type": "stream",
     "text": [
      "[I 2024-05-21 09:58:20,342] Trial 37 finished with value: 0.3117541925521215 and parameters: {'hidden_channels': 10, 'dropout': 0.1825264867611841, 'lr': 0.0027304937827969445, 'beta': 0.9999010217485756}. Best is trial 15 with value: 0.41949721577879523.\n"
     ]
    },
    {
     "name": "stdout",
     "output_type": "stream",
     "text": [
      "Stopping training early at 718/1000 epochs.\n",
      "Finished training.\n",
      "Using device: cuda\n",
      "Double check which dataset is being used.\n",
      "32\n",
      "32\n",
      "number of samples per classes (train) = [96912, 2986]\n",
      "number of samples per classes (val) = [97405, 2595]\n",
      "Starting training with 1000 epochs.\n"
     ]
    },
    {
     "name": "stderr",
     "output_type": "stream",
     "text": [
      "[I 2024-05-21 09:59:31,143] Trial 38 finished with value: 0.051362629995025465 and parameters: {'hidden_channels': 15, 'dropout': 0.1774615294836055, 'lr': 0.001006729490276836, 'beta': 0.9999114325319189}. Best is trial 15 with value: 0.41949721577879523.\n"
     ]
    },
    {
     "name": "stdout",
     "output_type": "stream",
     "text": [
      "Stopping training early at 339/1000 epochs.\n",
      "Finished training.\n",
      "Using device: cuda\n",
      "Double check which dataset is being used.\n",
      "32\n",
      "32\n",
      "number of samples per classes (train) = [96912, 2986]\n",
      "number of samples per classes (val) = [97405, 2595]\n",
      "Starting training with 1000 epochs.\n"
     ]
    },
    {
     "name": "stderr",
     "output_type": "stream",
     "text": [
      "[I 2024-05-21 10:00:13,041] Trial 39 finished with value: 0.13982067069262594 and parameters: {'hidden_channels': 10, 'dropout': 0.14765874119112515, 'lr': 0.0012791282771234009, 'beta': 0.999902361431099}. Best is trial 15 with value: 0.41949721577879523.\n"
     ]
    },
    {
     "name": "stdout",
     "output_type": "stream",
     "text": [
      "Stopping training early at 203/1000 epochs.\n",
      "Finished training.\n",
      "Using device: cuda\n",
      "Double check which dataset is being used.\n",
      "32\n",
      "32\n",
      "number of samples per classes (train) = [96912, 2986]\n",
      "number of samples per classes (val) = [97405, 2595]\n",
      "Starting training with 1000 epochs.\n"
     ]
    },
    {
     "name": "stderr",
     "output_type": "stream",
     "text": [
      "[I 2024-05-21 10:00:38,594] Trial 40 finished with value: 0.0 and parameters: {'hidden_channels': 10, 'dropout': 0.19368770096411206, 'lr': 0.0018598087163491203, 'beta': 0.9999085519243267}. Best is trial 15 with value: 0.41949721577879523.\n"
     ]
    },
    {
     "name": "stdout",
     "output_type": "stream",
     "text": [
      "Stopping training early at 113/1000 epochs.\n",
      "Finished training.\n",
      "Using device: cuda\n",
      "Double check which dataset is being used.\n",
      "32\n",
      "32\n",
      "number of samples per classes (train) = [96912, 2986]\n",
      "number of samples per classes (val) = [97405, 2595]\n",
      "Starting training with 1000 epochs.\n"
     ]
    },
    {
     "name": "stderr",
     "output_type": "stream",
     "text": [
      "[I 2024-05-21 10:02:27,232] Trial 41 finished with value: 0.3345115404828266 and parameters: {'hidden_channels': 10, 'dropout': 0.1382574231433624, 'lr': 0.00266426721370404, 'beta': 0.9999022915696877}. Best is trial 15 with value: 0.41949721577879523.\n"
     ]
    },
    {
     "name": "stdout",
     "output_type": "stream",
     "text": [
      "Stopping training early at 525/1000 epochs.\n",
      "Finished training.\n",
      "Using device: cuda\n",
      "Double check which dataset is being used.\n",
      "32\n",
      "32\n",
      "number of samples per classes (train) = [96912, 2986]\n",
      "number of samples per classes (val) = [97405, 2595]\n",
      "Starting training with 1000 epochs.\n"
     ]
    },
    {
     "name": "stderr",
     "output_type": "stream",
     "text": [
      "[I 2024-05-21 10:03:29,246] Trial 42 finished with value: 0.09753397780836552 and parameters: {'hidden_channels': 10, 'dropout': 0.12252759903146535, 'lr': 0.0028903258826907933, 'beta': 0.9999049315199033}. Best is trial 15 with value: 0.41949721577879523.\n"
     ]
    },
    {
     "name": "stdout",
     "output_type": "stream",
     "text": [
      "Stopping training early at 303/1000 epochs.\n",
      "Finished training.\n",
      "Using device: cuda\n",
      "Double check which dataset is being used.\n",
      "32\n",
      "32\n",
      "number of samples per classes (train) = [96912, 2986]\n",
      "number of samples per classes (val) = [97405, 2595]\n",
      "Starting training with 1000 epochs.\n"
     ]
    },
    {
     "name": "stderr",
     "output_type": "stream",
     "text": [
      "[I 2024-05-21 10:04:16,780] Trial 43 finished with value: 0.1175319627421005 and parameters: {'hidden_channels': 10, 'dropout': 0.11082984686185406, 'lr': 0.002584489781043728, 'beta': 0.9999063761743979}. Best is trial 15 with value: 0.41949721577879523.\n"
     ]
    },
    {
     "name": "stdout",
     "output_type": "stream",
     "text": [
      "Stopping training early at 225/1000 epochs.\n",
      "Finished training.\n",
      "Using device: cuda\n",
      "Double check which dataset is being used.\n",
      "32\n",
      "32\n",
      "number of samples per classes (train) = [96912, 2986]\n",
      "number of samples per classes (val) = [97405, 2595]\n",
      "Starting training with 1000 epochs.\n"
     ]
    },
    {
     "name": "stderr",
     "output_type": "stream",
     "text": [
      "[I 2024-05-21 10:05:27,659] Trial 44 finished with value: 0.17819764456495435 and parameters: {'hidden_channels': 10, 'dropout': 0.14429895348133312, 'lr': 0.0028722441052702547, 'beta': 0.9999010928306905}. Best is trial 15 with value: 0.41949721577879523.\n"
     ]
    },
    {
     "name": "stdout",
     "output_type": "stream",
     "text": [
      "Stopping training early at 345/1000 epochs.\n",
      "Finished training.\n",
      "Using device: cuda\n",
      "Double check which dataset is being used.\n",
      "32\n",
      "32\n",
      "number of samples per classes (train) = [96912, 2986]\n",
      "number of samples per classes (val) = [97405, 2595]\n",
      "Starting training with 1000 epochs.\n"
     ]
    },
    {
     "name": "stderr",
     "output_type": "stream",
     "text": [
      "[I 2024-05-21 10:07:59,002] Trial 45 finished with value: 0.3945535815777825 and parameters: {'hidden_channels': 10, 'dropout': 0.1591004698704557, 'lr': 0.0015778803679806182, 'beta': 0.9999000261084475}. Best is trial 15 with value: 0.41949721577879523.\n"
     ]
    },
    {
     "name": "stdout",
     "output_type": "stream",
     "text": [
      "Stopping training early at 810/1000 epochs.\n",
      "Finished training.\n",
      "Using device: cuda\n",
      "Double check which dataset is being used.\n",
      "32\n",
      "32\n",
      "number of samples per classes (train) = [96912, 2986]\n",
      "number of samples per classes (val) = [97405, 2595]\n",
      "Starting training with 1000 epochs.\n"
     ]
    },
    {
     "name": "stderr",
     "output_type": "stream",
     "text": [
      "[I 2024-05-21 10:09:07,402] Trial 46 finished with value: 0.17421433021427946 and parameters: {'hidden_channels': 10, 'dropout': 0.16758787836372885, 'lr': 0.002417803238251162, 'beta': 0.9999034462807334}. Best is trial 15 with value: 0.41949721577879523.\n"
     ]
    },
    {
     "name": "stdout",
     "output_type": "stream",
     "text": [
      "Stopping training early at 345/1000 epochs.\n",
      "Finished training.\n",
      "Using device: cuda\n",
      "Double check which dataset is being used.\n",
      "32\n",
      "32\n",
      "number of samples per classes (train) = [96912, 2986]\n",
      "number of samples per classes (val) = [97405, 2595]\n",
      "Starting training with 1000 epochs.\n"
     ]
    },
    {
     "name": "stderr",
     "output_type": "stream",
     "text": [
      "[I 2024-05-21 10:10:37,390] Trial 47 finished with value: 0.28482212083618613 and parameters: {'hidden_channels': 10, 'dropout': 0.13166815273743085, 'lr': 0.0027248410160450693, 'beta': 0.9999022094996713}. Best is trial 15 with value: 0.41949721577879523.\n"
     ]
    },
    {
     "name": "stdout",
     "output_type": "stream",
     "text": [
      "Stopping training early at 462/1000 epochs.\n",
      "Finished training.\n",
      "Using device: cuda\n",
      "Double check which dataset is being used.\n",
      "32\n",
      "32\n",
      "number of samples per classes (train) = [96912, 2986]\n",
      "number of samples per classes (val) = [97405, 2595]\n",
      "Starting training with 1000 epochs.\n"
     ]
    },
    {
     "name": "stderr",
     "output_type": "stream",
     "text": [
      "[I 2024-05-21 10:13:02,975] Trial 48 finished with value: 0.30394425683606263 and parameters: {'hidden_channels': 15, 'dropout': 0.19811155362127686, 'lr': 0.001997981252849049, 'beta': 0.9999008351804413}. Best is trial 15 with value: 0.41949721577879523.\n"
     ]
    },
    {
     "name": "stdout",
     "output_type": "stream",
     "text": [
      "Stopping training early at 709/1000 epochs.\n",
      "Finished training.\n",
      "Using device: cuda\n",
      "Double check which dataset is being used.\n",
      "32\n",
      "32\n",
      "number of samples per classes (train) = [96912, 2986]\n",
      "number of samples per classes (val) = [97405, 2595]\n",
      "Starting training with 1000 epochs.\n"
     ]
    },
    {
     "name": "stderr",
     "output_type": "stream",
     "text": [
      "[I 2024-05-21 10:14:54,342] Trial 49 finished with value: 0.24478199856650115 and parameters: {'hidden_channels': 10, 'dropout': 0.17557617475620377, 'lr': 0.002916972708933776, 'beta': 0.9999057483040508}. Best is trial 15 with value: 0.41949721577879523.\n"
     ]
    },
    {
     "name": "stdout",
     "output_type": "stream",
     "text": [
      "Stopping training early at 569/1000 epochs.\n",
      "Finished training.\n",
      "Using device: cuda\n",
      "Double check which dataset is being used.\n",
      "32\n",
      "32\n",
      "number of samples per classes (train) = [96912, 2986]\n",
      "number of samples per classes (val) = [97405, 2595]\n",
      "Starting training with 1000 epochs.\n"
     ]
    },
    {
     "name": "stderr",
     "output_type": "stream",
     "text": [
      "[I 2024-05-21 10:15:59,552] Trial 50 finished with value: 0.29243877479409985 and parameters: {'hidden_channels': 10, 'dropout': 0.18831834261699443, 'lr': 0.002216602565080839, 'beta': 0.9999080212649939}. Best is trial 15 with value: 0.41949721577879523.\n"
     ]
    },
    {
     "name": "stdout",
     "output_type": "stream",
     "text": [
      "Stopping training early at 324/1000 epochs.\n",
      "Finished training.\n",
      "Using device: cuda\n",
      "Double check which dataset is being used.\n",
      "32\n",
      "32\n",
      "number of samples per classes (train) = [96912, 2986]\n",
      "number of samples per classes (val) = [97405, 2595]\n",
      "Starting training with 1000 epochs.\n"
     ]
    },
    {
     "name": "stderr",
     "output_type": "stream",
     "text": [
      "[I 2024-05-21 10:19:09,270] Trial 51 finished with value: 0.3294070022480661 and parameters: {'hidden_channels': 10, 'dropout': 0.16037285323935357, 'lr': 0.0016196404260417413, 'beta': 0.999900532927537}. Best is trial 15 with value: 0.41949721577879523.\n"
     ]
    },
    {
     "name": "stdout",
     "output_type": "stream",
     "text": [
      "Finished training.\n",
      "Using device: cuda\n",
      "Double check which dataset is being used.\n",
      "32\n",
      "32\n",
      "number of samples per classes (train) = [96912, 2986]\n",
      "number of samples per classes (val) = [97405, 2595]\n",
      "Starting training with 1000 epochs.\n"
     ]
    },
    {
     "name": "stderr",
     "output_type": "stream",
     "text": [
      "[I 2024-05-21 10:21:57,639] Trial 52 finished with value: 0.34576292372171097 and parameters: {'hidden_channels': 10, 'dropout': 0.15512034600355654, 'lr': 0.0014567448435267695, 'beta': 0.9999000883890375}. Best is trial 15 with value: 0.41949721577879523.\n"
     ]
    },
    {
     "name": "stdout",
     "output_type": "stream",
     "text": [
      "Stopping training early at 866/1000 epochs.\n",
      "Finished training.\n",
      "Using device: cuda\n",
      "Double check which dataset is being used.\n",
      "32\n",
      "32\n",
      "number of samples per classes (train) = [96912, 2986]\n",
      "number of samples per classes (val) = [97405, 2595]\n",
      "Starting training with 1000 epochs.\n"
     ]
    },
    {
     "name": "stderr",
     "output_type": "stream",
     "text": [
      "[I 2024-05-21 10:24:06,936] Trial 53 finished with value: 0.3672135053523765 and parameters: {'hidden_channels': 10, 'dropout': 0.162587804298373, 'lr': 0.0017451273850900922, 'beta': 0.9999025212428548}. Best is trial 15 with value: 0.41949721577879523.\n"
     ]
    },
    {
     "name": "stdout",
     "output_type": "stream",
     "text": [
      "Stopping training early at 627/1000 epochs.\n",
      "Finished training.\n",
      "Using device: cuda\n",
      "Double check which dataset is being used.\n",
      "32\n",
      "32\n",
      "number of samples per classes (train) = [96912, 2986]\n",
      "number of samples per classes (val) = [97405, 2595]\n",
      "Starting training with 1000 epochs.\n"
     ]
    },
    {
     "name": "stderr",
     "output_type": "stream",
     "text": [
      "[I 2024-05-21 10:26:17,226] Trial 54 finished with value: 0.35093623134815016 and parameters: {'hidden_channels': 10, 'dropout': 0.11660787108600998, 'lr': 0.0012571253867005034, 'beta': 0.999901662162921}. Best is trial 15 with value: 0.41949721577879523.\n"
     ]
    },
    {
     "name": "stdout",
     "output_type": "stream",
     "text": [
      "Stopping training early at 646/1000 epochs.\n",
      "Finished training.\n",
      "Using device: cuda\n",
      "Double check which dataset is being used.\n",
      "32\n",
      "32\n",
      "number of samples per classes (train) = [96912, 2986]\n",
      "number of samples per classes (val) = [97405, 2595]\n",
      "Starting training with 1000 epochs.\n"
     ]
    },
    {
     "name": "stderr",
     "output_type": "stream",
     "text": [
      "[I 2024-05-21 10:26:58,586] Trial 55 finished with value: 0.2172432076344465 and parameters: {'hidden_channels': 10, 'dropout': 0.16905358119087685, 'lr': 0.0012028721669601816, 'beta': 0.9999035039388378}. Best is trial 15 with value: 0.41949721577879523.\n"
     ]
    },
    {
     "name": "stdout",
     "output_type": "stream",
     "text": [
      "Stopping training early at 209/1000 epochs.\n",
      "Finished training.\n",
      "Using device: cuda\n",
      "Double check which dataset is being used.\n",
      "32\n",
      "32\n",
      "number of samples per classes (train) = [96912, 2986]\n",
      "number of samples per classes (val) = [97405, 2595]\n",
      "Starting training with 1000 epochs.\n"
     ]
    },
    {
     "name": "stderr",
     "output_type": "stream",
     "text": [
      "[I 2024-05-21 10:29:35,602] Trial 56 finished with value: 0.2126131900162645 and parameters: {'hidden_channels': 10, 'dropout': 0.15614863126368791, 'lr': 0.0014852223248521983, 'beta': 0.9999011874798652}. Best is trial 15 with value: 0.41949721577879523.\n"
     ]
    },
    {
     "name": "stdout",
     "output_type": "stream",
     "text": [
      "Stopping training early at 795/1000 epochs.\n",
      "Finished training.\n",
      "Using device: cuda\n",
      "Double check which dataset is being used.\n",
      "32\n",
      "32\n",
      "number of samples per classes (train) = [96912, 2986]\n",
      "number of samples per classes (val) = [97405, 2595]\n",
      "Starting training with 1000 epochs.\n"
     ]
    },
    {
     "name": "stderr",
     "output_type": "stream",
     "text": [
      "[I 2024-05-21 10:30:48,696] Trial 57 finished with value: 0.26007345217033434 and parameters: {'hidden_channels': 10, 'dropout': 0.1639958643883153, 'lr': 0.0015414409982722208, 'beta': 0.9999029824678837}. Best is trial 15 with value: 0.41949721577879523.\n"
     ]
    },
    {
     "name": "stdout",
     "output_type": "stream",
     "text": [
      "Stopping training early at 363/1000 epochs.\n",
      "Finished training.\n",
      "Using device: cuda\n",
      "Double check which dataset is being used.\n",
      "32\n",
      "32\n",
      "number of samples per classes (train) = [96912, 2986]\n",
      "number of samples per classes (val) = [97405, 2595]\n",
      "Starting training with 1000 epochs.\n"
     ]
    },
    {
     "name": "stderr",
     "output_type": "stream",
     "text": [
      "[I 2024-05-21 10:31:11,615] Trial 58 finished with value: 0.11884842077042261 and parameters: {'hidden_channels': 10, 'dropout': 0.1347711679156435, 'lr': 0.0028165418439485704, 'beta': 0.9999000290678393}. Best is trial 15 with value: 0.41949721577879523.\n"
     ]
    },
    {
     "name": "stdout",
     "output_type": "stream",
     "text": [
      "Stopping training early at 100/1000 epochs.\n",
      "Finished training.\n",
      "Using device: cuda\n",
      "Double check which dataset is being used.\n",
      "32\n",
      "32\n",
      "number of samples per classes (train) = [96912, 2986]\n",
      "number of samples per classes (val) = [97405, 2595]\n",
      "Starting training with 1000 epochs.\n"
     ]
    },
    {
     "name": "stderr",
     "output_type": "stream",
     "text": [
      "[I 2024-05-21 10:33:21,866] Trial 59 finished with value: 0.37866497148458905 and parameters: {'hidden_channels': 10, 'dropout': 0.1454831094039901, 'lr': 0.002573815369989143, 'beta': 0.9999018137800161}. Best is trial 15 with value: 0.41949721577879523.\n"
     ]
    },
    {
     "name": "stdout",
     "output_type": "stream",
     "text": [
      "Stopping training early at 666/1000 epochs.\n",
      "Finished training.\n",
      "Using device: cuda\n",
      "Double check which dataset is being used.\n",
      "32\n",
      "32\n",
      "number of samples per classes (train) = [96912, 2986]\n",
      "number of samples per classes (val) = [97405, 2595]\n",
      "Starting training with 1000 epochs.\n"
     ]
    },
    {
     "name": "stderr",
     "output_type": "stream",
     "text": [
      "[I 2024-05-21 10:34:59,640] Trial 60 finished with value: 0.341911228527571 and parameters: {'hidden_channels': 10, 'dropout': 0.15027771841478627, 'lr': 0.0017225147245779591, 'beta': 0.9999041878519144}. Best is trial 15 with value: 0.41949721577879523.\n"
     ]
    },
    {
     "name": "stdout",
     "output_type": "stream",
     "text": [
      "Stopping training early at 507/1000 epochs.\n",
      "Finished training.\n",
      "Using device: cuda\n",
      "Double check which dataset is being used.\n",
      "32\n",
      "32\n",
      "number of samples per classes (train) = [96912, 2986]\n",
      "number of samples per classes (val) = [97405, 2595]\n",
      "Starting training with 1000 epochs.\n"
     ]
    },
    {
     "name": "stderr",
     "output_type": "stream",
     "text": [
      "[I 2024-05-21 10:36:40,177] Trial 61 finished with value: 0.4043884817406995 and parameters: {'hidden_channels': 10, 'dropout': 0.18397226612476775, 'lr': 0.0027824089996828, 'beta': 0.9999194059748251}. Best is trial 15 with value: 0.41949721577879523.\n"
     ]
    },
    {
     "name": "stdout",
     "output_type": "stream",
     "text": [
      "Stopping training early at 507/1000 epochs.\n",
      "Finished training.\n",
      "Using device: cuda\n",
      "Double check which dataset is being used.\n",
      "32\n",
      "32\n",
      "number of samples per classes (train) = [96912, 2986]\n",
      "number of samples per classes (val) = [97405, 2595]\n",
      "Starting training with 1000 epochs.\n"
     ]
    },
    {
     "name": "stderr",
     "output_type": "stream",
     "text": [
      "[I 2024-05-21 10:37:36,266] Trial 62 finished with value: 0.268427176475192 and parameters: {'hidden_channels': 10, 'dropout': 0.17901382059815743, 'lr': 0.002665055857500677, 'beta': 0.9999189681515481}. Best is trial 15 with value: 0.41949721577879523.\n"
     ]
    },
    {
     "name": "stdout",
     "output_type": "stream",
     "text": [
      "Stopping training early at 270/1000 epochs.\n",
      "Finished training.\n",
      "Using device: cuda\n",
      "Double check which dataset is being used.\n",
      "32\n",
      "32\n",
      "number of samples per classes (train) = [96912, 2986]\n",
      "number of samples per classes (val) = [97405, 2595]\n",
      "Starting training with 1000 epochs.\n"
     ]
    },
    {
     "name": "stderr",
     "output_type": "stream",
     "text": [
      "[I 2024-05-21 10:40:50,859] Trial 63 finished with value: 0.345284981936689 and parameters: {'hidden_channels': 10, 'dropout': 0.18446201862245867, 'lr': 0.001355037611067987, 'beta': 0.99991541706332}. Best is trial 15 with value: 0.41949721577879523.\n"
     ]
    },
    {
     "name": "stdout",
     "output_type": "stream",
     "text": [
      "Finished training.\n",
      "Using device: cuda\n",
      "Double check which dataset is being used.\n",
      "32\n",
      "32\n",
      "number of samples per classes (train) = [96912, 2986]\n",
      "number of samples per classes (val) = [97405, 2595]\n",
      "Starting training with 1000 epochs.\n"
     ]
    },
    {
     "name": "stderr",
     "output_type": "stream",
     "text": [
      "[I 2024-05-21 10:42:27,219] Trial 64 finished with value: 0.2527717453866791 and parameters: {'hidden_channels': 10, 'dropout': 0.19343777286735026, 'lr': 0.002712738688713618, 'beta': 0.9999122350251354}. Best is trial 15 with value: 0.41949721577879523.\n"
     ]
    },
    {
     "name": "stdout",
     "output_type": "stream",
     "text": [
      "Stopping training early at 491/1000 epochs.\n",
      "Finished training.\n",
      "Using device: cuda\n",
      "Double check which dataset is being used.\n",
      "32\n",
      "32\n",
      "number of samples per classes (train) = [96912, 2986]\n",
      "number of samples per classes (val) = [97405, 2595]\n",
      "Starting training with 1000 epochs.\n"
     ]
    },
    {
     "name": "stderr",
     "output_type": "stream",
     "text": [
      "[I 2024-05-21 10:42:55,074] Trial 65 finished with value: 0.15595912404113163 and parameters: {'hidden_channels': 10, 'dropout': 0.17259837537890696, 'lr': 0.0028100356391748647, 'beta': 0.9999102843469574}. Best is trial 15 with value: 0.41949721577879523.\n"
     ]
    },
    {
     "name": "stdout",
     "output_type": "stream",
     "text": [
      "Stopping training early at 124/1000 epochs.\n",
      "Finished training.\n",
      "Using device: cuda\n",
      "Double check which dataset is being used.\n",
      "32\n",
      "32\n",
      "number of samples per classes (train) = [96912, 2986]\n",
      "number of samples per classes (val) = [97405, 2595]\n",
      "Starting training with 1000 epochs.\n"
     ]
    },
    {
     "name": "stderr",
     "output_type": "stream",
     "text": [
      "[I 2024-05-21 10:43:43,870] Trial 66 finished with value: 0.2290340368103709 and parameters: {'hidden_channels': 10, 'dropout': 0.15788902118694176, 'lr': 0.002615744379396554, 'beta': 0.9999178826143068}. Best is trial 15 with value: 0.41949721577879523.\n"
     ]
    },
    {
     "name": "stdout",
     "output_type": "stream",
     "text": [
      "Stopping training early at 252/1000 epochs.\n",
      "Finished training.\n",
      "Using device: cuda\n",
      "Double check which dataset is being used.\n",
      "32\n",
      "32\n",
      "number of samples per classes (train) = [96912, 2986]\n",
      "number of samples per classes (val) = [97405, 2595]\n",
      "Starting training with 1000 epochs.\n"
     ]
    },
    {
     "name": "stderr",
     "output_type": "stream",
     "text": [
      "[I 2024-05-21 10:45:40,968] Trial 67 finished with value: 0.2226708771142374 and parameters: {'hidden_channels': 10, 'dropout': 0.18131543716246007, 'lr': 0.002964091186625739, 'beta': 0.9999136549282927}. Best is trial 15 with value: 0.41949721577879523.\n"
     ]
    },
    {
     "name": "stdout",
     "output_type": "stream",
     "text": [
      "Stopping training early at 607/1000 epochs.\n",
      "Finished training.\n",
      "Using device: cuda\n",
      "Double check which dataset is being used.\n",
      "32\n",
      "32\n",
      "number of samples per classes (train) = [96912, 2986]\n",
      "number of samples per classes (val) = [97405, 2595]\n",
      "Starting training with 1000 epochs.\n"
     ]
    },
    {
     "name": "stderr",
     "output_type": "stream",
     "text": [
      "[I 2024-05-21 10:48:21,674] Trial 68 finished with value: 0.36052159465235556 and parameters: {'hidden_channels': 10, 'dropout': 0.18842409364343302, 'lr': 0.0025363406246614573, 'beta': 0.9999006356182457}. Best is trial 15 with value: 0.41949721577879523.\n"
     ]
    },
    {
     "name": "stdout",
     "output_type": "stream",
     "text": [
      "Stopping training early at 815/1000 epochs.\n",
      "Finished training.\n",
      "Using device: cuda\n",
      "Double check which dataset is being used.\n",
      "32\n",
      "32\n",
      "number of samples per classes (train) = [96912, 2986]\n",
      "number of samples per classes (val) = [97405, 2595]\n",
      "Starting training with 1000 epochs.\n"
     ]
    },
    {
     "name": "stderr",
     "output_type": "stream",
     "text": [
      "[I 2024-05-21 10:49:25,701] Trial 69 finished with value: 0.3667957999262676 and parameters: {'hidden_channels': 10, 'dropout': 0.17621581886425058, 'lr': 0.0024272301714713907, 'beta': 0.9999151676187698}. Best is trial 15 with value: 0.41949721577879523.\n"
     ]
    },
    {
     "name": "stdout",
     "output_type": "stream",
     "text": [
      "Stopping training early at 314/1000 epochs.\n",
      "Finished training.\n",
      "Using device: cuda\n",
      "Double check which dataset is being used.\n",
      "32\n",
      "32\n",
      "number of samples per classes (train) = [96912, 2986]\n",
      "number of samples per classes (val) = [97405, 2595]\n",
      "Starting training with 1000 epochs.\n"
     ]
    },
    {
     "name": "stderr",
     "output_type": "stream",
     "text": [
      "[I 2024-05-21 10:51:38,441] Trial 70 finished with value: 0.3894338188143221 and parameters: {'hidden_channels': 10, 'dropout': 0.10570453058368484, 'lr': 0.0024748964175436506, 'beta': 0.9999162315679698}. Best is trial 15 with value: 0.41949721577879523.\n"
     ]
    },
    {
     "name": "stdout",
     "output_type": "stream",
     "text": [
      "Stopping training early at 671/1000 epochs.\n",
      "Finished training.\n",
      "Using device: cuda\n",
      "Double check which dataset is being used.\n",
      "32\n",
      "32\n",
      "number of samples per classes (train) = [96912, 2986]\n",
      "number of samples per classes (val) = [97405, 2595]\n",
      "Starting training with 1000 epochs.\n"
     ]
    },
    {
     "name": "stderr",
     "output_type": "stream",
     "text": [
      "[I 2024-05-21 10:52:45,731] Trial 71 finished with value: 0.3491140107962468 and parameters: {'hidden_channels': 10, 'dropout': 0.19101379347461792, 'lr': 0.0027730557525744294, 'beta': 0.999919471924592}. Best is trial 15 with value: 0.41949721577879523.\n"
     ]
    },
    {
     "name": "stdout",
     "output_type": "stream",
     "text": [
      "Stopping training early at 331/1000 epochs.\n",
      "Finished training.\n",
      "Using device: cuda\n",
      "Double check which dataset is being used.\n",
      "32\n",
      "32\n",
      "number of samples per classes (train) = [96912, 2986]\n",
      "number of samples per classes (val) = [97405, 2595]\n",
      "Starting training with 1000 epochs.\n"
     ]
    },
    {
     "name": "stderr",
     "output_type": "stream",
     "text": [
      "[I 2024-05-21 10:54:03,690] Trial 72 finished with value: 0.35262239234194354 and parameters: {'hidden_channels': 10, 'dropout': 0.18361859501347952, 'lr': 0.00283322862065446, 'beta': 0.9999178469131259}. Best is trial 15 with value: 0.41949721577879523.\n"
     ]
    },
    {
     "name": "stdout",
     "output_type": "stream",
     "text": [
      "Stopping training early at 383/1000 epochs.\n",
      "Finished training.\n",
      "Using device: cuda\n",
      "Double check which dataset is being used.\n",
      "32\n",
      "32\n",
      "number of samples per classes (train) = [96912, 2986]\n",
      "number of samples per classes (val) = [97405, 2595]\n",
      "Starting training with 1000 epochs.\n"
     ]
    },
    {
     "name": "stderr",
     "output_type": "stream",
     "text": [
      "[I 2024-05-21 10:54:55,991] Trial 73 finished with value: 0.2571131026239006 and parameters: {'hidden_channels': 10, 'dropout': 0.18812299207937516, 'lr': 0.002939342088741862, 'beta': 0.9999196962485825}. Best is trial 15 with value: 0.41949721577879523.\n"
     ]
    },
    {
     "name": "stdout",
     "output_type": "stream",
     "text": [
      "Stopping training early at 252/1000 epochs.\n",
      "Finished training.\n",
      "Using device: cuda\n",
      "Double check which dataset is being used.\n",
      "32\n",
      "32\n",
      "number of samples per classes (train) = [96912, 2986]\n",
      "number of samples per classes (val) = [97405, 2595]\n",
      "Starting training with 1000 epochs.\n"
     ]
    },
    {
     "name": "stderr",
     "output_type": "stream",
     "text": [
      "[I 2024-05-21 10:57:19,131] Trial 74 finished with value: 0.2618807405983784 and parameters: {'hidden_channels': 10, 'dropout': 0.19705620608521213, 'lr': 0.0027026100286264825, 'beta': 0.999919192976594}. Best is trial 15 with value: 0.41949721577879523.\n"
     ]
    },
    {
     "name": "stdout",
     "output_type": "stream",
     "text": [
      "Stopping training early at 719/1000 epochs.\n",
      "Finished training.\n",
      "Using device: cuda\n",
      "Double check which dataset is being used.\n",
      "32\n",
      "32\n",
      "number of samples per classes (train) = [96912, 2986]\n",
      "number of samples per classes (val) = [97405, 2595]\n",
      "Starting training with 1000 epochs.\n"
     ]
    },
    {
     "name": "stderr",
     "output_type": "stream",
     "text": [
      "[I 2024-05-21 11:00:34,444] Trial 75 finished with value: 0.3759654015644139 and parameters: {'hidden_channels': 10, 'dropout': 0.17945941177550512, 'lr': 0.0027926942276138606, 'beta': 0.9999173314801256}. Best is trial 15 with value: 0.41949721577879523.\n"
     ]
    },
    {
     "name": "stdout",
     "output_type": "stream",
     "text": [
      "Finished training.\n",
      "Using device: cuda\n",
      "Double check which dataset is being used.\n",
      "32\n",
      "32\n",
      "number of samples per classes (train) = [96912, 2986]\n",
      "number of samples per classes (val) = [97405, 2595]\n",
      "Starting training with 1000 epochs.\n"
     ]
    },
    {
     "name": "stderr",
     "output_type": "stream",
     "text": [
      "[I 2024-05-21 11:01:59,865] Trial 76 finished with value: 0.3885670863481719 and parameters: {'hidden_channels': 10, 'dropout': 0.1726933068701686, 'lr': 0.0029956436959878846, 'beta': 0.9999199846650043}. Best is trial 15 with value: 0.41949721577879523.\n"
     ]
    },
    {
     "name": "stdout",
     "output_type": "stream",
     "text": [
      "Stopping training early at 466/1000 epochs.\n",
      "Finished training.\n",
      "Using device: cuda\n",
      "Double check which dataset is being used.\n",
      "32\n",
      "32\n",
      "number of samples per classes (train) = [96912, 2986]\n",
      "number of samples per classes (val) = [97405, 2595]\n",
      "Starting training with 1000 epochs.\n"
     ]
    },
    {
     "name": "stderr",
     "output_type": "stream",
     "text": [
      "[I 2024-05-21 11:03:48,539] Trial 77 finished with value: 0.35096372471092036 and parameters: {'hidden_channels': 10, 'dropout': 0.16900387687564886, 'lr': 0.002875030866346419, 'beta': 0.999918590928411}. Best is trial 15 with value: 0.41949721577879523.\n"
     ]
    },
    {
     "name": "stdout",
     "output_type": "stream",
     "text": [
      "Stopping training early at 568/1000 epochs.\n",
      "Finished training.\n",
      "Using device: cuda\n",
      "Double check which dataset is being used.\n",
      "32\n",
      "32\n",
      "number of samples per classes (train) = [96912, 2986]\n",
      "number of samples per classes (val) = [97405, 2595]\n",
      "Starting training with 1000 epochs.\n"
     ]
    },
    {
     "name": "stderr",
     "output_type": "stream",
     "text": [
      "[I 2024-05-21 11:04:34,248] Trial 78 finished with value: 0.005370681747395824 and parameters: {'hidden_channels': 10, 'dropout': 0.16603114740180153, 'lr': 0.0026202659888445866, 'beta': 0.9999014416329562}. Best is trial 15 with value: 0.41949721577879523.\n"
     ]
    },
    {
     "name": "stdout",
     "output_type": "stream",
     "text": [
      "Stopping training early at 215/1000 epochs.\n",
      "Finished training.\n",
      "Using device: cuda\n",
      "Double check which dataset is being used.\n",
      "32\n",
      "32\n",
      "number of samples per classes (train) = [96912, 2986]\n",
      "number of samples per classes (val) = [97405, 2595]\n",
      "Starting training with 1000 epochs.\n"
     ]
    },
    {
     "name": "stderr",
     "output_type": "stream",
     "text": [
      "[I 2024-05-21 11:06:30,962] Trial 79 finished with value: 0.3461366568977648 and parameters: {'hidden_channels': 15, 'dropout': 0.18659618397814084, 'lr': 0.002367824467165577, 'beta': 0.999905094131624}. Best is trial 15 with value: 0.41949721577879523.\n"
     ]
    },
    {
     "name": "stdout",
     "output_type": "stream",
     "text": [
      "Stopping training early at 575/1000 epochs.\n",
      "Finished training.\n",
      "Using device: cuda\n",
      "Double check which dataset is being used.\n",
      "32\n",
      "32\n",
      "number of samples per classes (train) = [96912, 2986]\n",
      "number of samples per classes (val) = [97405, 2595]\n",
      "Starting training with 1000 epochs.\n"
     ]
    },
    {
     "name": "stderr",
     "output_type": "stream",
     "text": [
      "[I 2024-05-21 11:07:56,121] Trial 80 finished with value: 0.39427061137491953 and parameters: {'hidden_channels': 10, 'dropout': 0.19209249089029914, 'lr': 0.0026738510238987507, 'beta': 0.9999020020342761}. Best is trial 15 with value: 0.41949721577879523.\n"
     ]
    },
    {
     "name": "stdout",
     "output_type": "stream",
     "text": [
      "Stopping training early at 426/1000 epochs.\n",
      "Finished training.\n",
      "Using device: cuda\n",
      "Double check which dataset is being used.\n",
      "32\n",
      "32\n",
      "number of samples per classes (train) = [96912, 2986]\n",
      "number of samples per classes (val) = [97405, 2595]\n",
      "Starting training with 1000 epochs.\n"
     ]
    },
    {
     "name": "stderr",
     "output_type": "stream",
     "text": [
      "[I 2024-05-21 11:10:25,077] Trial 81 finished with value: 0.2871959655157053 and parameters: {'hidden_channels': 10, 'dropout': 0.19103158242696786, 'lr': 0.0025492002689597023, 'beta': 0.9999020331964578}. Best is trial 15 with value: 0.41949721577879523.\n"
     ]
    },
    {
     "name": "stdout",
     "output_type": "stream",
     "text": [
      "Stopping training early at 729/1000 epochs.\n",
      "Finished training.\n",
      "Using device: cuda\n",
      "Double check which dataset is being used.\n",
      "32\n",
      "32\n",
      "number of samples per classes (train) = [96912, 2986]\n",
      "number of samples per classes (val) = [97405, 2595]\n",
      "Starting training with 1000 epochs.\n"
     ]
    },
    {
     "name": "stderr",
     "output_type": "stream",
     "text": [
      "[I 2024-05-21 11:11:30,532] Trial 82 finished with value: 0.36160639116954646 and parameters: {'hidden_channels': 10, 'dropout': 0.19940264156496385, 'lr': 0.0027593588677449193, 'beta': 0.9999027659269955}. Best is trial 15 with value: 0.41949721577879523.\n"
     ]
    },
    {
     "name": "stdout",
     "output_type": "stream",
     "text": [
      "Stopping training early at 297/1000 epochs.\n",
      "Finished training.\n",
      "Using device: cuda\n",
      "Double check which dataset is being used.\n",
      "32\n",
      "32\n",
      "number of samples per classes (train) = [96912, 2986]\n",
      "number of samples per classes (val) = [97405, 2595]\n",
      "Starting training with 1000 epochs.\n"
     ]
    },
    {
     "name": "stderr",
     "output_type": "stream",
     "text": [
      "[I 2024-05-21 11:12:55,058] Trial 83 finished with value: 0.13704563223063362 and parameters: {'hidden_channels': 10, 'dropout': 0.162150211939378, 'lr': 0.0026844167461952976, 'beta': 0.9999007961415899}. Best is trial 15 with value: 0.41949721577879523.\n"
     ]
    },
    {
     "name": "stdout",
     "output_type": "stream",
     "text": [
      "Stopping training early at 446/1000 epochs.\n",
      "Finished training.\n",
      "Using device: cuda\n",
      "Double check which dataset is being used.\n",
      "32\n",
      "32\n",
      "number of samples per classes (train) = [96912, 2986]\n",
      "number of samples per classes (val) = [97405, 2595]\n",
      "Starting training with 1000 epochs.\n"
     ]
    },
    {
     "name": "stderr",
     "output_type": "stream",
     "text": [
      "[I 2024-05-21 11:14:26,930] Trial 84 finished with value: 0.3831160708856945 and parameters: {'hidden_channels': 10, 'dropout': 0.1952552256669606, 'lr': 0.0026284339794437703, 'beta': 0.9999068343435792}. Best is trial 15 with value: 0.41949721577879523.\n"
     ]
    },
    {
     "name": "stdout",
     "output_type": "stream",
     "text": [
      "Stopping training early at 456/1000 epochs.\n",
      "Finished training.\n",
      "Using device: cuda\n",
      "Double check which dataset is being used.\n",
      "32\n",
      "32\n",
      "number of samples per classes (train) = [96912, 2986]\n",
      "number of samples per classes (val) = [97405, 2595]\n",
      "Starting training with 1000 epochs.\n"
     ]
    },
    {
     "name": "stderr",
     "output_type": "stream",
     "text": [
      "[I 2024-05-21 11:15:11,179] Trial 85 finished with value: 0.15731252238368484 and parameters: {'hidden_channels': 10, 'dropout': 0.17447660139219162, 'lr': 0.0011588534703899805, 'beta': 0.9999036531630746}. Best is trial 15 with value: 0.41949721577879523.\n"
     ]
    },
    {
     "name": "stdout",
     "output_type": "stream",
     "text": [
      "Stopping training early at 204/1000 epochs.\n",
      "Finished training.\n",
      "Using device: cuda\n",
      "Double check which dataset is being used.\n",
      "32\n",
      "32\n",
      "number of samples per classes (train) = [96912, 2986]\n",
      "number of samples per classes (val) = [97405, 2595]\n",
      "Starting training with 1000 epochs.\n"
     ]
    },
    {
     "name": "stderr",
     "output_type": "stream",
     "text": [
      "[I 2024-05-21 11:16:46,117] Trial 86 finished with value: 0.3360220100068415 and parameters: {'hidden_channels': 10, 'dropout': 0.18263733850314334, 'lr': 0.0021006457517635966, 'beta': 0.9999012335621917}. Best is trial 15 with value: 0.41949721577879523.\n"
     ]
    },
    {
     "name": "stdout",
     "output_type": "stream",
     "text": [
      "Stopping training early at 455/1000 epochs.\n",
      "Finished training.\n",
      "Using device: cuda\n",
      "Double check which dataset is being used.\n",
      "32\n",
      "32\n",
      "number of samples per classes (train) = [96912, 2986]\n",
      "number of samples per classes (val) = [97405, 2595]\n",
      "Starting training with 1000 epochs.\n"
     ]
    },
    {
     "name": "stderr",
     "output_type": "stream",
     "text": [
      "[I 2024-05-21 11:18:05,347] Trial 87 finished with value: 0.1712648125944865 and parameters: {'hidden_channels': 10, 'dropout': 0.19096442671922828, 'lr': 0.0018075835311094732, 'beta': 0.9999025828864394}. Best is trial 15 with value: 0.41949721577879523.\n"
     ]
    },
    {
     "name": "stdout",
     "output_type": "stream",
     "text": [
      "Stopping training early at 376/1000 epochs.\n",
      "Finished training.\n",
      "Using device: cuda\n",
      "Double check which dataset is being used.\n",
      "32\n",
      "32\n",
      "number of samples per classes (train) = [96912, 2986]\n",
      "number of samples per classes (val) = [97405, 2595]\n",
      "Starting training with 1000 epochs.\n"
     ]
    },
    {
     "name": "stderr",
     "output_type": "stream",
     "text": [
      "[I 2024-05-21 11:20:08,070] Trial 88 finished with value: 0.3792635321861384 and parameters: {'hidden_channels': 10, 'dropout': 0.15266472317285423, 'lr': 0.0024943700042688237, 'beta': 0.9999003544890769}. Best is trial 15 with value: 0.41949721577879523.\n"
     ]
    },
    {
     "name": "stdout",
     "output_type": "stream",
     "text": [
      "Stopping training early at 583/1000 epochs.\n",
      "Finished training.\n",
      "Using device: cuda\n",
      "Double check which dataset is being used.\n",
      "32\n",
      "32\n",
      "number of samples per classes (train) = [96912, 2986]\n",
      "number of samples per classes (val) = [97405, 2595]\n",
      "Starting training with 1000 epochs.\n"
     ]
    },
    {
     "name": "stderr",
     "output_type": "stream",
     "text": [
      "[I 2024-05-21 11:21:48,939] Trial 89 finished with value: 0.3296177929416702 and parameters: {'hidden_channels': 10, 'dropout': 0.1936873375593505, 'lr': 0.002745508140334112, 'beta': 0.9999021047543798}. Best is trial 15 with value: 0.41949721577879523.\n"
     ]
    },
    {
     "name": "stdout",
     "output_type": "stream",
     "text": [
      "Stopping training early at 459/1000 epochs.\n",
      "Finished training.\n",
      "Using device: cuda\n",
      "Double check which dataset is being used.\n",
      "32\n",
      "32\n",
      "number of samples per classes (train) = [96912, 2986]\n",
      "number of samples per classes (val) = [97405, 2595]\n",
      "Starting training with 1000 epochs.\n"
     ]
    },
    {
     "name": "stderr",
     "output_type": "stream",
     "text": [
      "[I 2024-05-21 11:24:23,641] Trial 90 finished with value: 0.254340482772905 and parameters: {'hidden_channels': 10, 'dropout': 0.17712453154156504, 'lr': 0.0019534720985819225, 'beta': 0.9999030664241942}. Best is trial 15 with value: 0.41949721577879523.\n"
     ]
    },
    {
     "name": "stdout",
     "output_type": "stream",
     "text": [
      "Stopping training early at 711/1000 epochs.\n",
      "Finished training.\n",
      "Using device: cuda\n",
      "Double check which dataset is being used.\n",
      "32\n",
      "32\n",
      "number of samples per classes (train) = [96912, 2986]\n",
      "number of samples per classes (val) = [97405, 2595]\n",
      "Starting training with 1000 epochs.\n"
     ]
    },
    {
     "name": "stderr",
     "output_type": "stream",
     "text": [
      "[I 2024-05-21 11:25:59,490] Trial 91 finished with value: 0.324083122316396 and parameters: {'hidden_channels': 10, 'dropout': 0.11445368366359485, 'lr': 0.002587856575757563, 'beta': 0.9999163648777255}. Best is trial 15 with value: 0.41949721577879523.\n"
     ]
    },
    {
     "name": "stdout",
     "output_type": "stream",
     "text": [
      "Stopping training early at 430/1000 epochs.\n",
      "Finished training.\n",
      "Using device: cuda\n",
      "Double check which dataset is being used.\n",
      "32\n",
      "32\n",
      "number of samples per classes (train) = [96912, 2986]\n",
      "number of samples per classes (val) = [97405, 2595]\n",
      "Starting training with 1000 epochs.\n"
     ]
    },
    {
     "name": "stderr",
     "output_type": "stream",
     "text": [
      "[I 2024-05-21 11:26:52,016] Trial 92 finished with value: 0.04065065320815071 and parameters: {'hidden_channels': 10, 'dropout': 0.10063360772183891, 'lr': 0.002914258582184112, 'beta': 0.999914680382652}. Best is trial 15 with value: 0.41949721577879523.\n"
     ]
    },
    {
     "name": "stdout",
     "output_type": "stream",
     "text": [
      "Stopping training early at 209/1000 epochs.\n",
      "Finished training.\n",
      "Using device: cuda\n",
      "Double check which dataset is being used.\n",
      "32\n",
      "32\n",
      "number of samples per classes (train) = [96912, 2986]\n",
      "number of samples per classes (val) = [97405, 2595]\n",
      "Starting training with 1000 epochs.\n"
     ]
    },
    {
     "name": "stderr",
     "output_type": "stream",
     "text": [
      "[I 2024-05-21 11:29:07,230] Trial 93 finished with value: 0.25901352927861426 and parameters: {'hidden_channels': 10, 'dropout': 0.10344248351746664, 'lr': 0.0022750786071933254, 'beta': 0.9999186617035627}. Best is trial 15 with value: 0.41949721577879523.\n"
     ]
    },
    {
     "name": "stdout",
     "output_type": "stream",
     "text": [
      "Stopping training early at 569/1000 epochs.\n",
      "Finished training.\n",
      "Using device: cuda\n",
      "Double check which dataset is being used.\n",
      "32\n",
      "32\n",
      "number of samples per classes (train) = [96912, 2986]\n",
      "number of samples per classes (val) = [97405, 2595]\n",
      "Starting training with 1000 epochs.\n"
     ]
    },
    {
     "name": "stderr",
     "output_type": "stream",
     "text": [
      "[I 2024-05-21 11:31:56,052] Trial 94 finished with value: 0.340545673981228 and parameters: {'hidden_channels': 10, 'dropout': 0.1860409421730309, 'lr': 0.0024628584709661147, 'beta': 0.9999180936491922}. Best is trial 15 with value: 0.41949721577879523.\n"
     ]
    },
    {
     "name": "stdout",
     "output_type": "stream",
     "text": [
      "Stopping training early at 762/1000 epochs.\n",
      "Finished training.\n",
      "Using device: cuda\n",
      "Double check which dataset is being used.\n",
      "32\n",
      "32\n",
      "number of samples per classes (train) = [96912, 2986]\n",
      "number of samples per classes (val) = [97405, 2595]\n",
      "Starting training with 1000 epochs.\n"
     ]
    },
    {
     "name": "stderr",
     "output_type": "stream",
     "text": [
      "[I 2024-05-21 11:32:59,326] Trial 95 finished with value: 0.15268304174802574 and parameters: {'hidden_channels': 10, 'dropout': 0.11972568281964414, 'lr': 0.002852315575892619, 'beta': 0.9999077028583311}. Best is trial 15 with value: 0.41949721577879523.\n"
     ]
    },
    {
     "name": "stdout",
     "output_type": "stream",
     "text": [
      "Stopping training early at 272/1000 epochs.\n",
      "Finished training.\n",
      "Using device: cuda\n",
      "Double check which dataset is being used.\n",
      "32\n",
      "32\n",
      "number of samples per classes (train) = [96912, 2986]\n",
      "number of samples per classes (val) = [97405, 2595]\n",
      "Starting training with 1000 epochs.\n"
     ]
    },
    {
     "name": "stderr",
     "output_type": "stream",
     "text": [
      "[I 2024-05-21 11:34:47,646] Trial 96 finished with value: 0.3279019326253377 and parameters: {'hidden_channels': 10, 'dropout': 0.10362119056407125, 'lr': 0.0026960406963533563, 'beta': 0.9999106415001904}. Best is trial 15 with value: 0.41949721577879523.\n"
     ]
    },
    {
     "name": "stdout",
     "output_type": "stream",
     "text": [
      "Stopping training early at 453/1000 epochs.\n",
      "Finished training.\n",
      "Using device: cuda\n",
      "Double check which dataset is being used.\n",
      "32\n",
      "32\n",
      "number of samples per classes (train) = [96912, 2986]\n",
      "number of samples per classes (val) = [97405, 2595]\n",
      "Starting training with 1000 epochs.\n"
     ]
    },
    {
     "name": "stderr",
     "output_type": "stream",
     "text": [
      "[I 2024-05-21 11:37:33,569] Trial 97 finished with value: 0.3427927833468514 and parameters: {'hidden_channels': 10, 'dropout': 0.18084717095385539, 'lr': 0.002463396005834992, 'beta': 0.9999094503137773}. Best is trial 15 with value: 0.41949721577879523.\n"
     ]
    },
    {
     "name": "stdout",
     "output_type": "stream",
     "text": [
      "Stopping training early at 723/1000 epochs.\n",
      "Finished training.\n",
      "Using device: cuda\n",
      "Double check which dataset is being used.\n",
      "32\n",
      "32\n",
      "number of samples per classes (train) = [96912, 2986]\n",
      "number of samples per classes (val) = [97405, 2595]\n",
      "Starting training with 1000 epochs.\n"
     ]
    },
    {
     "name": "stderr",
     "output_type": "stream",
     "text": [
      "[I 2024-05-21 11:41:01,197] Trial 98 finished with value: 0.4311300914983689 and parameters: {'hidden_channels': 10, 'dropout': 0.16902364913149934, 'lr': 0.001064540424103377, 'beta': 0.9999166004627392}. Best is trial 98 with value: 0.4311300914983689.\n"
     ]
    },
    {
     "name": "stdout",
     "output_type": "stream",
     "text": [
      "Finished training.\n",
      "Using device: cuda\n",
      "Double check which dataset is being used.\n",
      "32\n",
      "32\n",
      "number of samples per classes (train) = [96912, 2986]\n",
      "number of samples per classes (val) = [97405, 2595]\n",
      "Starting training with 1000 epochs.\n"
     ]
    },
    {
     "name": "stderr",
     "output_type": "stream",
     "text": [
      "[I 2024-05-21 11:41:29,335] Trial 99 finished with value: 0.0 and parameters: {'hidden_channels': 10, 'dropout': 0.1711882596852556, 'lr': 0.0010128217422214082, 'beta': 0.9999168466832083}. Best is trial 98 with value: 0.4311300914983689.\n"
     ]
    },
    {
     "name": "stdout",
     "output_type": "stream",
     "text": [
      "Stopping training early at 115/1000 epochs.\n",
      "Finished training.\n",
      "Best model saved to best_model.pkl\n"
     ]
    }
   ],
   "source": [
    "import optuna\n",
    "import joblib\n",
    "\n",
    "# Best result found:\n",
    "# acc = 0.81\n",
    "# 'hidden_channels': 40, 'dropout': 0.12494751056760699, 'lr': 0.007997224211163154, 'epochs': 4200, 'beta': 0.9166784968106625\n",
    "\n",
    "# hyperparameters = {'hidden_channels': 10,\n",
    "#                    'num_heads': 2,\n",
    "#                     'dropout': 0.15,\n",
    "#                     'lr': 0.002,\n",
    "#                     'epochs': 1000,\n",
    "#                     'beta': 0.99991,\n",
    "#                     'seed':1}\n",
    "\n",
    "def objective(trial):\n",
    "    hyperparameters = {'hidden_channels': trial.suggest_int('hidden_channels', 10, 15, step=5),\n",
    "                   'num_heads': 3,\n",
    "                    'dropout': trial.suggest_float('dropout', 0.1, 0.2),\n",
    "                    'lr': trial.suggest_float('lr', 0.001, 0.003),\n",
    "                    'epochs': 1000,\n",
    "                    'beta': trial.suggest_float('beta', 0.9999, 0.99992)}\n",
    "    \n",
    "    model, _, _, _, _, _, _, _, fbeta = train_GAT_GraphSVX_foroptuna(dataset_name, hyperparameters, verbose = False)\n",
    "    \n",
    "    trial.set_user_attr('model', model)\n",
    "    \n",
    "    return fbeta\n",
    "\n",
    "best_model = [None]\n",
    "def save_best_model_callback(study, trial):\n",
    "    if study.best_trial == trial:\n",
    "        best_model[0] = trial.user_attrs['model']\n",
    "\n",
    "study = optuna.create_study(direction = 'maximize')\n",
    "study.optimize(objective, n_trials = 100, callbacks=[save_best_model_callback])\n",
    "\n",
    "best_model_path = 'best_model.pkl'\n",
    "joblib.dump(best_model[0], best_model_path)\n",
    "print(f\"Best model saved to {best_model_path}\")"
   ]
  },
  {
   "cell_type": "code",
   "execution_count": 40,
   "metadata": {},
   "outputs": [
    {
     "name": "stdout",
     "output_type": "stream",
     "text": [
      "Best value: 0.4311300914983689 (params: {'hidden_channels': 10, 'dropout': 0.16902364913149934, 'lr': 0.001064540424103377, 'beta': 0.9999166004627392})\n"
     ]
    }
   ],
   "source": [
    "print(f\"Best value: {study.best_value} (params: {study.best_params})\")"
   ]
  },
  {
   "cell_type": "code",
   "execution_count": 41,
   "metadata": {},
   "outputs": [
    {
     "name": "stderr",
     "output_type": "stream",
     "text": [
      "/tmp/ipykernel_932452/2348212762.py:1: ExperimentalWarning: plot_optimization_history is experimental (supported from v2.2.0). The interface can change in the future.\n",
      "  optuna.visualization.matplotlib.plot_optimization_history(study)\n",
      "/tmp/ipykernel_932452/2348212762.py:2: ExperimentalWarning: plot_param_importances is experimental (supported from v2.2.0). The interface can change in the future.\n",
      "  optuna.visualization.matplotlib.plot_param_importances(study)\n",
      "/tmp/ipykernel_932452/2348212762.py:3: ExperimentalWarning: plot_slice is experimental (supported from v2.2.0). The interface can change in the future.\n",
      "  optuna.visualization.matplotlib.plot_slice(study)\n"
     ]
    },
    {
     "data": {
      "text/plain": [
       "array([<Axes: xlabel='beta', ylabel='Objective Value'>,\n",
       "       <Axes: xlabel='dropout'>, <Axes: xlabel='hidden_channels'>,\n",
       "       <Axes: xlabel='lr'>], dtype=object)"
      ]
     },
     "execution_count": 41,
     "metadata": {},
     "output_type": "execute_result"
    },
    {
     "data": {
      "image/png": "[encoded data removed]",
      "text/plain": [
       "<Figure size 640x480 with 1 Axes>"
      ]
     },
     "metadata": {},
     "output_type": "display_data"
    },
    {
     "data": {
      "image/png": "[encoded data removed]",
      "text/plain": [
       "<Figure size 640x480 with 1 Axes>"
      ]
     },
     "metadata": {},
     "output_type": "display_data"
    },
    {
     "data": {
      "image/png": "[encoded data removed]",
      "text/plain": [
       "<Figure size 1280x480 with 5 Axes>"
      ]
     },
     "metadata": {},
     "output_type": "display_data"
    }
   ],
   "source": [
    "optuna.visualization.matplotlib.plot_optimization_history(study)\n",
    "optuna.visualization.matplotlib.plot_param_importances(study)\n",
    "optuna.visualization.matplotlib.plot_slice(study)"
   ]
  },
  {
   "cell_type": "code",
   "execution_count": 13,
   "metadata": {},
   "outputs": [],
   "source": [
    "from torch_geometric.nn import GCNConv, SAGEConv, GINEConv, GATConv, BatchNorm, Linear\n",
    "import torch\n",
    "\n",
    "class GAT_GraphSVX(torch.nn.Module):\n",
    "    def __init__(self, in_channels, hidden_channels, out_channels, num_heads, dropout=0.3):\n",
    "        super(GAT_GraphSVX, self).__init__()\n",
    "        self.in_channels = in_channels\n",
    "        self.out_channels = out_channels\n",
    "        self.dropout = dropout\n",
    "        self.MLP_pre1 = torch.nn.Linear(in_channels, in_channels)\n",
    "        self.MLP_pre2 = torch.nn.Linear(in_channels, in_channels)\n",
    "        self.conv1 = GATConv(in_channels, hidden_channels, heads=num_heads, dropout=dropout)\n",
    "        self.conv2 = GATConv(hidden_channels * num_heads, hidden_channels, heads=num_heads, dropout=dropout)\n",
    "        self.conv3 = GATConv(hidden_channels * num_heads, hidden_channels, heads=1, concat = False, dropout=dropout)\n",
    "        self.MLP_post1 = torch.nn.Linear(hidden_channels, hidden_channels)\n",
    "        self.MLP_post2 = torch.nn.Linear(hidden_channels, out_channels)\n",
    "        self.log_softmax = torch.nn.LogSoftmax(dim=1)\n",
    "        self.return_attention_weights = False\n",
    "    \n",
    "    def set_return_attention_weights(self, return_attention_weights):\n",
    "        if return_attention_weights == True or return_attention_weights == False:\n",
    "            self.return_attention_weights = return_attention_weights\n",
    "        else:\n",
    "            raise ValueError('return_attention_weights must be either True or False')\n",
    "\n",
    "\n",
    "    def forward(self, x, edge_index):\n",
    "        # Pre processing layers\n",
    "        x = self.MLP_pre1(x)\n",
    "        x = self.MLP_pre2(x)\n",
    "        \n",
    "        # GNN layers\n",
    "        x, attention_weights1 = self.conv1(x, edge_index, return_attention_weights=True)\n",
    "        x = F.elu(x)\n",
    "        x = F.dropout(x, p=self.dropout, training=self.training)\n",
    "        x, attention_weights2 = self.conv2(x, edge_index, return_attention_weights=True)\n",
    "        x = F.elu(x)\n",
    "        x = F.dropout(x, p=self.dropout, training=self.training)\n",
    "        x, attention_weights3 = self.conv3(x, edge_index, return_attention_weights=True)\n",
    "        \n",
    "        # Post processing layers\n",
    "        x = self.MLP_post1(x)\n",
    "        x = self.MLP_post2(x)\n",
    "        \n",
    "        # Activation function\n",
    "        x = self.log_softmax(x) #<--- need to use NLLLoss\n",
    "        \n",
    "        if self.return_attention_weights:\n",
    "            return x, attention_weights1, attention_weights2, attention_weights3\n",
    "        else:\n",
    "            return x\n",
    "    \n",
    "    # Adaption for Node Feature Vector (NFV) input\n",
    "    def set_test_data(self, testdata):\n",
    "        self.testdata = testdata\n",
    "    \n",
    "    def set_node_to_explain(self, node_to_explain):\n",
    "        self.node_to_explain = node_to_explain\n",
    "    \n",
    "    def forward_NFVinput(self, node_feature_vec):\n",
    "        print('Starting forward_LIME...')\n",
    "        num_nodes = self.testdata.x.shape[0]\n",
    "        \n",
    "        node_feature_vec = node_feature_vec.reshape(-1,self.in_channels)\n",
    "        num_samples = node_feature_vec.shape[0]\n",
    "        out = torch.zeros((num_samples,2))\n",
    "        print(f'Number of samples = {num_samples}')\n",
    "        \n",
    "        data_list = []\n",
    "        \n",
    "        print('Loading data...')\n",
    "        for i in range(num_samples):\n",
    "            new_graph = copy.deepcopy(self.testdata)\n",
    "            new_graph.x[self.node_to_explain,:] = node_feature_vec[i,:]\n",
    "            data_list.append(new_graph)\n",
    "        print(f'number of graphs = {len(data_list)}')\n",
    "        \n",
    "        print('Loading data into a single batch...')\n",
    "        #dataset = CustomDataset(data_list)\n",
    "        batch = torch_geometric.data.Batch.from_data_list(data_list)\n",
    "        \n",
    "        print('Starting forward pass...')\n",
    "        with torch.no_grad():\n",
    "            out_tmp = self.forward(batch.x, batch.edge_index).exp()\n",
    "        \n",
    "        print(f'out_tmp.shape = {out_tmp.shape}')\n",
    "        print('Extracting output...')\n",
    "        for i in range(batch.num_graphs):\n",
    "            out[i] = out_tmp[self.node_to_explain+i*num_nodes,:]\n",
    "            \n",
    "        print('Finished.')\n",
    "\n",
    "        return out"
   ]
  },
  {
   "cell_type": "code",
   "execution_count": 14,
   "metadata": {},
   "outputs": [],
   "source": [
    "def train_GAT_GraphSVX(hyperparameters = None, verbose = False):\n",
    "    # Computing device\n",
    "    device = torch.device('cuda' if torch.cuda.is_available() else 'cpu')\n",
    "    print(f'Using device: {device}')\n",
    "    print('Double check which dataset is being used.')\n",
    "    \n",
    "    # Data\n",
    "    traindata = data.AmlsimDataset(node_file='data/simulation3/swedbank/train/nodes.csv', edge_file='data/simulation3/swedbank/train/edges.csv', node_features=True, node_labels=True).get_data()\n",
    "    testdata = data.AmlsimDataset(node_file='data/simulation3/swedbank/test/nodes.csv', edge_file='data/simulation3/swedbank/test/edges.csv', node_features=True, node_labels=True).get_data()\n",
    "    traindata = torch_geometric.transforms.ToUndirected()(traindata)\n",
    "    testdata = torch_geometric.transforms.ToUndirected()(testdata)\n",
    "    feature_names = ['sum','mean','median','std','max','min','in_degree','out_degree','n_unique_in','n_unique_out']\n",
    "    target_names = ['not_sar','is_sar']\n",
    "    \n",
    "    # --- Add preprocessing here ---\n",
    "    \n",
    "    traindata = traindata.to(device)\n",
    "    testdata = testdata.to(device)\n",
    "    \n",
    "    # Non-tunable hyperparameters\n",
    "    in_channels = traindata.x.shape[1]\n",
    "    out_channels = 2\n",
    "    \n",
    "    # Tunable hyperparamters\n",
    "    hidden_channels = 10\n",
    "    num_heads = 3\n",
    "    dropout = 0.3\n",
    "    lr = 0.005\n",
    "    epochs = 400\n",
    "    class_weights = [1, 3]\n",
    "    \n",
    "    class_weights = torch.tensor(class_weights, dtype=torch.float32).to(device)\n",
    "    \n",
    "    # Model\n",
    "    model = GAT_GraphSVX(in_channels=in_channels,\n",
    "                        hidden_channels=hidden_channels,\n",
    "                        out_channels=out_channels,\n",
    "                        num_heads=num_heads,\n",
    "                        dropout=dropout)\n",
    "    \n",
    "    model = model.to(device)\n",
    "    \n",
    "    # Criterion and optimizer\n",
    "    criterion = torch.nn.NLLLoss(weight=class_weights)\n",
    "    optimizer = torch.optim.Adam(model.parameters(), lr=lr)\n",
    "    \n",
    "    # Train model\n",
    "    print(f'Starting training with {epochs} epochs.')\n",
    "    # This model needs special input format, so we can't use the train_model function\n",
    "    for epoch in range(epochs):\n",
    "        model.train()\n",
    "        optimizer.zero_grad()\n",
    "        out = model.forward(traindata.x, traindata.edge_index)\n",
    "        loss = criterion(out, traindata.y)\n",
    "        loss.backward()\n",
    "        optimizer.step()\n",
    "        if verbose and ((epoch+1)%10 == 0 or epoch == epochs-1):\n",
    "            model.eval()\n",
    "            with torch.no_grad():\n",
    "                out = model.forward(testdata.x, testdata.edge_index)\n",
    "                loss = criterion(out, testdata.y)\n",
    "                precision = precision_score(testdata.y.cpu().numpy(), out.cpu().numpy().argmax(axis=1), zero_division=0)\n",
    "                recall = recall_score(testdata.y.cpu().numpy(), out.cpu().numpy().argmax(axis=1), zero_division=0)\n",
    "                print(f'epoch: {epoch + 1}, loss: {loss:.4f}, precision: {precision:.4f}, recall: {recall:.4f}')\n",
    "    print('Finished training.')\n",
    "    \n",
    "    return model, traindata, testdata, feature_names, target_names"
   ]
  },
  {
   "cell_type": "code",
   "execution_count": 15,
   "metadata": {},
   "outputs": [
    {
     "name": "stdout",
     "output_type": "stream",
     "text": [
      "Using device: cuda\n",
      "Double check which dataset is being used.\n",
      "Starting training with 400 epochs.\n",
      "epoch: 10, loss: 27.1826, precision: 0.0682, recall: 0.3770\n",
      "epoch: 20, loss: 13.0339, precision: 0.1443, recall: 0.3885\n",
      "epoch: 30, loss: 2.4645, precision: 0.1389, recall: 0.4345\n",
      "epoch: 40, loss: 10.2796, precision: 0.0893, recall: 0.9954\n",
      "epoch: 50, loss: 0.8300, precision: 0.0769, recall: 0.1931\n",
      "epoch: 60, loss: 1.9467, precision: 0.0000, recall: 0.0000\n",
      "epoch: 70, loss: 1.0454, precision: 0.1062, recall: 0.6782\n",
      "epoch: 80, loss: 1.0321, precision: 0.0947, recall: 0.9586\n",
      "epoch: 90, loss: 1.1073, precision: 0.0888, recall: 0.9632\n",
      "epoch: 100, loss: 0.8257, precision: 0.0910, recall: 0.8437\n",
      "epoch: 110, loss: 1.0332, precision: 0.0897, recall: 1.0000\n",
      "epoch: 120, loss: 1.1550, precision: 0.0890, recall: 0.9816\n",
      "epoch: 130, loss: 0.8288, precision: 0.0922, recall: 0.8414\n",
      "epoch: 140, loss: 0.8739, precision: 0.0889, recall: 0.8575\n",
      "epoch: 150, loss: 1.1634, precision: 0.0897, recall: 1.0000\n",
      "epoch: 160, loss: 0.8579, precision: 0.0907, recall: 0.8713\n",
      "epoch: 170, loss: 0.9192, precision: 0.0897, recall: 0.9149\n",
      "epoch: 180, loss: 1.1289, precision: 0.0892, recall: 0.9586\n",
      "epoch: 190, loss: 0.9062, precision: 0.0879, recall: 0.8897\n",
      "epoch: 200, loss: 1.7290, precision: 0.0894, recall: 1.0000\n",
      "epoch: 210, loss: 0.7980, precision: 0.1008, recall: 0.8092\n",
      "epoch: 220, loss: 0.8815, precision: 0.0799, recall: 0.1931\n",
      "epoch: 230, loss: 0.9000, precision: 0.0888, recall: 0.8897\n",
      "epoch: 240, loss: 0.9836, precision: 0.0887, recall: 0.9448\n",
      "epoch: 250, loss: 0.8426, precision: 0.0886, recall: 0.8299\n",
      "epoch: 260, loss: 1.2239, precision: 0.0894, recall: 1.0000\n",
      "epoch: 270, loss: 1.1980, precision: 0.0892, recall: 0.9977\n",
      "epoch: 280, loss: 0.8143, precision: 0.0909, recall: 0.5839\n",
      "epoch: 290, loss: 1.1263, precision: 0.0892, recall: 0.9977\n",
      "epoch: 300, loss: 1.4311, precision: 0.0894, recall: 1.0000\n",
      "epoch: 310, loss: 0.9184, precision: 0.0849, recall: 0.3103\n",
      "epoch: 320, loss: 0.7726, precision: 0.0954, recall: 0.6966\n",
      "epoch: 330, loss: 0.8601, precision: 0.0973, recall: 0.9540\n",
      "epoch: 340, loss: 1.1090, precision: 0.0885, recall: 0.9517\n",
      "epoch: 350, loss: 1.1540, precision: 0.0892, recall: 0.9954\n",
      "epoch: 360, loss: 0.9137, precision: 0.0899, recall: 0.9724\n",
      "epoch: 370, loss: 1.6697, precision: 0.0894, recall: 1.0000\n",
      "epoch: 380, loss: 0.9822, precision: 0.0898, recall: 0.9655\n",
      "epoch: 390, loss: 1.1591, precision: 0.0895, recall: 0.9977\n",
      "epoch: 400, loss: 1.0110, precision: 0.0891, recall: 0.9724\n",
      "Finished training.\n"
     ]
    }
   ],
   "source": [
    "model, traindata, testdata, feature_names, target_names = train_GAT_GraphSVX(verbose=True)"
   ]
  },
  {
   "cell_type": "code",
   "execution_count": 31,
   "metadata": {},
   "outputs": [
    {
     "name": "stdout",
     "output_type": "stream",
     "text": [
      "32\n"
     ]
    }
   ],
   "source": [
    "a = ['account','bank','sum','mean','median','std','max','min','in_sum','out_sum','in_mean','out_mean','in_median','out_median','in_std','out_std','in_max','out_max','in_min','out_min','count_in','count_out','count_days_in_bank','count_phone_changes','sum_spending','mean_spending','median_spending','std_spending','max_spending','min_spending','count_spending','is_sar']\n",
    "print(len(a ))"
   ]
  },
  {
   "cell_type": "code",
   "execution_count": 33,
   "metadata": {},
   "outputs": [
    {
     "name": "stdout",
     "output_type": "stream",
     "text": [
      "34\n"
     ]
    }
   ],
   "source": [
    "b = ['account','bank','sum','in_sum','out_sum','mean','in_mean','out_mean','median','in_median','out_median','std','in_std','out_std','max','in_max','out_max','min','in_min','out_min','count_in','count_out','unique_in','unique_out','count_days_in_bank','count_phone_changes','sum_spending','mean_spending','median_spending','std_spending','max_spending','min_spending','count_spending','is_sar']\n",
    "print(len(b))"
   ]
  },
  {
   "cell_type": "code",
   "execution_count": 44,
   "metadata": {},
   "outputs": [
    {
     "name": "stdout",
     "output_type": "stream",
     "text": [
      "True\n"
     ]
    },
    {
     "ename": "AttributeError",
     "evalue": "'NoneType' object has no attribute 'eval'",
     "output_type": "error",
     "traceback": [
      "\u001b[0;31m---------------------------------------------------------------------------\u001b[0m",
      "\u001b[0;31mAttributeError\u001b[0m                            Traceback (most recent call last)",
      "Cell \u001b[0;32mIn[44], line 10\u001b[0m\n\u001b[1;32m      6\u001b[0m \u001b[38;5;28;01mimport\u001b[39;00m \u001b[38;5;21;01mnumpy\u001b[39;00m \u001b[38;5;28;01mas\u001b[39;00m \u001b[38;5;21;01mnp\u001b[39;00m\n\u001b[1;32m      8\u001b[0m \u001b[38;5;28mprint\u001b[39m(best_model \u001b[38;5;241m==\u001b[39m \u001b[38;5;28;01mNone\u001b[39;00m)\n\u001b[0;32m---> 10\u001b[0m \u001b[43mbest_model\u001b[49m\u001b[38;5;241;43m.\u001b[39;49m\u001b[43meval\u001b[49m()\n\u001b[1;32m     11\u001b[0m \u001b[38;5;28;01mwith\u001b[39;00m torch\u001b[38;5;241m.\u001b[39mno_grad():\n\u001b[1;32m     12\u001b[0m     out \u001b[38;5;241m=\u001b[39m best_model\u001b[38;5;241m.\u001b[39mforward(testdata\u001b[38;5;241m.\u001b[39mx, testdata\u001b[38;5;241m.\u001b[39medge_index)\n",
      "\u001b[0;31mAttributeError\u001b[0m: 'NoneType' object has no attribute 'eval'"
     ]
    }
   ],
   "source": [
    "# Load model from optuna and check results\n",
    "best_model_path = 'best_model.pkl'\n",
    "best_model = joblib.load(best_model_path)\n",
    "\n",
    "from sklearn.metrics import confusion_matrix\n",
    "import numpy as np\n",
    "\n",
    "print(best_model == None)\n",
    "\n",
    "best_model.eval()\n",
    "with torch.no_grad():\n",
    "    out = best_model.forward(testdata.x, testdata.edge_index)\n",
    "    out = F.softmax(out, dim=1)\n",
    "    y_pred = out.cpu().numpy().argmax(axis=1)\n",
    "    y_true = testdata.y.cpu().numpy()\n",
    "    cm = confusion_matrix(y_true, y_pred)\n",
    "    print(cm)\n",
    "\n",
    "FPpercent = cm[0,1] / (cm[1,1] + cm[0,1])\n",
    "print(FPpercent)\n",
    "\n",
    "# Todo: precision recall curve\n",
    "precision, recall, thresholds = precision_recall_curve(y_true, out[:,1].cpu().numpy())\n",
    "average_precision = average_precision_score(y_true, out[:,1].cpu().numpy())\n",
    "\n",
    "print(f'Average Precision = {average_precision}')\n",
    "\n",
    "# print(thresholds)\n",
    "# print(len(thresholds))\n",
    "\n",
    "plt.plot(recall, precision)\n",
    "plt.xlabel('Recall')\n",
    "plt.ylabel('Precision')\n",
    "plt.show()"
   ]
  }
 ],
 "metadata": {
  "kernelspec": {
   "display_name": "EXPLORERvenv",
   "language": "python",
   "name": "python3"
  },
  "language_info": {
   "codemirror_mode": {
    "name": "ipython",
    "version": 3
   },
   "file_extension": ".py",
   "mimetype": "text/x-python",
   "name": "python",
   "nbconvert_exporter": "python",
   "pygments_lexer": "ipython3",
   "version": "3.10.12"
  }
 },
 "nbformat": 4,
 "nbformat_minor": 2
}
