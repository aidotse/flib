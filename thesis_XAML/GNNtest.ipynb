{
 "cells": [
  {
   "cell_type": "code",
   "execution_count": 35,
   "metadata": {},
   "outputs": [],
   "source": [
    "from importlib import reload\n",
    "import torch\n",
    "from sklearn.metrics import precision_score, recall_score\n",
    "\n",
    "import data\n",
    "reload(data)\n",
    "from data import AmlsimDataset\n",
    "\n",
    "import modules\n",
    "reload(modules)\n",
    "from modules import GCN"
   ]
  },
  {
   "cell_type": "code",
   "execution_count": 36,
   "metadata": {},
   "outputs": [
    {
     "name": "stdout",
     "output_type": "stream",
     "text": [
      "Device: cuda\n"
     ]
    }
   ],
   "source": [
    "# Set device to GPU\n",
    "device = torch.device('cuda' if torch.cuda.is_available() else 'cpu')\n",
    "print(f\"Device: {device}\")"
   ]
  },
  {
   "cell_type": "code",
   "execution_count": 37,
   "metadata": {},
   "outputs": [],
   "source": [
    "# Load data\n",
    "traindata = AmlsimDataset(node_file='data/simulation2/swedbank/train/nodes.csv', edge_file='data/simulation2/swedbank/train/edges.csv', node_features=True, node_labels=True).get_data()\n",
    "testdata = AmlsimDataset(node_file='data/simulation2/swedbank/test/nodes.csv', edge_file='data/simulation2/swedbank/test/edges.csv', node_features=True, node_labels=True).get_data()\n",
    "traindata = traindata.to(device)\n",
    "testdata = testdata.to(device)"
   ]
  },
  {
   "cell_type": "code",
   "execution_count": 38,
   "metadata": {},
   "outputs": [],
   "source": [
    "# Normalize data\n",
    "mean = traindata.x.mean(dim=0, keepdim=True)\n",
    "std = traindata.x.std(dim=0, keepdim=True)\n",
    "traindata.x = (traindata.x - mean) / std\n",
    "testdata.x = (testdata.x - mean) / std"
   ]
  },
  {
   "cell_type": "code",
   "execution_count": 39,
   "metadata": {},
   "outputs": [
    {
     "data": {
      "text/plain": [
       "GCN(\n",
       "  (convs): ModuleList(\n",
       "    (0): GCNConv(10, 16)\n",
       "    (1): GCNConv(16, 16)\n",
       "    (2): GCNConv(16, 2)\n",
       "  )\n",
       "  (bns): ModuleList(\n",
       "    (0-1): 2 x BatchNorm1d(16, eps=1e-05, momentum=0.1, affine=True, track_running_stats=True)\n",
       "  )\n",
       "  (softmax): Softmax(dim=1)\n",
       ")"
      ]
     },
     "execution_count": 39,
     "metadata": {},
     "output_type": "execute_result"
    }
   ],
   "source": [
    "# Instantiate model\n",
    "input_dim = 10\n",
    "hidden_dim = 16\n",
    "output_dim = 2\n",
    "n_layers = 3\n",
    "dropout = 0.3\n",
    "model = GCN(input_dim, hidden_dim, output_dim, n_layers, dropout)\n",
    "model.to(device)"
   ]
  },
  {
   "cell_type": "code",
   "execution_count": 40,
   "metadata": {},
   "outputs": [
    {
     "name": "stdout",
     "output_type": "stream",
     "text": [
      "2\n"
     ]
    }
   ],
   "source": [
    "print(model.output_dim)"
   ]
  },
  {
   "cell_type": "code",
   "execution_count": 41,
   "metadata": {},
   "outputs": [],
   "source": [
    "# optimizer\n",
    "lr = 0.001\n",
    "optimizer = torch.optim.Adam(model.parameters(), lr=lr)"
   ]
  },
  {
   "cell_type": "code",
   "execution_count": 42,
   "metadata": {},
   "outputs": [],
   "source": [
    "# loss function\n",
    "weight = torch.tensor([1, 5.75], dtype=torch.float32).to(device)\n",
    "criterion = torch.nn.CrossEntropyLoss(weight = weight)"
   ]
  },
  {
   "cell_type": "code",
   "execution_count": 43,
   "metadata": {},
   "outputs": [
    {
     "name": "stdout",
     "output_type": "stream",
     "text": [
      "epoch: 10, loss: 0.6950, precision: 0.5429, recall: 0.3434\n",
      "epoch: 20, loss: 0.6907, precision: 0.6061, recall: 0.3614\n",
      "epoch: 30, loss: 0.6749, precision: 0.5620, recall: 0.4096\n",
      "epoch: 40, loss: 0.6534, precision: 0.5241, recall: 0.4578\n",
      "epoch: 50, loss: 0.6354, precision: 0.5205, recall: 0.5361\n",
      "epoch: 60, loss: 0.6186, precision: 0.4762, recall: 0.6024\n",
      "epoch: 70, loss: 0.6058, precision: 0.4542, recall: 0.6867\n",
      "epoch: 80, loss: 0.5936, precision: 0.4342, recall: 0.7349\n",
      "epoch: 90, loss: 0.5812, precision: 0.3853, recall: 0.8193\n",
      "epoch: 100, loss: 0.5760, precision: 0.3527, recall: 0.8795\n",
      "epoch: 110, loss: 0.5704, precision: 0.3182, recall: 0.9277\n",
      "epoch: 120, loss: 0.5667, precision: 0.2931, recall: 0.9940\n",
      "epoch: 130, loss: 0.5638, precision: 0.2938, recall: 1.0000\n",
      "epoch: 140, loss: 0.5603, precision: 0.2933, recall: 1.0000\n",
      "epoch: 150, loss: 0.5580, precision: 0.2933, recall: 1.0000\n",
      "epoch: 160, loss: 0.5573, precision: 0.2923, recall: 0.9880\n",
      "epoch: 170, loss: 0.5552, precision: 0.2941, recall: 0.9940\n",
      "epoch: 180, loss: 0.5533, precision: 0.2948, recall: 1.0000\n",
      "epoch: 190, loss: 0.5521, precision: 0.2959, recall: 1.0000\n",
      "epoch: 200, loss: 0.5528, precision: 0.3127, recall: 0.9759\n",
      "epoch: 210, loss: 0.5515, precision: 0.3264, recall: 0.9518\n",
      "epoch: 220, loss: 0.5507, precision: 0.3312, recall: 0.9458\n",
      "epoch: 230, loss: 0.5509, precision: 0.3264, recall: 0.9518\n",
      "epoch: 240, loss: 0.5505, precision: 0.3258, recall: 0.9518\n",
      "epoch: 250, loss: 0.5495, precision: 0.3362, recall: 0.9518\n",
      "epoch: 260, loss: 0.5492, precision: 0.3369, recall: 0.9518\n",
      "epoch: 270, loss: 0.5482, precision: 0.3376, recall: 0.9458\n",
      "epoch: 280, loss: 0.5475, precision: 0.3407, recall: 0.9337\n",
      "epoch: 290, loss: 0.5461, precision: 0.3453, recall: 0.9277\n",
      "epoch: 300, loss: 0.5452, precision: 0.3429, recall: 0.9337\n"
     ]
    }
   ],
   "source": [
    "for epoch in range(300):\n",
    "    model.train()\n",
    "    optimizer.zero_grad()\n",
    "    out = model(traindata)\n",
    "    loss = criterion(out, traindata.y)\n",
    "    loss.backward()\n",
    "    optimizer.step()\n",
    "    if (epoch + 1) % 10 == 0:\n",
    "        model.eval()\n",
    "        with torch.no_grad():\n",
    "            out = model(testdata)\n",
    "            loss = criterion(out, testdata.y)\n",
    "            precision = precision_score(testdata.y.cpu().numpy(), out.cpu().numpy().argmax(axis=1), zero_division=0)\n",
    "            recall = recall_score(testdata.y.cpu().numpy(), out.cpu().numpy().argmax(axis=1), zero_division=0)\n",
    "            print(f'epoch: {epoch + 1}, loss: {loss:.4f}, precision: {precision:.4f}, recall: {recall:.4f}')"
   ]
  },
  {
   "cell_type": "code",
   "execution_count": 45,
   "metadata": {},
   "outputs": [
    {
     "name": "stdout",
     "output_type": "stream",
     "text": [
      "[[103 297]\n",
      " [ 11 155]]\n",
      "Number ground truth labels equal to 0: 400\n",
      "Number ground truth labels equal to 1: 166\n",
      "recall = 0.9337349397590361\n",
      "False positive rate = 0.7425\n"
     ]
    }
   ],
   "source": [
    "from sklearn.metrics import confusion_matrix\n",
    "import numpy as np\n",
    "\n",
    "model.eval()\n",
    "with torch.no_grad():\n",
    "    out = model(testdata)\n",
    "    y_pred = out.cpu().numpy().argmax(axis=1)\n",
    "    y_true = testdata.y.cpu().numpy()\n",
    "    cm = confusion_matrix(y_true, y_pred)\n",
    "    print(cm)\n",
    "\n",
    "label_0_count = np.count_nonzero(y_true == 0)\n",
    "label_1_count = np.count_nonzero(y_true == 1)\n",
    "print(f\"Number ground truth labels equal to 0: {label_0_count}\")\n",
    "print(f\"Number ground truth labels equal to 1: {label_1_count}\")\n",
    "\n",
    "print(f\"recall = {cm[1, 1] / label_1_count}\")\n",
    "print(f\"False positive rate = {cm[0, 1] / label_0_count}\")"
   ]
  },
  {
   "cell_type": "code",
   "execution_count": null,
   "metadata": {},
   "outputs": [],
   "source": []
  }
 ],
 "metadata": {
  "kernelspec": {
   "display_name": "EXPLORERvenv",
   "language": "python",
   "name": "python3"
  },
  "language_info": {
   "codemirror_mode": {
    "name": "ipython",
    "version": 3
   },
   "file_extension": ".py",
   "mimetype": "text/x-python",
   "name": "python",
   "nbconvert_exporter": "python",
   "pygments_lexer": "ipython3",
   "version": "3.10.12"
  }
 },
 "nbformat": 4,
 "nbformat_minor": 2
}
